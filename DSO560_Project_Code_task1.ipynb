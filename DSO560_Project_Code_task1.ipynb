{
  "cells": [
    {
      "cell_type": "markdown",
      "metadata": {
        "id": "86RUHTeYSvd9"
      },
      "source": [
        "GOAL:\n",
        "\n",
        "1. Classification - Toxicity\n",
        "  - This is completed in two steps\n",
        "    - Step 1: Classifying if the comment is toxic or not\n",
        "    - Step 2: If the comment is toxic, classify it on the basis of its toxicity into low, moderate or high\n",
        "\n",
        "Process:\n",
        "1. Reading in the data [Sampled data in this case]\n",
        "2. EDA\n",
        "3. Apply Pre-processing techniques\n",
        "4. Using TFIDF vector to classify if the comment is toxic or not\n",
        "5. Using Keras DNN and TFIDF to classify the toxic comments on the basis of their toxicity\n",
        "\n"
      ]
    },
    {
      "cell_type": "code",
      "execution_count": null,
      "metadata": {
        "id": "73BqqjcpQV7N"
      },
      "outputs": [],
      "source": [
        "import pandas as pd\n",
        "import numpy as np\n",
        "import math\n",
        "import io\n",
        "from tqdm import tqdm\n",
        "tqdm.pandas()"
      ]
    },
    {
      "cell_type": "code",
      "execution_count": null,
      "metadata": {
        "colab": {
          "base_uri": "https://localhost:8080/"
        },
        "id": "jygvHdgtMcDg",
        "outputId": "d426cc8c-82ac-42d6-882f-e4249918ac68"
      },
      "outputs": [
        {
          "output_type": "stream",
          "name": "stdout",
          "text": [
            "Mounted at /content/drive\n"
          ]
        }
      ],
      "source": [
        "from google.colab import drive\n",
        "drive.mount('/content/drive')"
      ]
    },
    {
      "cell_type": "code",
      "execution_count": null,
      "metadata": {
        "id": "62LzIGfiMimJ"
      },
      "outputs": [],
      "source": [
        "# We created a sampled data, reading in the sample data\n",
        "# Before running this, select \"Add shortcut to Drive\" under the 'NLP Project' folder options\n",
        "data_train = pd.read_csv('/content/drive/My Drive/NLP Project/data_train_sampled.csv')\n",
        "data_test = pd.read_csv('/content/drive/My Drive/NLP Project/data_test_sampled.csv')"
      ]
    },
    {
      "cell_type": "code",
      "execution_count": null,
      "metadata": {
        "colab": {
          "base_uri": "https://localhost:8080/"
        },
        "id": "scXDnxqxQUs_",
        "outputId": "2f0c34b5-04e3-4eeb-dcd4-d89c6ee56348"
      },
      "outputs": [
        {
          "output_type": "stream",
          "name": "stdout",
          "text": [
            "(18049, 46)\n",
            "(1946, 46)\n"
          ]
        }
      ],
      "source": [
        "#looking at the number of records for both datasets\n",
        "print(data_train.shape)\n",
        "print(data_test.shape)"
      ]
    },
    {
      "cell_type": "code",
      "execution_count": null,
      "metadata": {
        "id": "0zn4WBL0RFlT"
      },
      "outputs": [],
      "source": [
        "#only picking in relevant columns from the dataset\n",
        "data_train = data_train[['id','comment_text','toxicity']]\n",
        "data_test = data_test[['id','comment_text','toxicity']]"
      ]
    },
    {
      "cell_type": "code",
      "execution_count": null,
      "metadata": {
        "id": "ls9myrPgvTZk"
      },
      "outputs": [],
      "source": [
        "# To create a label class - toxic or non-toxic\n",
        "binning_options_label = dict(\n",
        "      bins = [0,0.25,2], \n",
        "      include_lowest = True, \n",
        "      right = False, \n",
        "      labels = list(range(2))\n",
        ")\n",
        "\n",
        "# To convert continuos Toxicity into Bins - -1 for non-toxic, we will only use this to filter data, 0,1,2 to for toxic indicating low medium high respectively\n",
        "binning_options_bins = dict(\n",
        "      bins = [0,0.25,0.5,0.75,2], \n",
        "      include_lowest = True, \n",
        "      right = False, \n",
        "      labels = list(range(-1,3))\n",
        ")"
      ]
    },
    {
      "cell_type": "code",
      "execution_count": null,
      "metadata": {
        "id": "eLQSOPZRRqtf"
      },
      "outputs": [],
      "source": [
        "#applying the pd cut functions to create label columns\n",
        "data_train['toxicity_label'] = pd.cut(data_train.toxicity, **binning_options_label).astype(int)\n",
        "data_test['toxicity_label'] = pd.cut(data_test.toxicity, **binning_options_label).astype(int)\n",
        "\n",
        "data_train['toxicity_bins'] = pd.cut(data_train.toxicity, **binning_options_bins).astype(int)\n",
        "data_test['toxicity_bins'] = pd.cut(data_test.toxicity, **binning_options_bins).astype(int)"
      ]
    },
    {
      "cell_type": "markdown",
      "source": [
        "Exploratory Data Analysis"
      ],
      "metadata": {
        "id": "azWs9MLShvbd"
      }
    },
    {
      "cell_type": "code",
      "execution_count": null,
      "metadata": {
        "colab": {
          "base_uri": "https://localhost:8080/"
        },
        "id": "VvcvPh2pG47n",
        "outputId": "6cfa86af-c286-4dba-805f-df558cd30d84"
      },
      "outputs": [
        {
          "output_type": "execute_result",
          "data": {
            "text/plain": [
              "toxicity_label\n",
              "0    85.46\n",
              "1    14.54\n",
              "Name: toxicity, dtype: float64"
            ]
          },
          "metadata": {},
          "execution_count": 11
        }
      ],
      "source": [
        "#Percentage split between Toxic and Non-Toxic comments\n",
        "round(data_train.groupby(['toxicity_label'])['toxicity'].count()/data_train.shape[0]*100,2)"
      ]
    },
    {
      "cell_type": "code",
      "source": [
        "import matplotlib.pyplot as plt"
      ],
      "metadata": {
        "id": "_jN6eNcbedZl"
      },
      "execution_count": null,
      "outputs": []
    },
    {
      "cell_type": "code",
      "source": [
        "toxicity = round(data_train.groupby(['toxicity_label'])['toxicity'].count()/data_train.shape[0]*100,2)\n",
        "toxicity"
      ],
      "metadata": {
        "colab": {
          "base_uri": "https://localhost:8080/"
        },
        "id": "rHQYd7gSfN2n",
        "outputId": "fd004c96-cf7f-442e-dc58-bfd1bf0fcbdb"
      },
      "execution_count": null,
      "outputs": [
        {
          "output_type": "execute_result",
          "data": {
            "text/plain": [
              "toxicity_label\n",
              "0    85.46\n",
              "1    14.54\n",
              "Name: toxicity, dtype: float64"
            ]
          },
          "metadata": {},
          "execution_count": 23
        }
      ]
    },
    {
      "cell_type": "code",
      "source": [
        "toxicity.plot.bar()"
      ],
      "metadata": {
        "colab": {
          "base_uri": "https://localhost:8080/",
          "height": 295
        },
        "id": "V1gEBWr8e-Qb",
        "outputId": "f022258d-7a3e-451d-c578-133c6650ce53"
      },
      "execution_count": null,
      "outputs": [
        {
          "output_type": "execute_result",
          "data": {
            "text/plain": [
              "<matplotlib.axes._subplots.AxesSubplot at 0x7f798cdb9bb0>"
            ]
          },
          "metadata": {},
          "execution_count": 25
        },
        {
          "output_type": "display_data",
          "data": {
            "text/plain": [
              "<Figure size 432x288 with 1 Axes>"
            ],
            "image/png": "[encoded data removed]"
          },
          "metadata": {
            "needs_background": "light"
          }
        }
      ]
    },
    {
      "cell_type": "code",
      "source": [],
      "metadata": {
        "id": "eLWp42Ccix2n"
      },
      "execution_count": null,
      "outputs": []
    },
    {
      "cell_type": "code",
      "source": [],
      "metadata": {
        "id": "HdbtKmG8f3UU"
      },
      "execution_count": null,
      "outputs": []
    },
    {
      "cell_type": "code",
      "execution_count": null,
      "metadata": {
        "colab": {
          "base_uri": "https://localhost:8080/"
        },
        "id": "5biDFAcywmsw",
        "outputId": "8010310d-5546-4010-c1f8-15b1fed3ddec"
      },
      "outputs": [
        {
          "output_type": "execute_result",
          "data": {
            "text/plain": [
              "toxicity_bins\n",
              "-1    85.46\n",
              " 0     6.93\n",
              " 1     5.61\n",
              " 2     2.00\n",
              "Name: toxicity, dtype: float64"
            ]
          },
          "metadata": {},
          "execution_count": 9
        }
      ],
      "source": [
        "#Percentage split between Toxic- categorized by low medium high and Non-Toxic comments\n",
        "round(data_train.groupby(['toxicity_bins'])['toxicity'].count()/data_train.shape[0]*100,2)"
      ]
    },
    {
      "cell_type": "code",
      "source": [
        "#Percentage split between Toxic- categorized by low medium high comments\n",
        "round(data_train[data_train.toxicity_bins != -1].groupby(['toxicity_bins'])['toxicity'].count()/data_train[data_train.toxicity_bins != -1].shape[0]*100,2)"
      ],
      "metadata": {
        "colab": {
          "base_uri": "https://localhost:8080/"
        },
        "id": "VRUR1ttciDEw",
        "outputId": "0f512781-42a6-4bed-b3c7-f8b6f29bd199"
      },
      "execution_count": null,
      "outputs": [
        {
          "output_type": "execute_result",
          "data": {
            "text/plain": [
              "toxicity_bins\n",
              "0    47.68\n",
              "1    38.57\n",
              "2    13.76\n",
              "Name: toxicity, dtype: float64"
            ]
          },
          "metadata": {},
          "execution_count": 26
        }
      ]
    },
    {
      "cell_type": "code",
      "source": [
        "toxic_category = round(data_train[data_train.toxicity_bins != -1].groupby(['toxicity_bins'])['toxicity'].count()/data_train[data_train.toxicity_bins != -1].shape[0]*100,2)\n",
        "toxic_category"
      ],
      "metadata": {
        "colab": {
          "base_uri": "https://localhost:8080/"
        },
        "id": "RS3PpoV4i2A2",
        "outputId": "ba2d6c73-4c92-4688-b0a1-7b3d7c29ba34"
      },
      "execution_count": null,
      "outputs": [
        {
          "output_type": "execute_result",
          "data": {
            "text/plain": [
              "toxicity_bins\n",
              "0    47.68\n",
              "1    38.57\n",
              "2    13.76\n",
              "Name: toxicity, dtype: float64"
            ]
          },
          "metadata": {},
          "execution_count": 27
        }
      ]
    },
    {
      "cell_type": "code",
      "source": [
        "toxic_category.plot.bar()"
      ],
      "metadata": {
        "id": "uP04-JlYi9gp",
        "outputId": "44e311b1-7922-4ed5-d47f-2f52b567e195",
        "colab": {
          "base_uri": "https://localhost:8080/",
          "height": 298
        }
      },
      "execution_count": null,
      "outputs": [
        {
          "output_type": "execute_result",
          "data": {
            "text/plain": [
              "<matplotlib.axes._subplots.AxesSubplot at 0x7f798cbd6fd0>"
            ]
          },
          "metadata": {},
          "execution_count": 28
        },
        {
          "output_type": "display_data",
          "data": {
            "text/plain": [
              "<Figure size 432x288 with 1 Axes>"
            ],
            "image/png": "[encoded data removed]"
          },
          "metadata": {
            "needs_background": "light"
          }
        }
      ]
    },
    {
      "cell_type": "code",
      "execution_count": null,
      "metadata": {
        "colab": {
          "base_uri": "https://localhost:8080/"
        },
        "id": "pxo6KF07G8sw",
        "outputId": "58943e68-35e3-4073-aaf3-5baa235537b9"
      },
      "outputs": [
        {
          "output_type": "execute_result",
          "data": {
            "text/plain": [
              "toxicity_label\n",
              "0    84.22\n",
              "1    15.78\n",
              "Name: toxicity, dtype: float64"
            ]
          },
          "metadata": {},
          "execution_count": 11
        }
      ],
      "source": [
        "#forward look ahead on test data - not included in the presentation\n",
        "round(data_test.groupby(['toxicity_label'])['toxicity'].count()/data_test.shape[0]*100,2)"
      ]
    },
    {
      "cell_type": "code",
      "execution_count": null,
      "metadata": {
        "colab": {
          "base_uri": "https://localhost:8080/"
        },
        "id": "t861lQmjG8ks",
        "outputId": "650cf841-7292-42eb-e221-ed4c7c5ef4c7"
      },
      "outputs": [
        {
          "output_type": "execute_result",
          "data": {
            "text/plain": [
              "toxicity_bins\n",
              "-1    84.22\n",
              " 0     7.55\n",
              " 1     6.42\n",
              " 2     1.80\n",
              "Name: toxicity, dtype: float64"
            ]
          },
          "metadata": {},
          "execution_count": 12
        }
      ],
      "source": [
        "#forward look ahead on test data - not included in the presentation\n",
        "round(data_test.groupby(['toxicity_bins'])['toxicity'].count()/data_test.shape[0]*100,2)"
      ]
    },
    {
      "cell_type": "code",
      "source": [
        "#forward look ahead on test data - not included in the presentation\n",
        "round(data_test[data_test.toxicity_bins != -1].groupby(['toxicity_bins'])['toxicity'].count()/data_test[data_test.toxicity_bins != -1].shape[0]*100,2)"
      ],
      "metadata": {
        "colab": {
          "base_uri": "https://localhost:8080/"
        },
        "id": "3BDUaMlgih8T",
        "outputId": "b73449d3-10dd-4d0d-8181-439af474c3f9"
      },
      "execution_count": null,
      "outputs": [
        {
          "output_type": "execute_result",
          "data": {
            "text/plain": [
              "toxicity_bins\n",
              "0    47.88\n",
              "1    40.72\n",
              "2    11.40\n",
              "Name: toxicity, dtype: float64"
            ]
          },
          "metadata": {},
          "execution_count": 13
        }
      ]
    },
    {
      "cell_type": "markdown",
      "metadata": {
        "id": "rifPOxk9X_Wf"
      },
      "source": [
        "Data Preprocessing"
      ]
    },
    {
      "cell_type": "code",
      "execution_count": null,
      "metadata": {
        "colab": {
          "base_uri": "https://localhost:8080/"
        },
        "id": "-VFYY9pTfL4H",
        "outputId": "863c2864-71b5-45f8-b264-7d6d934f5aa3"
      },
      "outputs": [
        {
          "output_type": "stream",
          "name": "stdout",
          "text": [
            "Requirement already satisfied: MarkupSafe>=0.23 in /usr/local/lib/python3.8/dist-packages (from jinja2->spacy>=3.0.0->textacy) (2.0.1)\n"
          ]
        }
      ],
      "source": [
        "!pip install textacy | tail -1"
      ]
    },
    {
      "cell_type": "code",
      "execution_count": null,
      "metadata": {
        "colab": {
          "base_uri": "https://localhost:8080/"
        },
        "id": "XXAwTFEKLOaY",
        "outputId": "9733040a-c10f-4017-cef9-11f658fdba46"
      },
      "outputs": [
        {
          "output_type": "stream",
          "name": "stdout",
          "text": [
            "/usr/local/lib/python3.8/dist-packages/torch/cuda/__init__.py:497: UserWarning: Can't initialize NVML\n",
            "  warnings.warn(\"Can't initialize NVML\")\n",
            "2022-12-14 20:19:49.536971: E tensorflow/stream_executor/cuda/cuda_driver.cc:271] failed call to cuInit: CUDA_ERROR_NO_DEVICE: no CUDA-capable device is detected\n",
            "You can now load the package via spacy.load('en_core_web_md')\n"
          ]
        }
      ],
      "source": [
        "!python3 -m spacy download en_core_web_md | tail -1"
      ]
    },
    {
      "cell_type": "code",
      "execution_count": null,
      "metadata": {
        "colab": {
          "base_uri": "https://localhost:8080/"
        },
        "id": "njOUnH2lb4A4",
        "outputId": "0a771afc-16bb-4af3-9180-ddf2eed2d540"
      },
      "outputs": [
        {
          "output_type": "stream",
          "name": "stderr",
          "text": [
            "/usr/local/lib/python3.8/dist-packages/torch/cuda/__init__.py:497: UserWarning: Can't initialize NVML\n",
            "  warnings.warn(\"Can't initialize NVML\")\n"
          ]
        }
      ],
      "source": [
        "from gensim.parsing.preprocessing import remove_stopwords\n",
        "\n",
        "from textacy.preprocessing.replace import urls, hashtags, numbers, emails, emojis, currency_symbols\n",
        "from textacy.preprocessing.remove import punctuation\n",
        "from textacy import extract\n",
        "\n",
        "pd.set_option('max_rows', 99999)\n",
        "pd.set_option('max_colwidth', 400)\n",
        "\n",
        "import re\n",
        "from bs4 import BeautifulSoup\n",
        "\n",
        "import spacy\n",
        "import en_core_web_md\n",
        "nlp = spacy.load('en_core_web_md')"
      ]
    },
    {
      "cell_type": "code",
      "execution_count": null,
      "metadata": {
        "id": "btqdQe1_THn3"
      },
      "outputs": [],
      "source": [
        "#a function to decontract the text\n",
        "def decontracted(phrase):\n",
        "    phrase = re.sub(r\"won\\'t\", \"will not\", phrase)\n",
        "    phrase = re.sub(r\"can\\'t\", \"can not\", phrase)\n",
        "    \n",
        "    phrase = re.sub(r\"n\\'t\", \" not\", phrase)\n",
        "    phrase = re.sub(r\"\\'re\", \" are\", phrase)\n",
        "    phrase = re.sub(r\"\\'d\", \" would\", phrase)\n",
        "    phrase = re.sub(r\"\\'ll\", \" will\", phrase)\n",
        "    phrase = re.sub(r\"\\'t\", \" not\", phrase)\n",
        "    phrase = re.sub(r\"\\'ve\", \" have\", phrase)\n",
        "    phrase = re.sub(r\"\\'m\", \" am\", phrase)\n",
        "\n",
        "    phrase = re.sub(r\"n\\’t\", \" not\", phrase)\n",
        "    phrase = re.sub(r\"\\’re\", \" are\", phrase)\n",
        "    phrase = re.sub(r\"\\’s\", \" is\", phrase)\n",
        "    phrase = re.sub(r\"\\’d\", \" would\", phrase)\n",
        "    phrase = re.sub(r\"\\’ll\", \" will\", phrase)\n",
        "    phrase = re.sub(r\"\\’t\", \" not\", phrase)\n",
        "    phrase = re.sub(r\"\\’ve\", \" have\", phrase)\n",
        "    phrase = re.sub(r\"\\’m\", \" am\", phrase)\n",
        "    \n",
        "    phrase = re.sub(r\"\\r\", \" \", phrase)\n",
        "    phrase = re.sub(r\"\\n\", \" \", phrase)\n",
        "    phrase = re.sub(r'\\\"', \" \", phrase)\n",
        "\n",
        "    return phrase\n",
        "\n",
        "#a function which uses textacy to do text preprocessing\n",
        "def preprocessedtext(df):\n",
        "  df['processed_comment'] = df['comment_text'].apply(decontracted).apply(urls).apply(hashtags).apply(numbers).apply(currency_symbols).apply(emojis).apply(emails).apply(punctuation)\n",
        "  return df['processed_comment']\n"
      ]
    },
    {
      "cell_type": "code",
      "execution_count": null,
      "metadata": {
        "colab": {
          "base_uri": "https://localhost:8080/"
        },
        "id": "4FLg6T52gLXW",
        "outputId": "b02d4a6c-6ef4-4fed-df9a-adfb62887823"
      },
      "outputs": [
        {
          "output_type": "stream",
          "name": "stderr",
          "text": [
            "<ipython-input-17-7108d7c752d3>:31: SettingWithCopyWarning: \n",
            "A value is trying to be set on a copy of a slice from a DataFrame.\n",
            "Try using .loc[row_indexer,col_indexer] = value instead\n",
            "\n",
            "See the caveats in the documentation: https://pandas.pydata.org/pandas-docs/stable/user_guide/indexing.html#returning-a-view-versus-a-copy\n",
            "  df['processed_comment'] = df['comment_text'].apply(decontracted).apply(urls).apply(hashtags).apply(numbers).apply(currency_symbols).apply(emojis).apply(emails).apply(punctuation)\n"
          ]
        }
      ],
      "source": [
        "data_train['processed_comment'] = preprocessedtext(data_train[['comment_text']])\n",
        "data_test['processed_comment'] = preprocessedtext(data_test[['comment_text']])"
      ]
    },
    {
      "cell_type": "code",
      "execution_count": null,
      "metadata": {
        "id": "riol_xjgJnsG"
      },
      "outputs": [],
      "source": [
        "#a function which returns lemmatized text after stopwords removal\n",
        "def analyze_text(text):\n",
        "    doc = nlp(text)\n",
        "    doc_upd = []\n",
        "    for token in doc:\n",
        "      if not token.is_stop:\n",
        "        if token.text[0] ==\"_\":\n",
        "          doc_upd.append(token.text)\n",
        "          continue\n",
        "        doc_upd.append(token.lemma_)\n",
        "    return ' '.join(doc_upd)\n"
      ]
    },
    {
      "cell_type": "code",
      "execution_count": null,
      "metadata": {
        "id": "M5ygfxKh__5z"
      },
      "outputs": [],
      "source": [
        "#a function which returns text after named entity removal\n",
        "def replace_ner(text):\n",
        "    clean_text = text\n",
        "    doc = nlp(text)\n",
        "    for ent in reversed(doc.ents):\n",
        "        clean_text = clean_text[:ent.start_char] + \"_\" + ent.label_ + \"_ \" + clean_text[ent.end_char:]\n",
        "    return clean_text"
      ]
    },
    {
      "cell_type": "code",
      "execution_count": null,
      "metadata": {
        "id": "sl_2Vn2UOT05",
        "colab": {
          "base_uri": "https://localhost:8080/"
        },
        "outputId": "85f44af7-cc29-4ebb-d5be-c4af3d1ec9a7"
      },
      "outputs": [
        {
          "output_type": "stream",
          "name": "stderr",
          "text": [
            "100%|██████████| 18049/18049 [05:44<00:00, 52.38it/s]\n",
            "100%|██████████| 18049/18049 [03:47<00:00, 79.41it/s]\n",
            "100%|██████████| 1946/1946 [00:33<00:00, 57.47it/s]\n",
            "100%|██████████| 1946/1946 [00:25<00:00, 76.22it/s]\n"
          ]
        }
      ],
      "source": [
        "#applying text preprocessing transformation\n",
        "data_train['lemmatized_comment'] = data_train['processed_comment'].progress_apply(analyze_text).progress_apply(replace_ner)\n",
        "data_test['lemmatized_comment'] = data_test['processed_comment'].progress_apply(analyze_text).progress_apply(replace_ner)"
      ]
    },
    {
      "cell_type": "code",
      "source": [
        "data_train.head()"
      ],
      "metadata": {
        "colab": {
          "base_uri": "https://localhost:8080/",
          "height": 684
        },
        "id": "y2aoe9CSLtxY",
        "outputId": "0a71ff0c-df23-49c6-fdd1-e30a0465c8d3"
      },
      "execution_count": null,
      "outputs": [
        {
          "output_type": "execute_result",
          "data": {
            "text/plain": [
              "        id  \\\n",
              "0  5334578   \n",
              "1  6057166   \n",
              "2   567211   \n",
              "3  5543002   \n",
              "4  5808880   \n",
              "\n",
              "                                                                                                                                                                                                                                                                                                                                                                                                      comment_text  \\\n",
              "0  Only evidence the commandments were revealed before the exile is a document written long after the exile.  They weren't revealed by God to anyone on a mountain in Sinai, although you are free to argue they were revealed by God using the Babylonians.\\n\\nOnly evidence for what Jesus said is a collection of documents written after he was gone by people who had their own agendas.  Can get the outl...   \n",
              "1                                                                                                                                                                                                    No one should ever rely on anything written in the comments section.  However, I used to work in this area and there is caselaw backing that up.  A registered security and a nominal payment should suffice.   \n",
              "2                                                                                                                                                                                                                                                                              Just what Oregon needs; more outside influence on our legislature, fighting the citizens of Oregon instead of standing up for them.   \n",
              "3  staph - I hope you do understand that Canada is the only G7 country without vaccine injury compensation program.  All other developed countries have institutionalized compensation to the victims of vaccine injuries.  Just because we don't have this here, it doesn't mean vaccine injuries don't happen.  It means that the injured people are on their own and government and medical community washes...   \n",
              "4  I understand what the writer is saying, but it's too late to save a 40 or 50 year old racist or neo-nazi.  Hatred is all they have left and there is nothing left to save.  We must be very vigilant with these types and ostracize and shame them as examples to others heading down that dark, menacing path.  We can save the kids, but the older haters are well beyond the point of no return.  We can ...   \n",
              "\n",
              "   toxicity  toxicity_label  toxicity_bins  \\\n",
              "0       0.0               0             -1   \n",
              "1       0.0               0             -1   \n",
              "2       0.0               0             -1   \n",
              "3       0.0               0             -1   \n",
              "4       0.4               1              0   \n",
              "\n",
              "                                                                                                                                                                                                                                                                                                                                                                                                 processed_comment  \\\n",
              "0  Only evidence the commandments were revealed before the exile is a document written long after the exile   They were not revealed by God to anyone on a mountain in Sinai  although you are free to argue they were revealed by God using the Babylonians   Only evidence for what Jesus said is a collection of documents written after he was gone by people who had their own agendas   Can get the outli...   \n",
              "1                                                                                                                                                                                                    No one should ever rely on anything written in the comments section   However  I used to work in this area and there is caselaw backing that up   A registered security and a nominal payment should suffice    \n",
              "2                                                                                                                                                                                                                                                                              Just what Oregon needs  more outside influence on our legislature  fighting the citizens of Oregon instead of standing up for them    \n",
              "3  staph   I hope you do understand that Canada is the only G7 country without vaccine injury compensation program   All other developed countries have institutionalized compensation to the victims of vaccine injuries   Just because we do not have this here  it does not mean vaccine injuries do not happen   It means that the injured people are on their own and government and medical community was...   \n",
              "4  I understand what the writer is saying  but it s too late to save a  NUMBER  or  NUMBER  year old racist or neo nazi   Hatred is all they have left and there is nothing left to save   We must be very vigilant with these types and ostracize and shame them as examples to others heading down that dark  menacing path   We can save the kids  but the older haters are well beyond the point of no retu...   \n",
              "\n",
              "                                                                                                                                                                                                                                                                                                                                                                                                lemmatized_comment  \n",
              "0                                                                                                                  evidence commandment reveal exile document write long exile    reveal God mountain _GPE_    free argue reveal God Babylonians    evidence _PERSON_  say collection document write go people agenda    outline _PERSON_  teach   specificity suspect     free apply definition label wish   need  \n",
              "1                                                                                                                                                                                                                                                                                                                  rely write comment _LAW_ work area caselaw backing    register security nominal payment suffice  \n",
              "2                                                                                                                                                                                                                                                                                                                                 _GPE_  need   outside influence legislature   fight citizen _GPE_  instead stand  \n",
              "3  staph    hope understand _ORG_  country vaccine injury compensation program    develop country institutionalize compensation victim vaccine injury      mean vaccine injury happen    mean injured people government medical community wash hand    mean vaccine entirely safe   program States pay _MONEY_  injured people      wish vaccine safe tell    wish actually research find vaccine injury compen...  \n",
              "4                                                                                                                                                                      understand writer say   s late save   number     _DATE_  racist neo nazi    Hatred leave leave save    vigilant type ostracize shame example head dark   menacing path    save kid   old hater point return    deal like extremist criminal  "
            ],
            "text/html": [
              "\n",
              "  <div id=\"df-d1e53f81-ade2-42d6-a152-8b80b4ada466\">\n",
              "    <div class=\"colab-df-container\">\n",
              "      <div>\n",
              "<style scoped>\n",
              "    .dataframe tbody tr th:only-of-type {\n",
              "        vertical-align: middle;\n",
              "    }\n",
              "\n",
              "    .dataframe tbody tr th {\n",
              "        vertical-align: top;\n",
              "    }\n",
              "\n",
              "    .dataframe thead th {\n",
              "        text-align: right;\n",
              "    }\n",
              "</style>\n",
              "<table border=\"1\" class=\"dataframe\">\n",
              "  <thead>\n",
              "    <tr style=\"text-align: right;\">\n",
              "      <th></th>\n",
              "      <th>id</th>\n",
              "      <th>comment_text</th>\n",
              "      <th>toxicity</th>\n",
              "      <th>toxicity_label</th>\n",
              "      <th>toxicity_bins</th>\n",
              "      <th>processed_comment</th>\n",
              "      <th>lemmatized_comment</th>\n",
              "    </tr>\n",
              "  </thead>\n",
              "  <tbody>\n",
              "    <tr>\n",
              "      <th>0</th>\n",
              "      <td>5334578</td>\n",
              "      <td>Only evidence the commandments were revealed before the exile is a document written long after the exile.  They weren't revealed by God to anyone on a mountain in Sinai, although you are free to argue they were revealed by God using the Babylonians.\\n\\nOnly evidence for what Jesus said is a collection of documents written after he was gone by people who had their own agendas.  Can get the outl...</td>\n",
              "      <td>0.0</td>\n",
              "      <td>0</td>\n",
              "      <td>-1</td>\n",
              "      <td>Only evidence the commandments were revealed before the exile is a document written long after the exile   They were not revealed by God to anyone on a mountain in Sinai  although you are free to argue they were revealed by God using the Babylonians   Only evidence for what Jesus said is a collection of documents written after he was gone by people who had their own agendas   Can get the outli...</td>\n",
              "      <td>evidence commandment reveal exile document write long exile    reveal God mountain _GPE_    free argue reveal God Babylonians    evidence _PERSON_  say collection document write go people agenda    outline _PERSON_  teach   specificity suspect     free apply definition label wish   need</td>\n",
              "    </tr>\n",
              "    <tr>\n",
              "      <th>1</th>\n",
              "      <td>6057166</td>\n",
              "      <td>No one should ever rely on anything written in the comments section.  However, I used to work in this area and there is caselaw backing that up.  A registered security and a nominal payment should suffice.</td>\n",
              "      <td>0.0</td>\n",
              "      <td>0</td>\n",
              "      <td>-1</td>\n",
              "      <td>No one should ever rely on anything written in the comments section   However  I used to work in this area and there is caselaw backing that up   A registered security and a nominal payment should suffice</td>\n",
              "      <td>rely write comment _LAW_ work area caselaw backing    register security nominal payment suffice</td>\n",
              "    </tr>\n",
              "    <tr>\n",
              "      <th>2</th>\n",
              "      <td>567211</td>\n",
              "      <td>Just what Oregon needs; more outside influence on our legislature, fighting the citizens of Oregon instead of standing up for them.</td>\n",
              "      <td>0.0</td>\n",
              "      <td>0</td>\n",
              "      <td>-1</td>\n",
              "      <td>Just what Oregon needs  more outside influence on our legislature  fighting the citizens of Oregon instead of standing up for them</td>\n",
              "      <td>_GPE_  need   outside influence legislature   fight citizen _GPE_  instead stand</td>\n",
              "    </tr>\n",
              "    <tr>\n",
              "      <th>3</th>\n",
              "      <td>5543002</td>\n",
              "      <td>staph - I hope you do understand that Canada is the only G7 country without vaccine injury compensation program.  All other developed countries have institutionalized compensation to the victims of vaccine injuries.  Just because we don't have this here, it doesn't mean vaccine injuries don't happen.  It means that the injured people are on their own and government and medical community washes...</td>\n",
              "      <td>0.0</td>\n",
              "      <td>0</td>\n",
              "      <td>-1</td>\n",
              "      <td>staph   I hope you do understand that Canada is the only G7 country without vaccine injury compensation program   All other developed countries have institutionalized compensation to the victims of vaccine injuries   Just because we do not have this here  it does not mean vaccine injuries do not happen   It means that the injured people are on their own and government and medical community was...</td>\n",
              "      <td>staph    hope understand _ORG_  country vaccine injury compensation program    develop country institutionalize compensation victim vaccine injury      mean vaccine injury happen    mean injured people government medical community wash hand    mean vaccine entirely safe   program States pay _MONEY_  injured people      wish vaccine safe tell    wish actually research find vaccine injury compen...</td>\n",
              "    </tr>\n",
              "    <tr>\n",
              "      <th>4</th>\n",
              "      <td>5808880</td>\n",
              "      <td>I understand what the writer is saying, but it's too late to save a 40 or 50 year old racist or neo-nazi.  Hatred is all they have left and there is nothing left to save.  We must be very vigilant with these types and ostracize and shame them as examples to others heading down that dark, menacing path.  We can save the kids, but the older haters are well beyond the point of no return.  We can ...</td>\n",
              "      <td>0.4</td>\n",
              "      <td>1</td>\n",
              "      <td>0</td>\n",
              "      <td>I understand what the writer is saying  but it s too late to save a  NUMBER  or  NUMBER  year old racist or neo nazi   Hatred is all they have left and there is nothing left to save   We must be very vigilant with these types and ostracize and shame them as examples to others heading down that dark  menacing path   We can save the kids  but the older haters are well beyond the point of no retu...</td>\n",
              "      <td>understand writer say   s late save   number     _DATE_  racist neo nazi    Hatred leave leave save    vigilant type ostracize shame example head dark   menacing path    save kid   old hater point return    deal like extremist criminal</td>\n",
              "    </tr>\n",
              "  </tbody>\n",
              "</table>\n",
              "</div>\n",
              "      <button class=\"colab-df-convert\" onclick=\"convertToInteractive('df-d1e53f81-ade2-42d6-a152-8b80b4ada466')\"\n",
              "              title=\"Convert this dataframe to an interactive table.\"\n",
              "              style=\"display:none;\">\n",
              "        \n",
              "  <svg xmlns=\"http://www.w3.org/2000/svg\" height=\"24px\"viewBox=\"0 0 24 24\"\n",
              "       width=\"24px\">\n",
              "    <path d=\"M0 0h24v24H0V0z\" fill=\"none\"/>\n",
              "    <path d=\"M18.56 5.44l.94 2.06.94-2.06 2.06-.94-2.06-.94-.94-2.06-.94 2.06-2.06.94zm-11 1L8.5 8.5l.94-2.06 2.06-.94-2.06-.94L8.5 2.5l-.94 2.06-2.06.94zm10 10l.94 2.06.94-2.06 2.06-.94-2.06-.94-.94-2.06-.94 2.06-2.06.94z\"/><path d=\"M17.41 7.96l-1.37-1.37c-.4-.4-.92-.59-1.43-.59-.52 0-1.04.2-1.43.59L10.3 9.45l-7.72 7.72c-.78.78-.78 2.05 0 2.83L4 21.41c.39.39.9.59 1.41.59.51 0 1.02-.2 1.41-.59l7.78-7.78 2.81-2.81c.8-.78.8-2.07 0-2.86zM5.41 20L4 18.59l7.72-7.72 1.47 1.35L5.41 20z\"/>\n",
              "  </svg>\n",
              "      </button>\n",
              "      \n",
              "  <style>\n",
              "    .colab-df-container {\n",
              "      display:flex;\n",
              "      flex-wrap:wrap;\n",
              "      gap: 12px;\n",
              "    }\n",
              "\n",
              "    .colab-df-convert {\n",
              "      background-color: #E8F0FE;\n",
              "      border: none;\n",
              "      border-radius: 50%;\n",
              "      cursor: pointer;\n",
              "      display: none;\n",
              "      fill: #1967D2;\n",
              "      height: 32px;\n",
              "      padding: 0 0 0 0;\n",
              "      width: 32px;\n",
              "    }\n",
              "\n",
              "    .colab-df-convert:hover {\n",
              "      background-color: #E2EBFA;\n",
              "      box-shadow: 0px 1px 2px rgba(60, 64, 67, 0.3), 0px 1px 3px 1px rgba(60, 64, 67, 0.15);\n",
              "      fill: #174EA6;\n",
              "    }\n",
              "\n",
              "    [theme=dark] .colab-df-convert {\n",
              "      background-color: #3B4455;\n",
              "      fill: #D2E3FC;\n",
              "    }\n",
              "\n",
              "    [theme=dark] .colab-df-convert:hover {\n",
              "      background-color: #434B5C;\n",
              "      box-shadow: 0px 1px 3px 1px rgba(0, 0, 0, 0.15);\n",
              "      filter: drop-shadow(0px 1px 2px rgba(0, 0, 0, 0.3));\n",
              "      fill: #FFFFFF;\n",
              "    }\n",
              "  </style>\n",
              "\n",
              "      <script>\n",
              "        const buttonEl =\n",
              "          document.querySelector('#df-d1e53f81-ade2-42d6-a152-8b80b4ada466 button.colab-df-convert');\n",
              "        buttonEl.style.display =\n",
              "          google.colab.kernel.accessAllowed ? 'block' : 'none';\n",
              "\n",
              "        async function convertToInteractive(key) {\n",
              "          const element = document.querySelector('#df-d1e53f81-ade2-42d6-a152-8b80b4ada466');\n",
              "          const dataTable =\n",
              "            await google.colab.kernel.invokeFunction('convertToInteractive',\n",
              "                                                     [key], {});\n",
              "          if (!dataTable) return;\n",
              "\n",
              "          const docLinkHtml = 'Like what you see? Visit the ' +\n",
              "            '<a target=\"_blank\" href=https://colab.research.google.com/notebooks/data_table.ipynb>data table notebook</a>'\n",
              "            + ' to learn more about interactive tables.';\n",
              "          element.innerHTML = '';\n",
              "          dataTable['output_type'] = 'display_data';\n",
              "          await google.colab.output.renderOutput(dataTable, element);\n",
              "          const docLink = document.createElement('div');\n",
              "          docLink.innerHTML = docLinkHtml;\n",
              "          element.appendChild(docLink);\n",
              "        }\n",
              "      </script>\n",
              "    </div>\n",
              "  </div>\n",
              "  "
            ]
          },
          "metadata": {},
          "execution_count": 22
        }
      ]
    },
    {
      "cell_type": "code",
      "execution_count": null,
      "metadata": {
        "colab": {
          "base_uri": "https://localhost:8080/",
          "height": 406
        },
        "id": "aJunxl0qFu-d",
        "outputId": "587417e5-b924-4d6c-ee65-f200950af911"
      },
      "outputs": [
        {
          "output_type": "execute_result",
          "data": {
            "text/plain": [
              "            id  \\\n",
              "18044  5319739   \n",
              "18045   852189   \n",
              "18046   936562   \n",
              "18047  5239147   \n",
              "18048   262545   \n",
              "\n",
              "                                                                                                                                                                                                                                                                        comment_text  \\\n",
              "18044                                                                                                                                             Where did you get the idea that anyone would be forced to carry or take the training? It's entirely voluntary and always has been.   \n",
              "18045                                                                                                                                                                                                                                         The MSM said that about Trump as well.   \n",
              "18046                                                                                                                                                                   Hi, gtm.  Wise words.  Nope...no rust.  Not sitting idle, although not much on the road.  We bought this pm.   \n",
              "18047  Perfect illustration of what's wrong with politics/politicians, on both sides. Schumer's display of disingenuous behavior would be laughable except for the fact that guys like him run our country. They let party loyalty take precedence over what's best for the country.   \n",
              "18048                                                                                                             You mean...no, it can't be...that the organic ice cream isn't made in small batches, using salt and ice in little ice cream makers that are hand cranked by elves?   \n",
              "\n",
              "       toxicity  toxicity_label  toxicity_bins  \\\n",
              "18044  0.000000               0             -1   \n",
              "18045  0.000000               0             -1   \n",
              "18046  0.166667               0             -1   \n",
              "18047  0.000000               0             -1   \n",
              "18048  0.000000               0             -1   \n",
              "\n",
              "                                                                                                                                                                                                                                                                   processed_comment  \\\n",
              "18044                                                                                                                                             Where did you get the idea that anyone would be forced to carry or take the training  It s entirely voluntary and always has been    \n",
              "18045                                                                                                                                                                                                                                         The MSM said that about Trump as well    \n",
              "18046                                                                                                                                                                   Hi  gtm   Wise words   Nope   no rust   Not sitting idle  although not much on the road   We bought this pm    \n",
              "18047  Perfect illustration of what s wrong with politics politicians  on both sides  Schumer s display of disingenuous behavior would be laughable except for the fact that guys like him run our country  They let party loyalty take precedence over what s best for the country    \n",
              "18048                                                                                                          You mean   no  it can not be   that the organic ice cream is not made in small batches  using salt and ice in little ice cream makers that are hand cranked by elves    \n",
              "\n",
              "                                                                                                                                                                         lemmatized_comment  \n",
              "18044                                                                                                                                      idea force carry training   s entirely voluntary  \n",
              "18045                                                                                                                                                                     MSM say _PERSON_   \n",
              "18046                                                                                                                    hi   gtm    wise word    Nope    rust    sit idle   road    buy pm  \n",
              "18047  perfect illustration s wrong politic politician   side   _PERSON_  s display disingenuous behavior laughable fact guy like run country   let party loyalty precedence s good country  \n",
              "18048                                                                                           mean         organic ice cream small batch   salt ice little ice cream maker hand crank elf  "
            ],
            "text/html": [
              "\n",
              "  <div id=\"df-0d68dcb0-b25a-4418-bd7c-10017d100f54\">\n",
              "    <div class=\"colab-df-container\">\n",
              "      <div>\n",
              "<style scoped>\n",
              "    .dataframe tbody tr th:only-of-type {\n",
              "        vertical-align: middle;\n",
              "    }\n",
              "\n",
              "    .dataframe tbody tr th {\n",
              "        vertical-align: top;\n",
              "    }\n",
              "\n",
              "    .dataframe thead th {\n",
              "        text-align: right;\n",
              "    }\n",
              "</style>\n",
              "<table border=\"1\" class=\"dataframe\">\n",
              "  <thead>\n",
              "    <tr style=\"text-align: right;\">\n",
              "      <th></th>\n",
              "      <th>id</th>\n",
              "      <th>comment_text</th>\n",
              "      <th>toxicity</th>\n",
              "      <th>toxicity_label</th>\n",
              "      <th>toxicity_bins</th>\n",
              "      <th>processed_comment</th>\n",
              "      <th>lemmatized_comment</th>\n",
              "    </tr>\n",
              "  </thead>\n",
              "  <tbody>\n",
              "    <tr>\n",
              "      <th>18044</th>\n",
              "      <td>5319739</td>\n",
              "      <td>Where did you get the idea that anyone would be forced to carry or take the training? It's entirely voluntary and always has been.</td>\n",
              "      <td>0.000000</td>\n",
              "      <td>0</td>\n",
              "      <td>-1</td>\n",
              "      <td>Where did you get the idea that anyone would be forced to carry or take the training  It s entirely voluntary and always has been</td>\n",
              "      <td>idea force carry training   s entirely voluntary</td>\n",
              "    </tr>\n",
              "    <tr>\n",
              "      <th>18045</th>\n",
              "      <td>852189</td>\n",
              "      <td>The MSM said that about Trump as well.</td>\n",
              "      <td>0.000000</td>\n",
              "      <td>0</td>\n",
              "      <td>-1</td>\n",
              "      <td>The MSM said that about Trump as well</td>\n",
              "      <td>MSM say _PERSON_</td>\n",
              "    </tr>\n",
              "    <tr>\n",
              "      <th>18046</th>\n",
              "      <td>936562</td>\n",
              "      <td>Hi, gtm.  Wise words.  Nope...no rust.  Not sitting idle, although not much on the road.  We bought this pm.</td>\n",
              "      <td>0.166667</td>\n",
              "      <td>0</td>\n",
              "      <td>-1</td>\n",
              "      <td>Hi  gtm   Wise words   Nope   no rust   Not sitting idle  although not much on the road   We bought this pm</td>\n",
              "      <td>hi   gtm    wise word    Nope    rust    sit idle   road    buy pm</td>\n",
              "    </tr>\n",
              "    <tr>\n",
              "      <th>18047</th>\n",
              "      <td>5239147</td>\n",
              "      <td>Perfect illustration of what's wrong with politics/politicians, on both sides. Schumer's display of disingenuous behavior would be laughable except for the fact that guys like him run our country. They let party loyalty take precedence over what's best for the country.</td>\n",
              "      <td>0.000000</td>\n",
              "      <td>0</td>\n",
              "      <td>-1</td>\n",
              "      <td>Perfect illustration of what s wrong with politics politicians  on both sides  Schumer s display of disingenuous behavior would be laughable except for the fact that guys like him run our country  They let party loyalty take precedence over what s best for the country</td>\n",
              "      <td>perfect illustration s wrong politic politician   side   _PERSON_  s display disingenuous behavior laughable fact guy like run country   let party loyalty precedence s good country</td>\n",
              "    </tr>\n",
              "    <tr>\n",
              "      <th>18048</th>\n",
              "      <td>262545</td>\n",
              "      <td>You mean...no, it can't be...that the organic ice cream isn't made in small batches, using salt and ice in little ice cream makers that are hand cranked by elves?</td>\n",
              "      <td>0.000000</td>\n",
              "      <td>0</td>\n",
              "      <td>-1</td>\n",
              "      <td>You mean   no  it can not be   that the organic ice cream is not made in small batches  using salt and ice in little ice cream makers that are hand cranked by elves</td>\n",
              "      <td>mean         organic ice cream small batch   salt ice little ice cream maker hand crank elf</td>\n",
              "    </tr>\n",
              "  </tbody>\n",
              "</table>\n",
              "</div>\n",
              "      <button class=\"colab-df-convert\" onclick=\"convertToInteractive('df-0d68dcb0-b25a-4418-bd7c-10017d100f54')\"\n",
              "              title=\"Convert this dataframe to an interactive table.\"\n",
              "              style=\"display:none;\">\n",
              "        \n",
              "  <svg xmlns=\"http://www.w3.org/2000/svg\" height=\"24px\"viewBox=\"0 0 24 24\"\n",
              "       width=\"24px\">\n",
              "    <path d=\"M0 0h24v24H0V0z\" fill=\"none\"/>\n",
              "    <path d=\"M18.56 5.44l.94 2.06.94-2.06 2.06-.94-2.06-.94-.94-2.06-.94 2.06-2.06.94zm-11 1L8.5 8.5l.94-2.06 2.06-.94-2.06-.94L8.5 2.5l-.94 2.06-2.06.94zm10 10l.94 2.06.94-2.06 2.06-.94-2.06-.94-.94-2.06-.94 2.06-2.06.94z\"/><path d=\"M17.41 7.96l-1.37-1.37c-.4-.4-.92-.59-1.43-.59-.52 0-1.04.2-1.43.59L10.3 9.45l-7.72 7.72c-.78.78-.78 2.05 0 2.83L4 21.41c.39.39.9.59 1.41.59.51 0 1.02-.2 1.41-.59l7.78-7.78 2.81-2.81c.8-.78.8-2.07 0-2.86zM5.41 20L4 18.59l7.72-7.72 1.47 1.35L5.41 20z\"/>\n",
              "  </svg>\n",
              "      </button>\n",
              "      \n",
              "  <style>\n",
              "    .colab-df-container {\n",
              "      display:flex;\n",
              "      flex-wrap:wrap;\n",
              "      gap: 12px;\n",
              "    }\n",
              "\n",
              "    .colab-df-convert {\n",
              "      background-color: #E8F0FE;\n",
              "      border: none;\n",
              "      border-radius: 50%;\n",
              "      cursor: pointer;\n",
              "      display: none;\n",
              "      fill: #1967D2;\n",
              "      height: 32px;\n",
              "      padding: 0 0 0 0;\n",
              "      width: 32px;\n",
              "    }\n",
              "\n",
              "    .colab-df-convert:hover {\n",
              "      background-color: #E2EBFA;\n",
              "      box-shadow: 0px 1px 2px rgba(60, 64, 67, 0.3), 0px 1px 3px 1px rgba(60, 64, 67, 0.15);\n",
              "      fill: #174EA6;\n",
              "    }\n",
              "\n",
              "    [theme=dark] .colab-df-convert {\n",
              "      background-color: #3B4455;\n",
              "      fill: #D2E3FC;\n",
              "    }\n",
              "\n",
              "    [theme=dark] .colab-df-convert:hover {\n",
              "      background-color: #434B5C;\n",
              "      box-shadow: 0px 1px 3px 1px rgba(0, 0, 0, 0.15);\n",
              "      filter: drop-shadow(0px 1px 2px rgba(0, 0, 0, 0.3));\n",
              "      fill: #FFFFFF;\n",
              "    }\n",
              "  </style>\n",
              "\n",
              "      <script>\n",
              "        const buttonEl =\n",
              "          document.querySelector('#df-0d68dcb0-b25a-4418-bd7c-10017d100f54 button.colab-df-convert');\n",
              "        buttonEl.style.display =\n",
              "          google.colab.kernel.accessAllowed ? 'block' : 'none';\n",
              "\n",
              "        async function convertToInteractive(key) {\n",
              "          const element = document.querySelector('#df-0d68dcb0-b25a-4418-bd7c-10017d100f54');\n",
              "          const dataTable =\n",
              "            await google.colab.kernel.invokeFunction('convertToInteractive',\n",
              "                                                     [key], {});\n",
              "          if (!dataTable) return;\n",
              "\n",
              "          const docLinkHtml = 'Like what you see? Visit the ' +\n",
              "            '<a target=\"_blank\" href=https://colab.research.google.com/notebooks/data_table.ipynb>data table notebook</a>'\n",
              "            + ' to learn more about interactive tables.';\n",
              "          element.innerHTML = '';\n",
              "          dataTable['output_type'] = 'display_data';\n",
              "          await google.colab.output.renderOutput(dataTable, element);\n",
              "          const docLink = document.createElement('div');\n",
              "          docLink.innerHTML = docLinkHtml;\n",
              "          element.appendChild(docLink);\n",
              "        }\n",
              "      </script>\n",
              "    </div>\n",
              "  </div>\n",
              "  "
            ]
          },
          "metadata": {},
          "execution_count": 23
        }
      ],
      "source": [
        "data_train.tail()"
      ]
    },
    {
      "cell_type": "code",
      "execution_count": null,
      "metadata": {
        "id": "02w_3fuJjiLK"
      },
      "outputs": [],
      "source": [
        "data_train.to_pickle('/content/drive/My Drive/NLP Project/pickled_dataframes/data_train.pickle')\n",
        "data_test.to_pickle('/content/drive/My Drive/NLP Project/pickled_dataframes/data_test.pickle')"
      ]
    },
    {
      "cell_type": "code",
      "execution_count": null,
      "metadata": {
        "id": "wlCVod7vjiIQ"
      },
      "outputs": [],
      "source": [
        "data_train = pd.read_pickle('/content/drive/My Drive/NLP Project/pickled_dataframes/data_train.pickle')\n",
        "data_test = pd.read_pickle('/content/drive/My Drive/NLP Project/pickled_dataframes/data_test.pickle')"
      ]
    },
    {
      "cell_type": "markdown",
      "source": [
        "MODEL BUILDING - NODE 1 (TOXIC or NON-TOXIC)"
      ],
      "metadata": {
        "id": "okzoGMHtCEQH"
      }
    },
    {
      "cell_type": "code",
      "source": [
        "from sklearn.feature_extraction.text import TfidfVectorizer\n",
        "import seaborn as sns\n",
        "import matplotlib.pyplot as plot\n"
      ],
      "metadata": {
        "id": "PpkRwIifCGg7"
      },
      "execution_count": null,
      "outputs": []
    },
    {
      "cell_type": "code",
      "source": [
        "#why using TFIDF, does not make sense to use count vectorizer since TFIDF is a better bag of words model. Training Sequential word embedding model on 18K rows of data with multiple epochs took a huge amount of time\n",
        "\n",
        "tfidf = TfidfVectorizer(ngram_range = (1,3), max_features=10000)\n",
        "\n",
        "#applying similar transformation after training model on test dataset\n",
        "X_train = tfidf.fit_transform(data_train.lemmatized_comment)\n",
        "X_test = tfidf.transform(data_test.lemmatized_comment)\n",
        "\n",
        "feature_names = tfidf.get_feature_names()"
      ],
      "metadata": {
        "colab": {
          "base_uri": "https://localhost:8080/"
        },
        "id": "WJmAI5BWCI03",
        "outputId": "b2c7e9a6-4f3d-4d95-e76f-72deffd29c9c"
      },
      "execution_count": null,
      "outputs": [
        {
          "output_type": "stream",
          "name": "stderr",
          "text": [
            "/usr/local/lib/python3.8/dist-packages/sklearn/utils/deprecation.py:87: FutureWarning: Function get_feature_names is deprecated; get_feature_names is deprecated in 1.0 and will be removed in 1.2. Please use get_feature_names_out instead.\n",
            "  warnings.warn(msg, category=FutureWarning)\n"
          ]
        }
      ]
    },
    {
      "cell_type": "code",
      "source": [
        "#creating y train and y test labels\n",
        "y_train = data_train.toxicity_label\n",
        "y_test = data_test.toxicity_label"
      ],
      "metadata": {
        "id": "iWdrxgPUC2Rm"
      },
      "execution_count": null,
      "outputs": []
    },
    {
      "cell_type": "code",
      "source": [
        "from sklearn.naive_bayes import MultinomialNB\n",
        "from sklearn.linear_model import LogisticRegression\n",
        "from sklearn.ensemble import RandomForestClassifier\n",
        "from sklearn.svm import LinearSVC\n",
        "from sklearn.metrics import f1_score\n",
        "from sklearn.model_selection import cross_val_score\n",
        "import matplotlib.pyplot as plt\n",
        "\n",
        "#importing different classification models to see which model perform better on toxicity prediction\n",
        "models = [RandomForestClassifier(n_estimators=200, max_depth=3, random_state=0), LinearSVC(), MultinomialNB(), LogisticRegression(random_state=0)]\n",
        "CV = 5\n",
        "cv_df = pd.DataFrame(index=range(CV * len(models)))\n",
        "entries = []\n",
        "\n",
        "for model in models:\n",
        "    model_name = model.__class__.__name__\n",
        "    accuracies = cross_val_score(model, X_train, y_train, scoring='balanced_accuracy', cv=CV) #using balanced accuracy due to class imbalance\n",
        "    for fold_idx, accuracy in enumerate(accuracies):\n",
        "        entries.append((model_name, fold_idx, accuracy))\n",
        "    cv_df = pd.DataFrame(entries, columns=['model_name', 'fold_idx', 'accuracy'])\n",
        "\n",
        "\n",
        "sns.boxplot(x='model_name', y='accuracy', data=cv_df)\n",
        "sns.stripplot(x='model_name', y='accuracy', data=cv_df, \n",
        "              size=8, jitter=True, edgecolor=\"gray\", linewidth=2)\n",
        "plt.show()\n"
      ],
      "metadata": {
        "colab": {
          "base_uri": "https://localhost:8080/",
          "height": 280
        },
        "id": "kAnXIs_BCdzD",
        "outputId": "36e59e22-f3a6-41ff-99be-d864fa79e286"
      },
      "execution_count": null,
      "outputs": [
        {
          "output_type": "display_data",
          "data": {
            "text/plain": [
              "<Figure size 432x288 with 1 Axes>"
            ],
            "image/png": "[encoded data removed]"
          },
          "metadata": {
            "needs_background": "light"
          }
        }
      ]
    },
    {
      "cell_type": "code",
      "source": [
        "#SVC is the winner\n",
        "#we understand that models do not have v good accuracy on default threshold\n",
        "cv_df.groupby('model_name').accuracy.mean()11"
      ],
      "metadata": {
        "colab": {
          "base_uri": "https://localhost:8080/"
        },
        "id": "JbSJ25eNEANQ",
        "outputId": "57f6af25-bb3a-47a8-decd-aa8fea0d720e"
      },
      "execution_count": null,
      "outputs": [
        {
          "output_type": "execute_result",
          "data": {
            "text/plain": [
              "model_name\n",
              "LinearSVC                 0.666984\n",
              "LogisticRegression        0.566053\n",
              "MultinomialNB             0.513623\n",
              "RandomForestClassifier    0.500000\n",
              "Name: accuracy, dtype: float64"
            ]
          },
          "metadata": {},
          "execution_count": 93
        }
      ]
    },
    {
      "cell_type": "code",
      "source": [
        "from sklearn.metrics import recall_score\n",
        "from sklearn.metrics import precision_score\n",
        "from sklearn.calibration import CalibratedClassifierCV\n",
        "from sklearn.metrics import confusion_matrix\n",
        "from sklearn.metrics import f1_score\n",
        "\n",
        "svm = LinearSVC()\n",
        "model = CalibratedClassifierCV(svm) \n",
        "\n",
        "model.fit(X_train, y_train)\n",
        "y_pred = model.predict(X_train)\n",
        "y_pred_prob = model.predict_proba(X_train)\n",
        "\n",
        "threshold = list(np.arange(0.1, 1, 0.05)) \n",
        "score_df = pd.DataFrame(index = threshold, columns = ['Precision','Recall','F1Score'])\n",
        "\n",
        "for t in threshold:\n",
        "    y_pred = (model.predict_proba(X_train)[:, 1] > t).astype('float')\n",
        "    recall = round(recall_score(y_train, y_pred)*100,2)\n",
        "    precision = round(precision_score(y_train, y_pred)*100,2)\n",
        "    f1 = round(f1_score(y_train, y_pred)*100,2)\n",
        "    score_df.loc[t,'Precision'] = precision\n",
        "    score_df.loc[t,'Recall'] = recall\n",
        "    score_df.loc[t,'F1Score'] = f1\n",
        "\n",
        "\n",
        "fig, ax = plt.subplots(figsize=(12,12))\n",
        "ax.plot(score_df.Precision)\n",
        "ax.plot(score_df.Recall)\n",
        "ax.plot(score_df.F1Score)\n",
        "ax.set_xticks(threshold)\n",
        "ax.set_xlabel('Threshold')\n",
        "ax.set_ylabel('Precision/Recall')"
      ],
      "metadata": {
        "colab": {
          "base_uri": "https://localhost:8080/",
          "height": 732
        },
        "id": "2uiYDpBnuK5i",
        "outputId": "e78053f6-7388-48cb-d368-afe0a68b9c97"
      },
      "execution_count": null,
      "outputs": [
        {
          "output_type": "execute_result",
          "data": {
            "text/plain": [
              "Text(0, 0.5, 'Precision/Recall')"
            ]
          },
          "metadata": {},
          "execution_count": 135
        },
        {
          "output_type": "display_data",
          "data": {
            "text/plain": [
              "<Figure size 864x864 with 1 Axes>"
            ],
            "image/png": "[encoded data removed]"
          },
          "metadata": {
            "needs_background": "light"
          }
        }
      ]
    },
    {
      "cell_type": "code",
      "source": [
        "t = 0.2\n",
        "y_pred = (model.predict_proba(X_train)[:, 1] > t).astype('float')\n",
        "conf_matrix = confusion_matrix(y_train, y_pred)\n",
        "fig, ax = plt.subplots(figsize=(10,10))\n",
        "sns.heatmap(conf_matrix, annot=True, fmt='d', xticklabels = np.unique(y_train), yticklabels = np.unique(y_pred))\n",
        "plt.ylabel('Actual')\n",
        "plt.xlabel('Predicted')\n",
        "plt.show()"
      ],
      "metadata": {
        "colab": {
          "base_uri": "https://localhost:8080/",
          "height": 606
        },
        "id": "PEfmV6ONFHVQ",
        "outputId": "c0a6b92c-0e9d-4fc7-ab8b-4facd3220259"
      },
      "execution_count": null,
      "outputs": [
        {
          "output_type": "display_data",
          "data": {
            "text/plain": [
              "<Figure size 720x720 with 2 Axes>"
            ],
            "image/png": "[encoded data removed]"
          },
          "metadata": {
            "needs_background": "light"
          }
        }
      ]
    },
    {
      "cell_type": "code",
      "source": [
        "y_pred = model.predict(X_test)\n",
        "y_pred_prob = model.predict_proba(X_test)\n",
        "\n",
        "\n",
        "y_pred = (model.predict_proba(X_test)[:, 1] > t).astype('float')\n",
        "conf_matrix = confusion_matrix(y_test, y_pred)\n",
        "print(\"F1 score at \", t, \"is \", round(f1_score(y_test, y_pred)*100,2))\n",
        "print(\"Precision score at \", t, \"is \", round(precision_score(y_test, y_pred)*100,2))\n",
        "print(\"Recall score at \", t, \"is \", round(recall_score(y_test, y_pred)*100,2))\n",
        "fig, ax = plt.subplots(figsize=(10,10))\n",
        "sns.heatmap(conf_matrix, annot=True, fmt='d', xticklabels = np.unique(y_test), yticklabels = np.unique(y_pred))\n",
        "plt.ylabel('Actual')\n",
        "plt.xlabel('Predicted')\n",
        "plt.show()\n"
      ],
      "metadata": {
        "colab": {
          "base_uri": "https://localhost:8080/",
          "height": 660
        },
        "id": "PD2zh7GRMHM3",
        "outputId": "5fd36b65-9a0f-40a0-efc7-d2c3e1179d63"
      },
      "execution_count": null,
      "outputs": [
        {
          "output_type": "stream",
          "name": "stdout",
          "text": [
            "F1 score at  0.2 is  55.36\n",
            "Precision score at  0.2 is  49.87\n",
            "Recall score at  0.2 is  62.21\n"
          ]
        },
        {
          "output_type": "display_data",
          "data": {
            "text/plain": [
              "<Figure size 720x720 with 2 Axes>"
            ],
            "image/png": "[encoded data removed]"
          },
          "metadata": {
            "needs_background": "light"
          }
        }
      ]
    },
    {
      "cell_type": "code",
      "source": [
        "y_test.shape,y_pred.shape"
      ],
      "metadata": {
        "colab": {
          "base_uri": "https://localhost:8080/"
        },
        "id": "6S1l9PrOs6NY",
        "outputId": "c11b0f9b-0324-493b-eefc-98e4d7508400"
      },
      "execution_count": null,
      "outputs": [
        {
          "output_type": "execute_result",
          "data": {
            "text/plain": [
              "((1946,), (1946,))"
            ]
          },
          "metadata": {},
          "execution_count": 101
        }
      ]
    },
    {
      "cell_type": "markdown",
      "source": [
        "MODEL BUILDING - NODE 2 (LEVEL OF TOXICITY)"
      ],
      "metadata": {
        "id": "DSPpyi1sIfkn"
      }
    },
    {
      "cell_type": "code",
      "source": [
        "#removing non-toxic comments for training and test data\n",
        "data_train_node2 = data_train[data_train.toxicity_bins != -1]\n",
        "data_test_node2 = data_test[data_test.toxicity_bins != -1]"
      ],
      "metadata": {
        "id": "z1VU99zcbzmF"
      },
      "execution_count": null,
      "outputs": []
    },
    {
      "cell_type": "code",
      "source": [
        "!pip install tensorflow keras | tail -1"
      ],
      "metadata": {
        "colab": {
          "base_uri": "https://localhost:8080/"
        },
        "id": "antr4El8bziZ",
        "outputId": "33bfea4b-4b08-42e3-887d-ddd09e282591"
      },
      "execution_count": null,
      "outputs": [
        {
          "output_type": "stream",
          "name": "stdout",
          "text": [
            "Requirement already satisfied: pyparsing!=3.0.5,>=2.0.2 in /usr/local/lib/python3.8/dist-packages (from packaging->tensorflow) (3.0.9)\n"
          ]
        }
      ]
    },
    {
      "cell_type": "code",
      "source": [
        "from keras.preprocessing.text import one_hot\n",
        "from keras_preprocessing.sequence import pad_sequences\n",
        "from numpy import asarray\n",
        "from numpy import zeros\n",
        "from keras.preprocessing.text import Tokenizer\n",
        "from keras.models import Sequential\n",
        "from keras.layers import Dense\n",
        "from keras.layers import Flatten\n",
        "from keras.layers import Embedding\n",
        "from numpy import array"
      ],
      "metadata": {
        "id": "33N84MY0bzfi"
      },
      "execution_count": null,
      "outputs": []
    },
    {
      "cell_type": "markdown",
      "source": [
        "Option 1: Word Embeddings"
      ],
      "metadata": {
        "id": "JkXGCzu6lHqY"
      }
    },
    {
      "cell_type": "code",
      "source": [
        "#creating a keras tokenizer and adding word encodings based on the comment\n",
        "t = Tokenizer()\n",
        "t.fit_on_texts(data_train_node2['lemmatized_comment'])\n",
        "vocab_size = len(t.word_index) + 1\n",
        "encoded_train = t.texts_to_sequences(data_train_node2['lemmatized_comment'])\n",
        "max_length = max([len(x) for x in encoded_train])\n",
        "padded_train = pad_sequences(encoded_train, maxlen=max_length, padding='post')\n",
        "data_train_node2['WordEncodings'] = pd.Series(padded_train.tolist())\n"
      ],
      "metadata": {
        "colab": {
          "base_uri": "https://localhost:8080/"
        },
        "id": "gI45XORMbzcb",
        "outputId": "800ab9ac-eec0-4c3f-d4cb-585cd15a3ac5"
      },
      "execution_count": null,
      "outputs": [
        {
          "output_type": "stream",
          "name": "stderr",
          "text": [
            "<ipython-input-36-6614e0e35ca6>:8: SettingWithCopyWarning: \n",
            "A value is trying to be set on a copy of a slice from a DataFrame.\n",
            "Try using .loc[row_indexer,col_indexer] = value instead\n",
            "\n",
            "See the caveats in the documentation: https://pandas.pydata.org/pandas-docs/stable/user_guide/indexing.html#returning-a-view-versus-a-copy\n",
            "  data_train_node2['WordEncodings'] = pd.Series(padded_train.tolist())\n"
          ]
        }
      ]
    },
    {
      "cell_type": "code",
      "source": [
        "#applying same transformation to test dataset\n",
        "encoded_test = t.texts_to_sequences(data_test_node2['lemmatized_comment'])\n",
        "padded_test = pad_sequences(encoded_test, maxlen=max_length, padding='post')\n",
        "data_test_node2['WordEncodings'] = pd.Series(padded_test.tolist())"
      ],
      "metadata": {
        "colab": {
          "base_uri": "https://localhost:8080/"
        },
        "id": "xVIFlt9fbzZS",
        "outputId": "9ca8de96-b428-4210-94c2-35bc52db623f"
      },
      "execution_count": null,
      "outputs": [
        {
          "output_type": "stream",
          "name": "stderr",
          "text": [
            "<ipython-input-37-ce8afaf6b677>:4: SettingWithCopyWarning: \n",
            "A value is trying to be set on a copy of a slice from a DataFrame.\n",
            "Try using .loc[row_indexer,col_indexer] = value instead\n",
            "\n",
            "See the caveats in the documentation: https://pandas.pydata.org/pandas-docs/stable/user_guide/indexing.html#returning-a-view-versus-a-copy\n",
            "  data_test_node2['WordEncodings'] = pd.Series(padded_test.tolist())\n"
          ]
        }
      ]
    },
    {
      "cell_type": "code",
      "source": [
        "#using the glove embeddings\n",
        "f = open('/content/drive/My Drive/NLP Project/glove.6B.100d.txt')\n",
        "embeddings_index = dict()\n",
        "for line in f:\n",
        "    values = line.split()\n",
        "    word = values[0]\n",
        "    coefs = asarray(values[1:], dtype='float32')\n",
        "    embeddings_index[word] = coefs\n",
        "f.close()\n",
        "print('Loaded %s word vectors.' % len(embeddings_index))"
      ],
      "metadata": {
        "colab": {
          "base_uri": "https://localhost:8080/"
        },
        "id": "_Fuz2crHbzV5",
        "outputId": "00d04921-f413-48d5-a6c4-82a0859890ad"
      },
      "execution_count": null,
      "outputs": [
        {
          "output_type": "stream",
          "name": "stdout",
          "text": [
            "Loaded 400000 word vectors.\n"
          ]
        }
      ]
    },
    {
      "cell_type": "code",
      "source": [
        "#creating an embedding matrix cache for a word embedding\n",
        "embedding_matrix = zeros((vocab_size, 100))\n",
        "for word, i in t.word_index.items():\n",
        "    embedding_vector = embeddings_index.get(word)\n",
        "    if embedding_vector is not None: # check that it is an actual word that we have embeddings for\n",
        "        embedding_matrix[i] = embedding_vector\n"
      ],
      "metadata": {
        "id": "8QIQQTAYbzTC"
      },
      "execution_count": null,
      "outputs": []
    },
    {
      "cell_type": "code",
      "source": [
        "import tensorflow as tf"
      ],
      "metadata": {
        "id": "x65p9-Q2SN3t"
      },
      "execution_count": null,
      "outputs": []
    },
    {
      "cell_type": "code",
      "source": [
        "METRICS = [\n",
        "      tf.keras.metrics.TruePositives(name='tp'),\n",
        "      tf.keras.metrics.FalsePositives(name='fp'),\n",
        "      tf.keras.metrics.TrueNegatives(name='tn'),\n",
        "      tf.keras.metrics.FalseNegatives(name='fn'), \n",
        "      tf.keras.metrics.BinaryAccuracy(name='accuracy'),\n",
        "      tf.keras.metrics.Precision(name='precision'),\n",
        "      tf.keras.metrics.Recall(name='recall'),\n",
        "      tf.keras.metrics.AUC(name='auc'),\n",
        "      tf.keras.metrics.AUC(name='prc', curve='PR'), # precision-recall curve\n",
        "]\n",
        "\n",
        "#creating a keras model to see the parameters count\n",
        "def make_model(metrics=METRICS):\n",
        "\n",
        "  model = Sequential()\n",
        "  e = Embedding(vocab_size, 100, weights=[embedding_matrix], input_length=max_length, trainable=False)\n",
        "  model.add(e)\n",
        "  model.add(Flatten())\n",
        "  model.add(Dense(3, activation='softmax'))\n",
        "  model.add(Flatten())\n",
        "  model.compile(optimizer=tf.keras.optimizers.Adam(learning_rate=0.01), loss='categorical_crossentropy', metrics=metrics)\n",
        "\n",
        "  return model"
      ],
      "metadata": {
        "id": "33xAUy2YbzP6"
      },
      "execution_count": null,
      "outputs": []
    },
    {
      "cell_type": "code",
      "source": [
        "#creating an early stopping call back function\n",
        "early_stopping = tf.keras.callbacks.EarlyStopping( monitor='val_prc', verbose=1, restore_best_weights=True)"
      ],
      "metadata": {
        "id": "9WwJVi7FbzMz"
      },
      "execution_count": null,
      "outputs": []
    },
    {
      "cell_type": "code",
      "source": [
        "model = make_model()\n",
        "model.summary()"
      ],
      "metadata": {
        "colab": {
          "base_uri": "https://localhost:8080/"
        },
        "id": "sCLOSikvFqpl",
        "outputId": "046c5371-ac9f-4599-dcca-9ba5d6da0364"
      },
      "execution_count": null,
      "outputs": [
        {
          "output_type": "stream",
          "name": "stdout",
          "text": [
            "Model: \"sequential_2\"\n",
            "_________________________________________________________________\n",
            " Layer (type)                Output Shape              Param #   \n",
            "=================================================================\n",
            " embedding_2 (Embedding)     (None, 107, 100)          885300    \n",
            "                                                                 \n",
            " flatten_4 (Flatten)         (None, 10700)             0         \n",
            "                                                                 \n",
            " dense_2 (Dense)             (None, 3)                 32103     \n",
            "                                                                 \n",
            " flatten_5 (Flatten)         (None, 3)                 0         \n",
            "                                                                 \n",
            "=================================================================\n",
            "Total params: 917,403\n",
            "Trainable params: 32,103\n",
            "Non-trainable params: 885,300\n",
            "_________________________________________________________________\n"
          ]
        }
      ]
    },
    {
      "cell_type": "code",
      "source": [
        "from tensorflow.keras.utils import to_categorical"
      ],
      "metadata": {
        "id": "aFuL58lgSfZj"
      },
      "execution_count": null,
      "outputs": []
    },
    {
      "cell_type": "code",
      "source": [
        "#fitting the model to training dataset - running multiple epochs\n",
        "model.fit(padded_train, to_categorical(data_train_node2.toxicity_bins), epochs=100, verbose=1, callbacks=[early_stopping])"
      ],
      "metadata": {
        "colab": {
          "base_uri": "https://localhost:8080/"
        },
        "id": "oTLIkoiVckRb",
        "outputId": "b3b2d9f7-017e-4c68-ef7d-0fd0385f3bd2"
      },
      "execution_count": null,
      "outputs": [
        {
          "output_type": "stream",
          "name": "stdout",
          "text": [
            "Epoch 1/100\n",
            "76/82 [==========================>...] - ETA: 0s - loss: 1.8371 - tp: 872.0000 - fp: 1146.0000 - tn: 3718.0000 - fn: 1560.0000 - accuracy: 0.6291 - precision: 0.4321 - recall: 0.3586 - auc: 0.6101 - prc: 0.4204"
          ]
        },
        {
          "output_type": "stream",
          "name": "stderr",
          "text": [
            "WARNING:tensorflow:Early stopping conditioned on metric `val_prc` which is not available. Available metrics are: loss,tp,fp,tn,fn,accuracy,precision,recall,auc,prc\n"
          ]
        },
        {
          "output_type": "stream",
          "name": "stdout",
          "text": [
            "\b\b\b\b\b\b\b\b\b\b\b\b\b\b\b\b\b\b\b\b\b\b\b\b\b\b\b\b\b\b\b\b\b\b\b\b\b\b\b\b\b\b\b\b\b\b\b\b\b\b\b\b\b\b\b\b\b\b\b\b\b\b\b\b\b\b\b\b\b\b\b\b\b\b\b\b\b\b\b\b\b\b\b\b\b\b\b\b\b\b\b\b\b\b\b\b\b\b\b\b\b\b\b\b\b\b\b\b\b\b\b\b\b\b\b\b\b\b\b\b\b\b\b\b\b\b\b\b\b\b\b\b\b\b\b\b\b\b\b\b\b\b\b\b\b\b\b\b\b\b\b\b\b\b\b\b\b\b\b\b\b\b\b\b\b\b\b\b\b\b\b\b\b\b\b\b\b\b\b\b\b\b\b\b\b\b\b\b\b\b\b\b\b\b\b\b\b\b\b\b\b\b\b\b\b\b\b\b\b\b\r82/82 [==============================] - 3s 6ms/step - loss: 1.8415 - tp: 948.0000 - fp: 1238.0000 - tn: 4010.0000 - fn: 1676.0000 - accuracy: 0.6298 - precision: 0.4337 - recall: 0.3613 - auc: 0.6107 - prc: 0.4220\n",
            "Epoch 2/100\n",
            "76/82 [==========================>...] - ETA: 0s - loss: 0.8447 - tp: 1550.0000 - fp: 667.0000 - tn: 4197.0000 - fn: 882.0000 - accuracy: 0.7877 - precision: 0.6991 - recall: 0.6373 - auc: 0.8587 - prc: 0.7613"
          ]
        },
        {
          "output_type": "stream",
          "name": "stderr",
          "text": [
            "WARNING:tensorflow:Early stopping conditioned on metric `val_prc` which is not available. Available metrics are: loss,tp,fp,tn,fn,accuracy,precision,recall,auc,prc\n"
          ]
        },
        {
          "output_type": "stream",
          "name": "stdout",
          "text": [
            "\b\b\b\b\b\b\b\b\b\b\b\b\b\b\b\b\b\b\b\b\b\b\b\b\b\b\b\b\b\b\b\b\b\b\b\b\b\b\b\b\b\b\b\b\b\b\b\b\b\b\b\b\b\b\b\b\b\b\b\b\b\b\b\b\b\b\b\b\b\b\b\b\b\b\b\b\b\b\b\b\b\b\b\b\b\b\b\b\b\b\b\b\b\b\b\b\b\b\b\b\b\b\b\b\b\b\b\b\b\b\b\b\b\b\b\b\b\b\b\b\b\b\b\b\b\b\b\b\b\b\b\b\b\b\b\b\b\b\b\b\b\b\b\b\b\b\b\b\b\b\b\b\b\b\b\b\b\b\b\b\b\b\b\b\b\b\b\b\b\b\b\b\b\b\b\b\b\b\b\b\b\b\b\b\b\b\b\b\b\b\b\b\b\b\b\b\b\b\b\b\b\b\b\b\b\b\b\b\b\r82/82 [==============================] - 1s 6ms/step - loss: 0.8623 - tp: 1671.0000 - fp: 725.0000 - tn: 4523.0000 - fn: 953.0000 - accuracy: 0.7868 - precision: 0.6974 - recall: 0.6368 - auc: 0.8563 - prc: 0.7575\n",
            "Epoch 3/100\n",
            "80/82 [============================>.] - ETA: 0s - loss: 0.6417 - tp: 1842.0000 - fp: 539.0000 - tn: 4581.0000 - fn: 718.0000 - accuracy: 0.8363 - precision: 0.7736 - recall: 0.7195 - auc: 0.9068 - prc: 0.8422"
          ]
        },
        {
          "output_type": "stream",
          "name": "stderr",
          "text": [
            "WARNING:tensorflow:Early stopping conditioned on metric `val_prc` which is not available. Available metrics are: loss,tp,fp,tn,fn,accuracy,precision,recall,auc,prc\n"
          ]
        },
        {
          "output_type": "stream",
          "name": "stdout",
          "text": [
            "\b\b\b\b\b\b\b\b\b\b\b\b\b\b\b\b\b\b\b\b\b\b\b\b\b\b\b\b\b\b\b\b\b\b\b\b\b\b\b\b\b\b\b\b\b\b\b\b\b\b\b\b\b\b\b\b\b\b\b\b\b\b\b\b\b\b\b\b\b\b\b\b\b\b\b\b\b\b\b\b\b\b\b\b\b\b\b\b\b\b\b\b\b\b\b\b\b\b\b\b\b\b\b\b\b\b\b\b\b\b\b\b\b\b\b\b\b\b\b\b\b\b\b\b\b\b\b\b\b\b\b\b\b\b\b\b\b\b\b\b\b\b\b\b\b\b\b\b\b\b\b\b\b\b\b\b\b\b\b\b\b\b\b\b\b\b\b\b\b\b\b\b\b\b\b\b\b\b\b\b\b\b\b\b\b\b\b\b\b\b\b\b\b\b\b\b\b\b\b\b\b\b\b\b\b\b\b\b\b\r82/82 [==============================] - 1s 6ms/step - loss: 0.6450 - tp: 1884.0000 - fp: 555.0000 - tn: 4693.0000 - fn: 740.0000 - accuracy: 0.8355 - precision: 0.7724 - recall: 0.7180 - auc: 0.9060 - prc: 0.8408\n",
            "Epoch 4/100\n",
            "75/82 [==========================>...] - ETA: 0s - loss: 0.4767 - tp: 1884.0000 - fp: 375.0000 - tn: 4425.0000 - fn: 516.0000 - accuracy: 0.8763 - precision: 0.8340 - recall: 0.7850 - auc: 0.9431 - prc: 0.9013"
          ]
        },
        {
          "output_type": "stream",
          "name": "stderr",
          "text": [
            "WARNING:tensorflow:Early stopping conditioned on metric `val_prc` which is not available. Available metrics are: loss,tp,fp,tn,fn,accuracy,precision,recall,auc,prc\n"
          ]
        },
        {
          "output_type": "stream",
          "name": "stdout",
          "text": [
            "\b\b\b\b\b\b\b\b\b\b\b\b\b\b\b\b\b\b\b\b\b\b\b\b\b\b\b\b\b\b\b\b\b\b\b\b\b\b\b\b\b\b\b\b\b\b\b\b\b\b\b\b\b\b\b\b\b\b\b\b\b\b\b\b\b\b\b\b\b\b\b\b\b\b\b\b\b\b\b\b\b\b\b\b\b\b\b\b\b\b\b\b\b\b\b\b\b\b\b\b\b\b\b\b\b\b\b\b\b\b\b\b\b\b\b\b\b\b\b\b\b\b\b\b\b\b\b\b\b\b\b\b\b\b\b\b\b\b\b\b\b\b\b\b\b\b\b\b\b\b\b\b\b\b\b\b\b\b\b\b\b\b\b\b\b\b\b\b\b\b\b\b\b\b\b\b\b\b\b\b\b\b\b\b\b\b\b\b\b\b\b\b\b\b\b\b\b\b\b\b\b\b\b\b\b\b\b\b\b\r82/82 [==============================] - 0s 6ms/step - loss: 0.4856 - tp: 2049.0000 - fp: 418.0000 - tn: 4830.0000 - fn: 575.0000 - accuracy: 0.8739 - precision: 0.8306 - recall: 0.7809 - auc: 0.9413 - prc: 0.8992\n",
            "Epoch 5/100\n",
            "74/82 [==========================>...] - ETA: 0s - loss: 0.3913 - tp: 1919.0000 - fp: 323.0000 - tn: 4413.0000 - fn: 449.0000 - accuracy: 0.8913 - precision: 0.8559 - recall: 0.8104 - auc: 0.9606 - prc: 0.9315"
          ]
        },
        {
          "output_type": "stream",
          "name": "stderr",
          "text": [
            "WARNING:tensorflow:Early stopping conditioned on metric `val_prc` which is not available. Available metrics are: loss,tp,fp,tn,fn,accuracy,precision,recall,auc,prc\n"
          ]
        },
        {
          "output_type": "stream",
          "name": "stdout",
          "text": [
            "\b\b\b\b\b\b\b\b\b\b\b\b\b\b\b\b\b\b\b\b\b\b\b\b\b\b\b\b\b\b\b\b\b\b\b\b\b\b\b\b\b\b\b\b\b\b\b\b\b\b\b\b\b\b\b\b\b\b\b\b\b\b\b\b\b\b\b\b\b\b\b\b\b\b\b\b\b\b\b\b\b\b\b\b\b\b\b\b\b\b\b\b\b\b\b\b\b\b\b\b\b\b\b\b\b\b\b\b\b\b\b\b\b\b\b\b\b\b\b\b\b\b\b\b\b\b\b\b\b\b\b\b\b\b\b\b\b\b\b\b\b\b\b\b\b\b\b\b\b\b\b\b\b\b\b\b\b\b\b\b\b\b\b\b\b\b\b\b\b\b\b\b\b\b\b\b\b\b\b\b\b\b\b\b\b\b\b\b\b\b\b\b\b\b\b\b\b\b\b\b\b\b\b\b\b\b\b\b\b\r82/82 [==============================] - 0s 6ms/step - loss: 0.4063 - tp: 2115.0000 - fp: 364.0000 - tn: 4884.0000 - fn: 509.0000 - accuracy: 0.8891 - precision: 0.8532 - recall: 0.8060 - auc: 0.9580 - prc: 0.9274\n",
            "Epoch 6/100\n",
            "80/82 [============================>.] - ETA: 0s - loss: 0.3248 - tp: 2192.0000 - fp: 229.0000 - tn: 4891.0000 - fn: 368.0000 - accuracy: 0.9223 - precision: 0.9054 - recall: 0.8562 - auc: 0.9735 - prc: 0.9525"
          ]
        },
        {
          "output_type": "stream",
          "name": "stderr",
          "text": [
            "WARNING:tensorflow:Early stopping conditioned on metric `val_prc` which is not available. Available metrics are: loss,tp,fp,tn,fn,accuracy,precision,recall,auc,prc\n"
          ]
        },
        {
          "output_type": "stream",
          "name": "stdout",
          "text": [
            "\b\b\b\b\b\b\b\b\b\b\b\b\b\b\b\b\b\b\b\b\b\b\b\b\b\b\b\b\b\b\b\b\b\b\b\b\b\b\b\b\b\b\b\b\b\b\b\b\b\b\b\b\b\b\b\b\b\b\b\b\b\b\b\b\b\b\b\b\b\b\b\b\b\b\b\b\b\b\b\b\b\b\b\b\b\b\b\b\b\b\b\b\b\b\b\b\b\b\b\b\b\b\b\b\b\b\b\b\b\b\b\b\b\b\b\b\b\b\b\b\b\b\b\b\b\b\b\b\b\b\b\b\b\b\b\b\b\b\b\b\b\b\b\b\b\b\b\b\b\b\b\b\b\b\b\b\b\b\b\b\b\b\b\b\b\b\b\b\b\b\b\b\b\b\b\b\b\b\b\b\b\b\b\b\b\b\b\b\b\b\b\b\b\b\b\b\b\b\b\b\b\b\b\b\b\b\b\b\b\r82/82 [==============================] - 0s 5ms/step - loss: 0.3270 - tp: 2244.0000 - fp: 239.0000 - tn: 5009.0000 - fn: 380.0000 - accuracy: 0.9214 - precision: 0.9037 - recall: 0.8552 - auc: 0.9731 - prc: 0.9519\n",
            "Epoch 7/100\n",
            "76/82 [==========================>...] - ETA: 0s - loss: 0.2755 - tp: 2145.0000 - fp: 211.0000 - tn: 4653.0000 - fn: 287.0000 - accuracy: 0.9317 - precision: 0.9104 - recall: 0.8820 - auc: 0.9808 - prc: 0.9651"
          ]
        },
        {
          "output_type": "stream",
          "name": "stderr",
          "text": [
            "WARNING:tensorflow:Early stopping conditioned on metric `val_prc` which is not available. Available metrics are: loss,tp,fp,tn,fn,accuracy,precision,recall,auc,prc\n"
          ]
        },
        {
          "output_type": "stream",
          "name": "stdout",
          "text": [
            "\b\b\b\b\b\b\b\b\b\b\b\b\b\b\b\b\b\b\b\b\b\b\b\b\b\b\b\b\b\b\b\b\b\b\b\b\b\b\b\b\b\b\b\b\b\b\b\b\b\b\b\b\b\b\b\b\b\b\b\b\b\b\b\b\b\b\b\b\b\b\b\b\b\b\b\b\b\b\b\b\b\b\b\b\b\b\b\b\b\b\b\b\b\b\b\b\b\b\b\b\b\b\b\b\b\b\b\b\b\b\b\b\b\b\b\b\b\b\b\b\b\b\b\b\b\b\b\b\b\b\b\b\b\b\b\b\b\b\b\b\b\b\b\b\b\b\b\b\b\b\b\b\b\b\b\b\b\b\b\b\b\b\b\b\b\b\b\b\b\b\b\b\b\b\b\b\b\b\b\b\b\b\b\b\b\b\b\b\b\b\b\b\b\b\b\b\b\b\b\b\b\b\b\b\b\b\b\b\b\r82/82 [==============================] - 0s 6ms/step - loss: 0.2870 - tp: 2302.0000 - fp: 234.0000 - tn: 5014.0000 - fn: 322.0000 - accuracy: 0.9294 - precision: 0.9077 - recall: 0.8773 - auc: 0.9794 - prc: 0.9626\n",
            "Epoch 8/100\n",
            "78/82 [===========================>..] - ETA: 0s - loss: 0.2494 - tp: 2227.0000 - fp: 175.0000 - tn: 4817.0000 - fn: 269.0000 - accuracy: 0.9407 - precision: 0.9271 - recall: 0.8922 - auc: 0.9853 - prc: 0.9734"
          ]
        },
        {
          "output_type": "stream",
          "name": "stderr",
          "text": [
            "WARNING:tensorflow:Early stopping conditioned on metric `val_prc` which is not available. Available metrics are: loss,tp,fp,tn,fn,accuracy,precision,recall,auc,prc\n"
          ]
        },
        {
          "output_type": "stream",
          "name": "stdout",
          "text": [
            "\b\b\b\b\b\b\b\b\b\b\b\b\b\b\b\b\b\b\b\b\b\b\b\b\b\b\b\b\b\b\b\b\b\b\b\b\b\b\b\b\b\b\b\b\b\b\b\b\b\b\b\b\b\b\b\b\b\b\b\b\b\b\b\b\b\b\b\b\b\b\b\b\b\b\b\b\b\b\b\b\b\b\b\b\b\b\b\b\b\b\b\b\b\b\b\b\b\b\b\b\b\b\b\b\b\b\b\b\b\b\b\b\b\b\b\b\b\b\b\b\b\b\b\b\b\b\b\b\b\b\b\b\b\b\b\b\b\b\b\b\b\b\b\b\b\b\b\b\b\b\b\b\b\b\b\b\b\b\b\b\b\b\b\b\b\b\b\b\b\b\b\b\b\b\b\b\b\b\b\b\b\b\b\b\b\b\b\b\b\b\b\b\b\b\b\b\b\b\b\b\b\b\b\b\b\b\b\b\b\r82/82 [==============================] - 0s 5ms/step - loss: 0.2514 - tp: 2339.0000 - fp: 186.0000 - tn: 5062.0000 - fn: 285.0000 - accuracy: 0.9402 - precision: 0.9263 - recall: 0.8914 - auc: 0.9849 - prc: 0.9728\n",
            "Epoch 9/100\n",
            "76/82 [==========================>...] - ETA: 0s - loss: 0.2182 - tp: 2209.0000 - fp: 138.0000 - tn: 4726.0000 - fn: 223.0000 - accuracy: 0.9505 - precision: 0.9412 - recall: 0.9083 - auc: 0.9896 - prc: 0.9807"
          ]
        },
        {
          "output_type": "stream",
          "name": "stderr",
          "text": [
            "WARNING:tensorflow:Early stopping conditioned on metric `val_prc` which is not available. Available metrics are: loss,tp,fp,tn,fn,accuracy,precision,recall,auc,prc\n"
          ]
        },
        {
          "output_type": "stream",
          "name": "stdout",
          "text": [
            "\b\b\b\b\b\b\b\b\b\b\b\b\b\b\b\b\b\b\b\b\b\b\b\b\b\b\b\b\b\b\b\b\b\b\b\b\b\b\b\b\b\b\b\b\b\b\b\b\b\b\b\b\b\b\b\b\b\b\b\b\b\b\b\b\b\b\b\b\b\b\b\b\b\b\b\b\b\b\b\b\b\b\b\b\b\b\b\b\b\b\b\b\b\b\b\b\b\b\b\b\b\b\b\b\b\b\b\b\b\b\b\b\b\b\b\b\b\b\b\b\b\b\b\b\b\b\b\b\b\b\b\b\b\b\b\b\b\b\b\b\b\b\b\b\b\b\b\b\b\b\b\b\b\b\b\b\b\b\b\b\b\b\b\b\b\b\b\b\b\b\b\b\b\b\b\b\b\b\b\b\b\b\b\b\b\b\b\b\b\b\b\b\b\b\b\b\b\b\b\b\b\b\b\b\b\b\b\b\b\r82/82 [==============================] - 0s 6ms/step - loss: 0.2148 - tp: 2384.0000 - fp: 149.0000 - tn: 5099.0000 - fn: 240.0000 - accuracy: 0.9506 - precision: 0.9412 - recall: 0.9085 - auc: 0.9898 - prc: 0.9810\n",
            "Epoch 10/100\n",
            "72/82 [=========================>....] - ETA: 0s - loss: 0.1936 - tp: 2137.0000 - fp: 114.0000 - tn: 4494.0000 - fn: 167.0000 - accuracy: 0.9593 - precision: 0.9494 - recall: 0.9275 - auc: 0.9920 - prc: 0.9848"
          ]
        },
        {
          "output_type": "stream",
          "name": "stderr",
          "text": [
            "WARNING:tensorflow:Early stopping conditioned on metric `val_prc` which is not available. Available metrics are: loss,tp,fp,tn,fn,accuracy,precision,recall,auc,prc\n"
          ]
        },
        {
          "output_type": "stream",
          "name": "stdout",
          "text": [
            "\b\b\b\b\b\b\b\b\b\b\b\b\b\b\b\b\b\b\b\b\b\b\b\b\b\b\b\b\b\b\b\b\b\b\b\b\b\b\b\b\b\b\b\b\b\b\b\b\b\b\b\b\b\b\b\b\b\b\b\b\b\b\b\b\b\b\b\b\b\b\b\b\b\b\b\b\b\b\b\b\b\b\b\b\b\b\b\b\b\b\b\b\b\b\b\b\b\b\b\b\b\b\b\b\b\b\b\b\b\b\b\b\b\b\b\b\b\b\b\b\b\b\b\b\b\b\b\b\b\b\b\b\b\b\b\b\b\b\b\b\b\b\b\b\b\b\b\b\b\b\b\b\b\b\b\b\b\b\b\b\b\b\b\b\b\b\b\b\b\b\b\b\b\b\b\b\b\b\b\b\b\b\b\b\b\b\b\b\b\b\b\b\b\b\b\b\b\b\b\b\b\b\b\b\b\b\b\b\b\r82/82 [==============================] - 0s 5ms/step - loss: 0.1983 - tp: 2424.0000 - fp: 134.0000 - tn: 5114.0000 - fn: 200.0000 - accuracy: 0.9576 - precision: 0.9476 - recall: 0.9238 - auc: 0.9913 - prc: 0.9836\n",
            "Epoch 11/100\n",
            "82/82 [==============================] - ETA: 0s - loss: 0.1785 - tp: 2478.0000 - fp: 103.0000 - tn: 5145.0000 - fn: 146.0000 - accuracy: 0.9684 - precision: 0.9601 - recall: 0.9444 - auc: 0.9935 - prc: 0.9875"
          ]
        },
        {
          "output_type": "stream",
          "name": "stderr",
          "text": [
            "WARNING:tensorflow:Early stopping conditioned on metric `val_prc` which is not available. Available metrics are: loss,tp,fp,tn,fn,accuracy,precision,recall,auc,prc\n"
          ]
        },
        {
          "output_type": "stream",
          "name": "stdout",
          "text": [
            "\b\b\b\b\b\b\b\b\b\b\b\b\b\b\b\b\b\b\b\b\b\b\b\b\b\b\b\b\b\b\b\b\b\b\b\b\b\b\b\b\b\b\b\b\b\b\b\b\b\b\b\b\b\b\b\b\b\b\b\b\b\b\b\b\b\b\b\b\b\b\b\b\b\b\b\b\b\b\b\b\b\b\b\b\b\b\b\b\b\b\b\b\b\b\b\b\b\b\b\b\b\b\b\b\b\b\b\b\b\b\b\b\b\b\b\b\b\b\b\b\b\b\b\b\b\b\b\b\b\b\b\b\b\b\b\b\b\b\b\b\b\b\b\b\b\b\b\b\b\b\b\b\b\b\b\b\b\b\b\b\b\b\b\b\b\b\b\b\b\b\b\b\b\b\b\b\b\b\b\b\b\b\b\b\b\b\b\b\b\b\b\b\b\b\b\b\b\b\b\b\b\b\b\b\b\b\b\b\b\r82/82 [==============================] - 0s 6ms/step - loss: 0.1785 - tp: 2478.0000 - fp: 103.0000 - tn: 5145.0000 - fn: 146.0000 - accuracy: 0.9684 - precision: 0.9601 - recall: 0.9444 - auc: 0.9935 - prc: 0.9875\n",
            "Epoch 12/100\n",
            "82/82 [==============================] - ETA: 0s - loss: 0.1812 - tp: 2441.0000 - fp: 125.0000 - tn: 5123.0000 - fn: 183.0000 - accuracy: 0.9609 - precision: 0.9513 - recall: 0.9303 - auc: 0.9932 - prc: 0.9870"
          ]
        },
        {
          "output_type": "stream",
          "name": "stderr",
          "text": [
            "WARNING:tensorflow:Early stopping conditioned on metric `val_prc` which is not available. Available metrics are: loss,tp,fp,tn,fn,accuracy,precision,recall,auc,prc\n"
          ]
        },
        {
          "output_type": "stream",
          "name": "stdout",
          "text": [
            "\b\b\b\b\b\b\b\b\b\b\b\b\b\b\b\b\b\b\b\b\b\b\b\b\b\b\b\b\b\b\b\b\b\b\b\b\b\b\b\b\b\b\b\b\b\b\b\b\b\b\b\b\b\b\b\b\b\b\b\b\b\b\b\b\b\b\b\b\b\b\b\b\b\b\b\b\b\b\b\b\b\b\b\b\b\b\b\b\b\b\b\b\b\b\b\b\b\b\b\b\b\b\b\b\b\b\b\b\b\b\b\b\b\b\b\b\b\b\b\b\b\b\b\b\b\b\b\b\b\b\b\b\b\b\b\b\b\b\b\b\b\b\b\b\b\b\b\b\b\b\b\b\b\b\b\b\b\b\b\b\b\b\b\b\b\b\b\b\b\b\b\b\b\b\b\b\b\b\b\b\b\b\b\b\b\b\b\b\b\b\b\b\b\b\b\b\b\b\b\b\b\b\b\b\b\b\b\b\b\r82/82 [==============================] - 0s 5ms/step - loss: 0.1812 - tp: 2441.0000 - fp: 125.0000 - tn: 5123.0000 - fn: 183.0000 - accuracy: 0.9609 - precision: 0.9513 - recall: 0.9303 - auc: 0.9932 - prc: 0.9870\n",
            "Epoch 13/100\n",
            "80/82 [============================>.] - ETA: 0s - loss: 0.1612 - tp: 2412.0000 - fp: 105.0000 - tn: 5015.0000 - fn: 148.0000 - accuracy: 0.9671 - precision: 0.9583 - recall: 0.9422 - auc: 0.9946 - prc: 0.9895"
          ]
        },
        {
          "output_type": "stream",
          "name": "stderr",
          "text": [
            "WARNING:tensorflow:Early stopping conditioned on metric `val_prc` which is not available. Available metrics are: loss,tp,fp,tn,fn,accuracy,precision,recall,auc,prc\n"
          ]
        },
        {
          "output_type": "stream",
          "name": "stdout",
          "text": [
            "\b\b\b\b\b\b\b\b\b\b\b\b\b\b\b\b\b\b\b\b\b\b\b\b\b\b\b\b\b\b\b\b\b\b\b\b\b\b\b\b\b\b\b\b\b\b\b\b\b\b\b\b\b\b\b\b\b\b\b\b\b\b\b\b\b\b\b\b\b\b\b\b\b\b\b\b\b\b\b\b\b\b\b\b\b\b\b\b\b\b\b\b\b\b\b\b\b\b\b\b\b\b\b\b\b\b\b\b\b\b\b\b\b\b\b\b\b\b\b\b\b\b\b\b\b\b\b\b\b\b\b\b\b\b\b\b\b\b\b\b\b\b\b\b\b\b\b\b\b\b\b\b\b\b\b\b\b\b\b\b\b\b\b\b\b\b\b\b\b\b\b\b\b\b\b\b\b\b\b\b\b\b\b\b\b\b\b\b\b\b\b\b\b\b\b\b\b\b\b\b\b\b\b\b\b\b\b\b\b\r82/82 [==============================] - 0s 5ms/step - loss: 0.1609 - tp: 2471.0000 - fp: 108.0000 - tn: 5140.0000 - fn: 153.0000 - accuracy: 0.9668 - precision: 0.9581 - recall: 0.9417 - auc: 0.9946 - prc: 0.9896\n",
            "Epoch 14/100\n",
            "81/82 [============================>.] - ETA: 0s - loss: 0.1553 - tp: 2453.0000 - fp: 93.0000 - tn: 5091.0000 - fn: 139.0000 - accuracy: 0.9702 - precision: 0.9635 - recall: 0.9464 - auc: 0.9951 - prc: 0.9904"
          ]
        },
        {
          "output_type": "stream",
          "name": "stderr",
          "text": [
            "WARNING:tensorflow:Early stopping conditioned on metric `val_prc` which is not available. Available metrics are: loss,tp,fp,tn,fn,accuracy,precision,recall,auc,prc\n"
          ]
        },
        {
          "output_type": "stream",
          "name": "stdout",
          "text": [
            "\b\b\b\b\b\b\b\b\b\b\b\b\b\b\b\b\b\b\b\b\b\b\b\b\b\b\b\b\b\b\b\b\b\b\b\b\b\b\b\b\b\b\b\b\b\b\b\b\b\b\b\b\b\b\b\b\b\b\b\b\b\b\b\b\b\b\b\b\b\b\b\b\b\b\b\b\b\b\b\b\b\b\b\b\b\b\b\b\b\b\b\b\b\b\b\b\b\b\b\b\b\b\b\b\b\b\b\b\b\b\b\b\b\b\b\b\b\b\b\b\b\b\b\b\b\b\b\b\b\b\b\b\b\b\b\b\b\b\b\b\b\b\b\b\b\b\b\b\b\b\b\b\b\b\b\b\b\b\b\b\b\b\b\b\b\b\b\b\b\b\b\b\b\b\b\b\b\b\b\b\b\b\b\b\b\b\b\b\b\b\b\b\b\b\b\b\b\b\b\b\b\b\b\b\b\b\b\b\r82/82 [==============================] - 0s 5ms/step - loss: 0.1549 - tp: 2484.0000 - fp: 94.0000 - tn: 5154.0000 - fn: 140.0000 - accuracy: 0.9703 - precision: 0.9635 - recall: 0.9466 - auc: 0.9951 - prc: 0.9904\n",
            "Epoch 15/100\n",
            "82/82 [==============================] - ETA: 0s - loss: 0.1421 - tp: 2496.0000 - fp: 88.0000 - tn: 5160.0000 - fn: 128.0000 - accuracy: 0.9726 - precision: 0.9659 - recall: 0.9512 - auc: 0.9959 - prc: 0.9920"
          ]
        },
        {
          "output_type": "stream",
          "name": "stderr",
          "text": [
            "WARNING:tensorflow:Early stopping conditioned on metric `val_prc` which is not available. Available metrics are: loss,tp,fp,tn,fn,accuracy,precision,recall,auc,prc\n"
          ]
        },
        {
          "output_type": "stream",
          "name": "stdout",
          "text": [
            "\b\b\b\b\b\b\b\b\b\b\b\b\b\b\b\b\b\b\b\b\b\b\b\b\b\b\b\b\b\b\b\b\b\b\b\b\b\b\b\b\b\b\b\b\b\b\b\b\b\b\b\b\b\b\b\b\b\b\b\b\b\b\b\b\b\b\b\b\b\b\b\b\b\b\b\b\b\b\b\b\b\b\b\b\b\b\b\b\b\b\b\b\b\b\b\b\b\b\b\b\b\b\b\b\b\b\b\b\b\b\b\b\b\b\b\b\b\b\b\b\b\b\b\b\b\b\b\b\b\b\b\b\b\b\b\b\b\b\b\b\b\b\b\b\b\b\b\b\b\b\b\b\b\b\b\b\b\b\b\b\b\b\b\b\b\b\b\b\b\b\b\b\b\b\b\b\b\b\b\b\b\b\b\b\b\b\b\b\b\b\b\b\b\b\b\b\b\b\b\b\b\b\b\b\b\b\b\b\r82/82 [==============================] - 0s 5ms/step - loss: 0.1421 - tp: 2496.0000 - fp: 88.0000 - tn: 5160.0000 - fn: 128.0000 - accuracy: 0.9726 - precision: 0.9659 - recall: 0.9512 - auc: 0.9959 - prc: 0.9920\n",
            "Epoch 16/100\n",
            "77/82 [===========================>..] - ETA: 0s - loss: 0.1280 - tp: 2375.0000 - fp: 60.0000 - tn: 4868.0000 - fn: 89.0000 - accuracy: 0.9798 - precision: 0.9754 - recall: 0.9639 - auc: 0.9967 - prc: 0.9934"
          ]
        },
        {
          "output_type": "stream",
          "name": "stderr",
          "text": [
            "WARNING:tensorflow:Early stopping conditioned on metric `val_prc` which is not available. Available metrics are: loss,tp,fp,tn,fn,accuracy,precision,recall,auc,prc\n"
          ]
        },
        {
          "output_type": "stream",
          "name": "stdout",
          "text": [
            "\b\b\b\b\b\b\b\b\b\b\b\b\b\b\b\b\b\b\b\b\b\b\b\b\b\b\b\b\b\b\b\b\b\b\b\b\b\b\b\b\b\b\b\b\b\b\b\b\b\b\b\b\b\b\b\b\b\b\b\b\b\b\b\b\b\b\b\b\b\b\b\b\b\b\b\b\b\b\b\b\b\b\b\b\b\b\b\b\b\b\b\b\b\b\b\b\b\b\b\b\b\b\b\b\b\b\b\b\b\b\b\b\b\b\b\b\b\b\b\b\b\b\b\b\b\b\b\b\b\b\b\b\b\b\b\b\b\b\b\b\b\b\b\b\b\b\b\b\b\b\b\b\b\b\b\b\b\b\b\b\b\b\b\b\b\b\b\b\b\b\b\b\b\b\b\b\b\b\b\b\b\b\b\b\b\b\b\b\b\b\b\b\b\b\b\b\b\b\b\b\b\b\b\b\b\b\b\r82/82 [==============================] - 0s 6ms/step - loss: 0.1292 - tp: 2527.0000 - fp: 67.0000 - tn: 5181.0000 - fn: 97.0000 - accuracy: 0.9792 - precision: 0.9742 - recall: 0.9630 - auc: 0.9967 - prc: 0.9934\n",
            "Epoch 17/100\n",
            "72/82 [=========================>....] - ETA: 0s - loss: 0.1188 - tp: 2233.0000 - fp: 48.0000 - tn: 4560.0000 - fn: 71.0000 - accuracy: 0.9828 - precision: 0.9790 - recall: 0.9692 - auc: 0.9974 - prc: 0.9945"
          ]
        },
        {
          "output_type": "stream",
          "name": "stderr",
          "text": [
            "WARNING:tensorflow:Early stopping conditioned on metric `val_prc` which is not available. Available metrics are: loss,tp,fp,tn,fn,accuracy,precision,recall,auc,prc\n"
          ]
        },
        {
          "output_type": "stream",
          "name": "stdout",
          "text": [
            "\b\b\b\b\b\b\b\b\b\b\b\b\b\b\b\b\b\b\b\b\b\b\b\b\b\b\b\b\b\b\b\b\b\b\b\b\b\b\b\b\b\b\b\b\b\b\b\b\b\b\b\b\b\b\b\b\b\b\b\b\b\b\b\b\b\b\b\b\b\b\b\b\b\b\b\b\b\b\b\b\b\b\b\b\b\b\b\b\b\b\b\b\b\b\b\b\b\b\b\b\b\b\b\b\b\b\b\b\b\b\b\b\b\b\b\b\b\b\b\b\b\b\b\b\b\b\b\b\b\b\b\b\b\b\b\b\b\b\b\b\b\b\b\b\b\b\b\b\b\b\b\b\b\b\b\b\b\b\b\b\b\b\b\b\b\b\b\b\b\b\b\b\b\b\b\b\b\b\b\b\b\b\b\b\b\b\b\b\b\b\b\b\b\b\b\b\b\b\b\b\b\b\b\b\b\b\b\r82/82 [==============================] - 0s 5ms/step - loss: 0.1176 - tp: 2544.0000 - fp: 56.0000 - tn: 5192.0000 - fn: 80.0000 - accuracy: 0.9827 - precision: 0.9785 - recall: 0.9695 - auc: 0.9973 - prc: 0.9946\n",
            "Epoch 18/100\n",
            "74/82 [==========================>...] - ETA: 0s - loss: 0.1112 - tp: 2308.0000 - fp: 39.0000 - tn: 4697.0000 - fn: 60.0000 - accuracy: 0.9861 - precision: 0.9834 - recall: 0.9747 - auc: 0.9975 - prc: 0.9948"
          ]
        },
        {
          "output_type": "stream",
          "name": "stderr",
          "text": [
            "WARNING:tensorflow:Early stopping conditioned on metric `val_prc` which is not available. Available metrics are: loss,tp,fp,tn,fn,accuracy,precision,recall,auc,prc\n"
          ]
        },
        {
          "output_type": "stream",
          "name": "stdout",
          "text": [
            "\b\b\b\b\b\b\b\b\b\b\b\b\b\b\b\b\b\b\b\b\b\b\b\b\b\b\b\b\b\b\b\b\b\b\b\b\b\b\b\b\b\b\b\b\b\b\b\b\b\b\b\b\b\b\b\b\b\b\b\b\b\b\b\b\b\b\b\b\b\b\b\b\b\b\b\b\b\b\b\b\b\b\b\b\b\b\b\b\b\b\b\b\b\b\b\b\b\b\b\b\b\b\b\b\b\b\b\b\b\b\b\b\b\b\b\b\b\b\b\b\b\b\b\b\b\b\b\b\b\b\b\b\b\b\b\b\b\b\b\b\b\b\b\b\b\b\b\b\b\b\b\b\b\b\b\b\b\b\b\b\b\b\b\b\b\b\b\b\b\b\b\b\b\b\b\b\b\b\b\b\b\b\b\b\b\b\b\b\b\b\b\b\b\b\b\b\b\b\b\b\b\b\b\b\b\b\b\r82/82 [==============================] - 0s 6ms/step - loss: 0.1137 - tp: 2548.0000 - fp: 51.0000 - tn: 5197.0000 - fn: 76.0000 - accuracy: 0.9839 - precision: 0.9804 - recall: 0.9710 - auc: 0.9974 - prc: 0.9948\n",
            "Epoch 19/100\n",
            "76/82 [==========================>...] - ETA: 0s - loss: 0.1021 - tp: 2379.0000 - fp: 38.0000 - tn: 4826.0000 - fn: 53.0000 - accuracy: 0.9875 - precision: 0.9843 - recall: 0.9782 - auc: 0.9980 - prc: 0.9958"
          ]
        },
        {
          "output_type": "stream",
          "name": "stderr",
          "text": [
            "WARNING:tensorflow:Early stopping conditioned on metric `val_prc` which is not available. Available metrics are: loss,tp,fp,tn,fn,accuracy,precision,recall,auc,prc\n"
          ]
        },
        {
          "output_type": "stream",
          "name": "stdout",
          "text": [
            "\b\b\b\b\b\b\b\b\b\b\b\b\b\b\b\b\b\b\b\b\b\b\b\b\b\b\b\b\b\b\b\b\b\b\b\b\b\b\b\b\b\b\b\b\b\b\b\b\b\b\b\b\b\b\b\b\b\b\b\b\b\b\b\b\b\b\b\b\b\b\b\b\b\b\b\b\b\b\b\b\b\b\b\b\b\b\b\b\b\b\b\b\b\b\b\b\b\b\b\b\b\b\b\b\b\b\b\b\b\b\b\b\b\b\b\b\b\b\b\b\b\b\b\b\b\b\b\b\b\b\b\b\b\b\b\b\b\b\b\b\b\b\b\b\b\b\b\b\b\b\b\b\b\b\b\b\b\b\b\b\b\b\b\b\b\b\b\b\b\b\b\b\b\b\b\b\b\b\b\b\b\b\b\b\b\b\b\b\b\b\b\b\b\b\b\b\b\b\b\b\b\b\b\b\b\b\b\r82/82 [==============================] - 0s 5ms/step - loss: 0.1036 - tp: 2560.0000 - fp: 46.0000 - tn: 5202.0000 - fn: 64.0000 - accuracy: 0.9860 - precision: 0.9823 - recall: 0.9756 - auc: 0.9979 - prc: 0.9957\n",
            "Epoch 20/100\n",
            "73/82 [=========================>....] - ETA: 0s - loss: 0.0985 - tp: 2288.0000 - fp: 30.0000 - tn: 4642.0000 - fn: 48.0000 - accuracy: 0.9889 - precision: 0.9871 - recall: 0.9795 - auc: 0.9981 - prc: 0.9959"
          ]
        },
        {
          "output_type": "stream",
          "name": "stderr",
          "text": [
            "WARNING:tensorflow:Early stopping conditioned on metric `val_prc` which is not available. Available metrics are: loss,tp,fp,tn,fn,accuracy,precision,recall,auc,prc\n"
          ]
        },
        {
          "output_type": "stream",
          "name": "stdout",
          "text": [
            "\b\b\b\b\b\b\b\b\b\b\b\b\b\b\b\b\b\b\b\b\b\b\b\b\b\b\b\b\b\b\b\b\b\b\b\b\b\b\b\b\b\b\b\b\b\b\b\b\b\b\b\b\b\b\b\b\b\b\b\b\b\b\b\b\b\b\b\b\b\b\b\b\b\b\b\b\b\b\b\b\b\b\b\b\b\b\b\b\b\b\b\b\b\b\b\b\b\b\b\b\b\b\b\b\b\b\b\b\b\b\b\b\b\b\b\b\b\b\b\b\b\b\b\b\b\b\b\b\b\b\b\b\b\b\b\b\b\b\b\b\b\b\b\b\b\b\b\b\b\b\b\b\b\b\b\b\b\b\b\b\b\b\b\b\b\b\b\b\b\b\b\b\b\b\b\b\b\b\b\b\b\b\b\b\b\b\b\b\b\b\b\b\b\b\b\b\b\b\b\b\b\b\b\b\b\b\b\r82/82 [==============================] - 0s 5ms/step - loss: 0.0991 - tp: 2567.0000 - fp: 37.0000 - tn: 5211.0000 - fn: 57.0000 - accuracy: 0.9881 - precision: 0.9858 - recall: 0.9783 - auc: 0.9981 - prc: 0.9960\n",
            "Epoch 21/100\n",
            "71/82 [========================>.....] - ETA: 0s - loss: 0.0983 - tp: 2217.0000 - fp: 35.0000 - tn: 4509.0000 - fn: 55.0000 - accuracy: 0.9868 - precision: 0.9845 - recall: 0.9758 - auc: 0.9980 - prc: 0.9957"
          ]
        },
        {
          "output_type": "stream",
          "name": "stderr",
          "text": [
            "WARNING:tensorflow:Early stopping conditioned on metric `val_prc` which is not available. Available metrics are: loss,tp,fp,tn,fn,accuracy,precision,recall,auc,prc\n"
          ]
        },
        {
          "output_type": "stream",
          "name": "stdout",
          "text": [
            "\b\b\b\b\b\b\b\b\b\b\b\b\b\b\b\b\b\b\b\b\b\b\b\b\b\b\b\b\b\b\b\b\b\b\b\b\b\b\b\b\b\b\b\b\b\b\b\b\b\b\b\b\b\b\b\b\b\b\b\b\b\b\b\b\b\b\b\b\b\b\b\b\b\b\b\b\b\b\b\b\b\b\b\b\b\b\b\b\b\b\b\b\b\b\b\b\b\b\b\b\b\b\b\b\b\b\b\b\b\b\b\b\b\b\b\b\b\b\b\b\b\b\b\b\b\b\b\b\b\b\b\b\b\b\b\b\b\b\b\b\b\b\b\b\b\b\b\b\b\b\b\b\b\b\b\b\b\b\b\b\b\b\b\b\b\b\b\b\b\b\b\b\b\b\b\b\b\b\b\b\b\b\b\b\b\b\b\b\b\b\b\b\b\b\b\b\b\b\b\b\b\b\b\b\b\b\b\r82/82 [==============================] - 0s 5ms/step - loss: 0.0954 - tp: 2564.0000 - fp: 39.0000 - tn: 5209.0000 - fn: 60.0000 - accuracy: 0.9874 - precision: 0.9850 - recall: 0.9771 - auc: 0.9981 - prc: 0.9960\n",
            "Epoch 22/100\n",
            "77/82 [===========================>..] - ETA: 0s - loss: 0.0949 - tp: 2410.0000 - fp: 42.0000 - tn: 4886.0000 - fn: 54.0000 - accuracy: 0.9870 - precision: 0.9829 - recall: 0.9781 - auc: 0.9980 - prc: 0.9958"
          ]
        },
        {
          "output_type": "stream",
          "name": "stderr",
          "text": [
            "WARNING:tensorflow:Early stopping conditioned on metric `val_prc` which is not available. Available metrics are: loss,tp,fp,tn,fn,accuracy,precision,recall,auc,prc\n"
          ]
        },
        {
          "output_type": "stream",
          "name": "stdout",
          "text": [
            "\b\b\b\b\b\b\b\b\b\b\b\b\b\b\b\b\b\b\b\b\b\b\b\b\b\b\b\b\b\b\b\b\b\b\b\b\b\b\b\b\b\b\b\b\b\b\b\b\b\b\b\b\b\b\b\b\b\b\b\b\b\b\b\b\b\b\b\b\b\b\b\b\b\b\b\b\b\b\b\b\b\b\b\b\b\b\b\b\b\b\b\b\b\b\b\b\b\b\b\b\b\b\b\b\b\b\b\b\b\b\b\b\b\b\b\b\b\b\b\b\b\b\b\b\b\b\b\b\b\b\b\b\b\b\b\b\b\b\b\b\b\b\b\b\b\b\b\b\b\b\b\b\b\b\b\b\b\b\b\b\b\b\b\b\b\b\b\b\b\b\b\b\b\b\b\b\b\b\b\b\b\b\b\b\b\b\b\b\b\b\b\b\b\b\b\b\b\b\b\b\b\b\b\b\b\b\b\r82/82 [==============================] - 1s 6ms/step - loss: 0.0947 - tp: 2566.0000 - fp: 46.0000 - tn: 5202.0000 - fn: 58.0000 - accuracy: 0.9868 - precision: 0.9824 - recall: 0.9779 - auc: 0.9980 - prc: 0.9959\n",
            "Epoch 23/100\n",
            "74/82 [==========================>...] - ETA: 0s - loss: 0.0899 - tp: 2328.0000 - fp: 25.0000 - tn: 4711.0000 - fn: 40.0000 - accuracy: 0.9909 - precision: 0.9894 - recall: 0.9831 - auc: 0.9983 - prc: 0.9964"
          ]
        },
        {
          "output_type": "stream",
          "name": "stderr",
          "text": [
            "WARNING:tensorflow:Early stopping conditioned on metric `val_prc` which is not available. Available metrics are: loss,tp,fp,tn,fn,accuracy,precision,recall,auc,prc\n"
          ]
        },
        {
          "output_type": "stream",
          "name": "stdout",
          "text": [
            "\b\b\b\b\b\b\b\b\b\b\b\b\b\b\b\b\b\b\b\b\b\b\b\b\b\b\b\b\b\b\b\b\b\b\b\b\b\b\b\b\b\b\b\b\b\b\b\b\b\b\b\b\b\b\b\b\b\b\b\b\b\b\b\b\b\b\b\b\b\b\b\b\b\b\b\b\b\b\b\b\b\b\b\b\b\b\b\b\b\b\b\b\b\b\b\b\b\b\b\b\b\b\b\b\b\b\b\b\b\b\b\b\b\b\b\b\b\b\b\b\b\b\b\b\b\b\b\b\b\b\b\b\b\b\b\b\b\b\b\b\b\b\b\b\b\b\b\b\b\b\b\b\b\b\b\b\b\b\b\b\b\b\b\b\b\b\b\b\b\b\b\b\b\b\b\b\b\b\b\b\b\b\b\b\b\b\b\b\b\b\b\b\b\b\b\b\b\b\b\b\b\b\b\b\b\b\b\r82/82 [==============================] - 0s 6ms/step - loss: 0.0883 - tp: 2580.0000 - fp: 28.0000 - tn: 5220.0000 - fn: 44.0000 - accuracy: 0.9909 - precision: 0.9893 - recall: 0.9832 - auc: 0.9984 - prc: 0.9966\n",
            "Epoch 24/100\n",
            "81/82 [============================>.] - ETA: 0s - loss: 0.0863 - tp: 2545.0000 - fp: 36.0000 - tn: 5148.0000 - fn: 47.0000 - accuracy: 0.9893 - precision: 0.9861 - recall: 0.9819 - auc: 0.9984 - prc: 0.9966"
          ]
        },
        {
          "output_type": "stream",
          "name": "stderr",
          "text": [
            "WARNING:tensorflow:Early stopping conditioned on metric `val_prc` which is not available. Available metrics are: loss,tp,fp,tn,fn,accuracy,precision,recall,auc,prc\n"
          ]
        },
        {
          "output_type": "stream",
          "name": "stdout",
          "text": [
            "\b\b\b\b\b\b\b\b\b\b\b\b\b\b\b\b\b\b\b\b\b\b\b\b\b\b\b\b\b\b\b\b\b\b\b\b\b\b\b\b\b\b\b\b\b\b\b\b\b\b\b\b\b\b\b\b\b\b\b\b\b\b\b\b\b\b\b\b\b\b\b\b\b\b\b\b\b\b\b\b\b\b\b\b\b\b\b\b\b\b\b\b\b\b\b\b\b\b\b\b\b\b\b\b\b\b\b\b\b\b\b\b\b\b\b\b\b\b\b\b\b\b\b\b\b\b\b\b\b\b\b\b\b\b\b\b\b\b\b\b\b\b\b\b\b\b\b\b\b\b\b\b\b\b\b\b\b\b\b\b\b\b\b\b\b\b\b\b\b\b\b\b\b\b\b\b\b\b\b\b\b\b\b\b\b\b\b\b\b\b\b\b\b\b\b\b\b\b\b\b\b\b\b\b\b\b\b\r82/82 [==============================] - 0s 5ms/step - loss: 0.0868 - tp: 2575.0000 - fp: 37.0000 - tn: 5211.0000 - fn: 49.0000 - accuracy: 0.9891 - precision: 0.9858 - recall: 0.9813 - auc: 0.9984 - prc: 0.9966\n",
            "Epoch 25/100\n",
            "79/82 [===========================>..] - ETA: 0s - loss: 0.0837 - tp: 2492.0000 - fp: 31.0000 - tn: 5025.0000 - fn: 36.0000 - accuracy: 0.9912 - precision: 0.9877 - recall: 0.9858 - auc: 0.9984 - prc: 0.9966"
          ]
        },
        {
          "output_type": "stream",
          "name": "stderr",
          "text": [
            "WARNING:tensorflow:Early stopping conditioned on metric `val_prc` which is not available. Available metrics are: loss,tp,fp,tn,fn,accuracy,precision,recall,auc,prc\n"
          ]
        },
        {
          "output_type": "stream",
          "name": "stdout",
          "text": [
            "\b\b\b\b\b\b\b\b\b\b\b\b\b\b\b\b\b\b\b\b\b\b\b\b\b\b\b\b\b\b\b\b\b\b\b\b\b\b\b\b\b\b\b\b\b\b\b\b\b\b\b\b\b\b\b\b\b\b\b\b\b\b\b\b\b\b\b\b\b\b\b\b\b\b\b\b\b\b\b\b\b\b\b\b\b\b\b\b\b\b\b\b\b\b\b\b\b\b\b\b\b\b\b\b\b\b\b\b\b\b\b\b\b\b\b\b\b\b\b\b\b\b\b\b\b\b\b\b\b\b\b\b\b\b\b\b\b\b\b\b\b\b\b\b\b\b\b\b\b\b\b\b\b\b\b\b\b\b\b\b\b\b\b\b\b\b\b\b\b\b\b\b\b\b\b\b\b\b\b\b\b\b\b\b\b\b\b\b\b\b\b\b\b\b\b\b\b\b\b\b\b\b\b\b\b\b\b\r82/82 [==============================] - 0s 6ms/step - loss: 0.0836 - tp: 2586.0000 - fp: 32.0000 - tn: 5216.0000 - fn: 38.0000 - accuracy: 0.9911 - precision: 0.9878 - recall: 0.9855 - auc: 0.9984 - prc: 0.9966\n",
            "Epoch 26/100\n",
            "77/82 [===========================>..] - ETA: 0s - loss: 0.0758 - tp: 2425.0000 - fp: 28.0000 - tn: 4900.0000 - fn: 39.0000 - accuracy: 0.9909 - precision: 0.9886 - recall: 0.9842 - auc: 0.9989 - prc: 0.9976"
          ]
        },
        {
          "output_type": "stream",
          "name": "stderr",
          "text": [
            "WARNING:tensorflow:Early stopping conditioned on metric `val_prc` which is not available. Available metrics are: loss,tp,fp,tn,fn,accuracy,precision,recall,auc,prc\n"
          ]
        },
        {
          "output_type": "stream",
          "name": "stdout",
          "text": [
            "\b\b\b\b\b\b\b\b\b\b\b\b\b\b\b\b\b\b\b\b\b\b\b\b\b\b\b\b\b\b\b\b\b\b\b\b\b\b\b\b\b\b\b\b\b\b\b\b\b\b\b\b\b\b\b\b\b\b\b\b\b\b\b\b\b\b\b\b\b\b\b\b\b\b\b\b\b\b\b\b\b\b\b\b\b\b\b\b\b\b\b\b\b\b\b\b\b\b\b\b\b\b\b\b\b\b\b\b\b\b\b\b\b\b\b\b\b\b\b\b\b\b\b\b\b\b\b\b\b\b\b\b\b\b\b\b\b\b\b\b\b\b\b\b\b\b\b\b\b\b\b\b\b\b\b\b\b\b\b\b\b\b\b\b\b\b\b\b\b\b\b\b\b\b\b\b\b\b\b\b\b\b\b\b\b\b\b\b\b\b\b\b\b\b\b\b\b\b\b\b\b\b\b\b\b\b\b\r82/82 [==============================] - 0s 6ms/step - loss: 0.0829 - tp: 2579.0000 - fp: 33.0000 - tn: 5215.0000 - fn: 45.0000 - accuracy: 0.9901 - precision: 0.9874 - recall: 0.9829 - auc: 0.9985 - prc: 0.9968\n",
            "Epoch 27/100\n",
            "74/82 [==========================>...] - ETA: 0s - loss: 0.0801 - tp: 2334.0000 - fp: 23.0000 - tn: 4713.0000 - fn: 34.0000 - accuracy: 0.9920 - precision: 0.9902 - recall: 0.9856 - auc: 0.9985 - prc: 0.9967"
          ]
        },
        {
          "output_type": "stream",
          "name": "stderr",
          "text": [
            "WARNING:tensorflow:Early stopping conditioned on metric `val_prc` which is not available. Available metrics are: loss,tp,fp,tn,fn,accuracy,precision,recall,auc,prc\n"
          ]
        },
        {
          "output_type": "stream",
          "name": "stdout",
          "text": [
            "\b\b\b\b\b\b\b\b\b\b\b\b\b\b\b\b\b\b\b\b\b\b\b\b\b\b\b\b\b\b\b\b\b\b\b\b\b\b\b\b\b\b\b\b\b\b\b\b\b\b\b\b\b\b\b\b\b\b\b\b\b\b\b\b\b\b\b\b\b\b\b\b\b\b\b\b\b\b\b\b\b\b\b\b\b\b\b\b\b\b\b\b\b\b\b\b\b\b\b\b\b\b\b\b\b\b\b\b\b\b\b\b\b\b\b\b\b\b\b\b\b\b\b\b\b\b\b\b\b\b\b\b\b\b\b\b\b\b\b\b\b\b\b\b\b\b\b\b\b\b\b\b\b\b\b\b\b\b\b\b\b\b\b\b\b\b\b\b\b\b\b\b\b\b\b\b\b\b\b\b\b\b\b\b\b\b\b\b\b\b\b\b\b\b\b\b\b\b\b\b\b\b\b\b\b\b\b\r82/82 [==============================] - 0s 6ms/step - loss: 0.0782 - tp: 2585.0000 - fp: 26.0000 - tn: 5222.0000 - fn: 39.0000 - accuracy: 0.9917 - precision: 0.9900 - recall: 0.9851 - auc: 0.9986 - prc: 0.9970\n",
            "Epoch 28/100\n",
            "73/82 [=========================>....] - ETA: 0s - loss: 0.0778 - tp: 2302.0000 - fp: 22.0000 - tn: 4650.0000 - fn: 34.0000 - accuracy: 0.9920 - precision: 0.9905 - recall: 0.9854 - auc: 0.9984 - prc: 0.9967"
          ]
        },
        {
          "output_type": "stream",
          "name": "stderr",
          "text": [
            "WARNING:tensorflow:Early stopping conditioned on metric `val_prc` which is not available. Available metrics are: loss,tp,fp,tn,fn,accuracy,precision,recall,auc,prc\n"
          ]
        },
        {
          "output_type": "stream",
          "name": "stdout",
          "text": [
            "\b\b\b\b\b\b\b\b\b\b\b\b\b\b\b\b\b\b\b\b\b\b\b\b\b\b\b\b\b\b\b\b\b\b\b\b\b\b\b\b\b\b\b\b\b\b\b\b\b\b\b\b\b\b\b\b\b\b\b\b\b\b\b\b\b\b\b\b\b\b\b\b\b\b\b\b\b\b\b\b\b\b\b\b\b\b\b\b\b\b\b\b\b\b\b\b\b\b\b\b\b\b\b\b\b\b\b\b\b\b\b\b\b\b\b\b\b\b\b\b\b\b\b\b\b\b\b\b\b\b\b\b\b\b\b\b\b\b\b\b\b\b\b\b\b\b\b\b\b\b\b\b\b\b\b\b\b\b\b\b\b\b\b\b\b\b\b\b\b\b\b\b\b\b\b\b\b\b\b\b\b\b\b\b\b\b\b\b\b\b\b\b\b\b\b\b\b\b\b\b\b\b\b\b\b\b\b\r82/82 [==============================] - 0s 5ms/step - loss: 0.0768 - tp: 2583.0000 - fp: 28.0000 - tn: 5220.0000 - fn: 41.0000 - accuracy: 0.9912 - precision: 0.9893 - recall: 0.9844 - auc: 0.9986 - prc: 0.9969\n",
            "Epoch 29/100\n",
            "76/82 [==========================>...] - ETA: 0s - loss: 0.0736 - tp: 2400.0000 - fp: 25.0000 - tn: 4839.0000 - fn: 32.0000 - accuracy: 0.9922 - precision: 0.9897 - recall: 0.9868 - auc: 0.9985 - prc: 0.9969"
          ]
        },
        {
          "output_type": "stream",
          "name": "stderr",
          "text": [
            "WARNING:tensorflow:Early stopping conditioned on metric `val_prc` which is not available. Available metrics are: loss,tp,fp,tn,fn,accuracy,precision,recall,auc,prc\n"
          ]
        },
        {
          "output_type": "stream",
          "name": "stdout",
          "text": [
            "\b\b\b\b\b\b\b\b\b\b\b\b\b\b\b\b\b\b\b\b\b\b\b\b\b\b\b\b\b\b\b\b\b\b\b\b\b\b\b\b\b\b\b\b\b\b\b\b\b\b\b\b\b\b\b\b\b\b\b\b\b\b\b\b\b\b\b\b\b\b\b\b\b\b\b\b\b\b\b\b\b\b\b\b\b\b\b\b\b\b\b\b\b\b\b\b\b\b\b\b\b\b\b\b\b\b\b\b\b\b\b\b\b\b\b\b\b\b\b\b\b\b\b\b\b\b\b\b\b\b\b\b\b\b\b\b\b\b\b\b\b\b\b\b\b\b\b\b\b\b\b\b\b\b\b\b\b\b\b\b\b\b\b\b\b\b\b\b\b\b\b\b\b\b\b\b\b\b\b\b\b\b\b\b\b\b\b\b\b\b\b\b\b\b\b\b\b\b\b\b\b\b\b\b\b\b\b\r82/82 [==============================] - 0s 6ms/step - loss: 0.0726 - tp: 2590.0000 - fp: 26.0000 - tn: 5222.0000 - fn: 34.0000 - accuracy: 0.9924 - precision: 0.9901 - recall: 0.9870 - auc: 0.9986 - prc: 0.9971\n",
            "Epoch 30/100\n",
            "81/82 [============================>.] - ETA: 0s - loss: 0.0684 - tp: 2561.0000 - fp: 21.0000 - tn: 5163.0000 - fn: 31.0000 - accuracy: 0.9933 - precision: 0.9919 - recall: 0.9880 - auc: 0.9986 - prc: 0.9971"
          ]
        },
        {
          "output_type": "stream",
          "name": "stderr",
          "text": [
            "WARNING:tensorflow:Early stopping conditioned on metric `val_prc` which is not available. Available metrics are: loss,tp,fp,tn,fn,accuracy,precision,recall,auc,prc\n"
          ]
        },
        {
          "output_type": "stream",
          "name": "stdout",
          "text": [
            "\b\b\b\b\b\b\b\b\b\b\b\b\b\b\b\b\b\b\b\b\b\b\b\b\b\b\b\b\b\b\b\b\b\b\b\b\b\b\b\b\b\b\b\b\b\b\b\b\b\b\b\b\b\b\b\b\b\b\b\b\b\b\b\b\b\b\b\b\b\b\b\b\b\b\b\b\b\b\b\b\b\b\b\b\b\b\b\b\b\b\b\b\b\b\b\b\b\b\b\b\b\b\b\b\b\b\b\b\b\b\b\b\b\b\b\b\b\b\b\b\b\b\b\b\b\b\b\b\b\b\b\b\b\b\b\b\b\b\b\b\b\b\b\b\b\b\b\b\b\b\b\b\b\b\b\b\b\b\b\b\b\b\b\b\b\b\b\b\b\b\b\b\b\b\b\b\b\b\b\b\b\b\b\b\b\b\b\b\b\b\b\b\b\b\b\b\b\b\b\b\b\b\b\b\b\b\b\r82/82 [==============================] - 0s 5ms/step - loss: 0.0680 - tp: 2593.0000 - fp: 21.0000 - tn: 5227.0000 - fn: 31.0000 - accuracy: 0.9934 - precision: 0.9920 - recall: 0.9882 - auc: 0.9987 - prc: 0.9972\n",
            "Epoch 31/100\n",
            "77/82 [===========================>..] - ETA: 0s - loss: 0.0632 - tp: 2444.0000 - fp: 14.0000 - tn: 4914.0000 - fn: 20.0000 - accuracy: 0.9954 - precision: 0.9943 - recall: 0.9919 - auc: 0.9987 - prc: 0.9972"
          ]
        },
        {
          "output_type": "stream",
          "name": "stderr",
          "text": [
            "WARNING:tensorflow:Early stopping conditioned on metric `val_prc` which is not available. Available metrics are: loss,tp,fp,tn,fn,accuracy,precision,recall,auc,prc\n"
          ]
        },
        {
          "output_type": "stream",
          "name": "stdout",
          "text": [
            "\b\b\b\b\b\b\b\b\b\b\b\b\b\b\b\b\b\b\b\b\b\b\b\b\b\b\b\b\b\b\b\b\b\b\b\b\b\b\b\b\b\b\b\b\b\b\b\b\b\b\b\b\b\b\b\b\b\b\b\b\b\b\b\b\b\b\b\b\b\b\b\b\b\b\b\b\b\b\b\b\b\b\b\b\b\b\b\b\b\b\b\b\b\b\b\b\b\b\b\b\b\b\b\b\b\b\b\b\b\b\b\b\b\b\b\b\b\b\b\b\b\b\b\b\b\b\b\b\b\b\b\b\b\b\b\b\b\b\b\b\b\b\b\b\b\b\b\b\b\b\b\b\b\b\b\b\b\b\b\b\b\b\b\b\b\b\b\b\b\b\b\b\b\b\b\b\b\b\b\b\b\b\b\b\b\b\b\b\b\b\b\b\b\b\b\b\b\b\b\b\b\b\b\b\b\b\b\r82/82 [==============================] - 1s 6ms/step - loss: 0.0645 - tp: 2599.0000 - fp: 18.0000 - tn: 5230.0000 - fn: 25.0000 - accuracy: 0.9945 - precision: 0.9931 - recall: 0.9905 - auc: 0.9987 - prc: 0.9973\n",
            "Epoch 32/100\n",
            "79/82 [===========================>..] - ETA: 0s - loss: 0.0622 - tp: 2506.0000 - fp: 11.0000 - tn: 5045.0000 - fn: 22.0000 - accuracy: 0.9956 - precision: 0.9956 - recall: 0.9913 - auc: 0.9987 - prc: 0.9973"
          ]
        },
        {
          "output_type": "stream",
          "name": "stderr",
          "text": [
            "WARNING:tensorflow:Early stopping conditioned on metric `val_prc` which is not available. Available metrics are: loss,tp,fp,tn,fn,accuracy,precision,recall,auc,prc\n"
          ]
        },
        {
          "output_type": "stream",
          "name": "stdout",
          "text": [
            "\b\b\b\b\b\b\b\b\b\b\b\b\b\b\b\b\b\b\b\b\b\b\b\b\b\b\b\b\b\b\b\b\b\b\b\b\b\b\b\b\b\b\b\b\b\b\b\b\b\b\b\b\b\b\b\b\b\b\b\b\b\b\b\b\b\b\b\b\b\b\b\b\b\b\b\b\b\b\b\b\b\b\b\b\b\b\b\b\b\b\b\b\b\b\b\b\b\b\b\b\b\b\b\b\b\b\b\b\b\b\b\b\b\b\b\b\b\b\b\b\b\b\b\b\b\b\b\b\b\b\b\b\b\b\b\b\b\b\b\b\b\b\b\b\b\b\b\b\b\b\b\b\b\b\b\b\b\b\b\b\b\b\b\b\b\b\b\b\b\b\b\b\b\b\b\b\b\b\b\b\b\b\b\b\b\b\b\b\b\b\b\b\b\b\b\b\b\b\b\b\b\b\b\b\b\b\b\r82/82 [==============================] - 0s 6ms/step - loss: 0.0619 - tp: 2600.0000 - fp: 12.0000 - tn: 5236.0000 - fn: 24.0000 - accuracy: 0.9954 - precision: 0.9954 - recall: 0.9909 - auc: 0.9988 - prc: 0.9974\n",
            "Epoch 33/100\n",
            "80/82 [============================>.] - ETA: 0s - loss: 0.0604 - tp: 2538.0000 - fp: 16.0000 - tn: 5104.0000 - fn: 22.0000 - accuracy: 0.9951 - precision: 0.9937 - recall: 0.9914 - auc: 0.9987 - prc: 0.9973"
          ]
        },
        {
          "output_type": "stream",
          "name": "stderr",
          "text": [
            "WARNING:tensorflow:Early stopping conditioned on metric `val_prc` which is not available. Available metrics are: loss,tp,fp,tn,fn,accuracy,precision,recall,auc,prc\n"
          ]
        },
        {
          "output_type": "stream",
          "name": "stdout",
          "text": [
            "\b\b\b\b\b\b\b\b\b\b\b\b\b\b\b\b\b\b\b\b\b\b\b\b\b\b\b\b\b\b\b\b\b\b\b\b\b\b\b\b\b\b\b\b\b\b\b\b\b\b\b\b\b\b\b\b\b\b\b\b\b\b\b\b\b\b\b\b\b\b\b\b\b\b\b\b\b\b\b\b\b\b\b\b\b\b\b\b\b\b\b\b\b\b\b\b\b\b\b\b\b\b\b\b\b\b\b\b\b\b\b\b\b\b\b\b\b\b\b\b\b\b\b\b\b\b\b\b\b\b\b\b\b\b\b\b\b\b\b\b\b\b\b\b\b\b\b\b\b\b\b\b\b\b\b\b\b\b\b\b\b\b\b\b\b\b\b\b\b\b\b\b\b\b\b\b\b\b\b\b\b\b\b\b\b\b\b\b\b\b\b\b\b\b\b\b\b\b\b\b\b\b\b\b\b\b\b\r82/82 [==============================] - 0s 6ms/step - loss: 0.0598 - tp: 2602.0000 - fp: 16.0000 - tn: 5232.0000 - fn: 22.0000 - accuracy: 0.9952 - precision: 0.9939 - recall: 0.9916 - auc: 0.9988 - prc: 0.9974\n",
            "Epoch 34/100\n",
            "79/82 [===========================>..] - ETA: 0s - loss: 0.0572 - tp: 2511.0000 - fp: 11.0000 - tn: 5045.0000 - fn: 17.0000 - accuracy: 0.9963 - precision: 0.9956 - recall: 0.9933 - auc: 0.9988 - prc: 0.9974"
          ]
        },
        {
          "output_type": "stream",
          "name": "stderr",
          "text": [
            "WARNING:tensorflow:Early stopping conditioned on metric `val_prc` which is not available. Available metrics are: loss,tp,fp,tn,fn,accuracy,precision,recall,auc,prc\n"
          ]
        },
        {
          "output_type": "stream",
          "name": "stdout",
          "text": [
            "\b\b\b\b\b\b\b\b\b\b\b\b\b\b\b\b\b\b\b\b\b\b\b\b\b\b\b\b\b\b\b\b\b\b\b\b\b\b\b\b\b\b\b\b\b\b\b\b\b\b\b\b\b\b\b\b\b\b\b\b\b\b\b\b\b\b\b\b\b\b\b\b\b\b\b\b\b\b\b\b\b\b\b\b\b\b\b\b\b\b\b\b\b\b\b\b\b\b\b\b\b\b\b\b\b\b\b\b\b\b\b\b\b\b\b\b\b\b\b\b\b\b\b\b\b\b\b\b\b\b\b\b\b\b\b\b\b\b\b\b\b\b\b\b\b\b\b\b\b\b\b\b\b\b\b\b\b\b\b\b\b\b\b\b\b\b\b\b\b\b\b\b\b\b\b\b\b\b\b\b\b\b\b\b\b\b\b\b\b\b\b\b\b\b\b\b\b\b\b\b\b\b\b\b\b\b\b\r82/82 [==============================] - 0s 6ms/step - loss: 0.0565 - tp: 2607.0000 - fp: 11.0000 - tn: 5237.0000 - fn: 17.0000 - accuracy: 0.9964 - precision: 0.9958 - recall: 0.9935 - auc: 0.9988 - prc: 0.9975\n",
            "Epoch 35/100\n",
            "74/82 [==========================>...] - ETA: 0s - loss: 0.0573 - tp: 2350.0000 - fp: 12.0000 - tn: 4724.0000 - fn: 18.0000 - accuracy: 0.9958 - precision: 0.9949 - recall: 0.9924 - auc: 0.9987 - prc: 0.9972"
          ]
        },
        {
          "output_type": "stream",
          "name": "stderr",
          "text": [
            "WARNING:tensorflow:Early stopping conditioned on metric `val_prc` which is not available. Available metrics are: loss,tp,fp,tn,fn,accuracy,precision,recall,auc,prc\n"
          ]
        },
        {
          "output_type": "stream",
          "name": "stdout",
          "text": [
            "\b\b\b\b\b\b\b\b\b\b\b\b\b\b\b\b\b\b\b\b\b\b\b\b\b\b\b\b\b\b\b\b\b\b\b\b\b\b\b\b\b\b\b\b\b\b\b\b\b\b\b\b\b\b\b\b\b\b\b\b\b\b\b\b\b\b\b\b\b\b\b\b\b\b\b\b\b\b\b\b\b\b\b\b\b\b\b\b\b\b\b\b\b\b\b\b\b\b\b\b\b\b\b\b\b\b\b\b\b\b\b\b\b\b\b\b\b\b\b\b\b\b\b\b\b\b\b\b\b\b\b\b\b\b\b\b\b\b\b\b\b\b\b\b\b\b\b\b\b\b\b\b\b\b\b\b\b\b\b\b\b\b\b\b\b\b\b\b\b\b\b\b\b\b\b\b\b\b\b\b\b\b\b\b\b\b\b\b\b\b\b\b\b\b\b\b\b\b\b\b\b\b\b\b\b\b\b\r82/82 [==============================] - 0s 6ms/step - loss: 0.0557 - tp: 2605.0000 - fp: 13.0000 - tn: 5235.0000 - fn: 19.0000 - accuracy: 0.9959 - precision: 0.9950 - recall: 0.9928 - auc: 0.9988 - prc: 0.9974\n",
            "Epoch 36/100\n",
            "78/82 [===========================>..] - ETA: 0s - loss: 0.0539 - tp: 2484.0000 - fp: 8.0000 - tn: 4984.0000 - fn: 12.0000 - accuracy: 0.9973 - precision: 0.9968 - recall: 0.9952 - auc: 0.9988 - prc: 0.9974"
          ]
        },
        {
          "output_type": "stream",
          "name": "stderr",
          "text": [
            "WARNING:tensorflow:Early stopping conditioned on metric `val_prc` which is not available. Available metrics are: loss,tp,fp,tn,fn,accuracy,precision,recall,auc,prc\n"
          ]
        },
        {
          "output_type": "stream",
          "name": "stdout",
          "text": [
            "\b\b\b\b\b\b\b\b\b\b\b\b\b\b\b\b\b\b\b\b\b\b\b\b\b\b\b\b\b\b\b\b\b\b\b\b\b\b\b\b\b\b\b\b\b\b\b\b\b\b\b\b\b\b\b\b\b\b\b\b\b\b\b\b\b\b\b\b\b\b\b\b\b\b\b\b\b\b\b\b\b\b\b\b\b\b\b\b\b\b\b\b\b\b\b\b\b\b\b\b\b\b\b\b\b\b\b\b\b\b\b\b\b\b\b\b\b\b\b\b\b\b\b\b\b\b\b\b\b\b\b\b\b\b\b\b\b\b\b\b\b\b\b\b\b\b\b\b\b\b\b\b\b\b\b\b\b\b\b\b\b\b\b\b\b\b\b\b\b\b\b\b\b\b\b\b\b\b\b\b\b\b\b\b\b\b\b\b\b\b\b\b\b\b\b\b\b\b\b\b\b\b\b\b\b\b\r82/82 [==============================] - 0s 5ms/step - loss: 0.0535 - tp: 2611.0000 - fp: 8.0000 - tn: 5240.0000 - fn: 13.0000 - accuracy: 0.9973 - precision: 0.9969 - recall: 0.9950 - auc: 0.9988 - prc: 0.9975\n",
            "Epoch 37/100\n",
            "73/82 [=========================>....] - ETA: 0s - loss: 0.0530 - tp: 2325.0000 - fp: 7.0000 - tn: 4665.0000 - fn: 11.0000 - accuracy: 0.9974 - precision: 0.9970 - recall: 0.9953 - auc: 0.9987 - prc: 0.9973"
          ]
        },
        {
          "output_type": "stream",
          "name": "stderr",
          "text": [
            "WARNING:tensorflow:Early stopping conditioned on metric `val_prc` which is not available. Available metrics are: loss,tp,fp,tn,fn,accuracy,precision,recall,auc,prc\n"
          ]
        },
        {
          "output_type": "stream",
          "name": "stdout",
          "text": [
            "\b\b\b\b\b\b\b\b\b\b\b\b\b\b\b\b\b\b\b\b\b\b\b\b\b\b\b\b\b\b\b\b\b\b\b\b\b\b\b\b\b\b\b\b\b\b\b\b\b\b\b\b\b\b\b\b\b\b\b\b\b\b\b\b\b\b\b\b\b\b\b\b\b\b\b\b\b\b\b\b\b\b\b\b\b\b\b\b\b\b\b\b\b\b\b\b\b\b\b\b\b\b\b\b\b\b\b\b\b\b\b\b\b\b\b\b\b\b\b\b\b\b\b\b\b\b\b\b\b\b\b\b\b\b\b\b\b\b\b\b\b\b\b\b\b\b\b\b\b\b\b\b\b\b\b\b\b\b\b\b\b\b\b\b\b\b\b\b\b\b\b\b\b\b\b\b\b\b\b\b\b\b\b\b\b\b\b\b\b\b\b\b\b\b\b\b\b\b\b\b\b\b\b\b\b\b\r82/82 [==============================] - 0s 5ms/step - loss: 0.0525 - tp: 2611.0000 - fp: 9.0000 - tn: 5239.0000 - fn: 13.0000 - accuracy: 0.9972 - precision: 0.9966 - recall: 0.9950 - auc: 0.9988 - prc: 0.9975\n",
            "Epoch 38/100\n",
            "76/82 [==========================>...] - ETA: 0s - loss: 0.0529 - tp: 2422.0000 - fp: 7.0000 - tn: 4857.0000 - fn: 10.0000 - accuracy: 0.9977 - precision: 0.9971 - recall: 0.9959 - auc: 0.9987 - prc: 0.9973"
          ]
        },
        {
          "output_type": "stream",
          "name": "stderr",
          "text": [
            "WARNING:tensorflow:Early stopping conditioned on metric `val_prc` which is not available. Available metrics are: loss,tp,fp,tn,fn,accuracy,precision,recall,auc,prc\n"
          ]
        },
        {
          "output_type": "stream",
          "name": "stdout",
          "text": [
            "\b\b\b\b\b\b\b\b\b\b\b\b\b\b\b\b\b\b\b\b\b\b\b\b\b\b\b\b\b\b\b\b\b\b\b\b\b\b\b\b\b\b\b\b\b\b\b\b\b\b\b\b\b\b\b\b\b\b\b\b\b\b\b\b\b\b\b\b\b\b\b\b\b\b\b\b\b\b\b\b\b\b\b\b\b\b\b\b\b\b\b\b\b\b\b\b\b\b\b\b\b\b\b\b\b\b\b\b\b\b\b\b\b\b\b\b\b\b\b\b\b\b\b\b\b\b\b\b\b\b\b\b\b\b\b\b\b\b\b\b\b\b\b\b\b\b\b\b\b\b\b\b\b\b\b\b\b\b\b\b\b\b\b\b\b\b\b\b\b\b\b\b\b\b\b\b\b\b\b\b\b\b\b\b\b\b\b\b\b\b\b\b\b\b\b\b\b\b\b\b\b\b\b\b\b\b\r82/82 [==============================] - 0s 5ms/step - loss: 0.0518 - tp: 2612.0000 - fp: 9.0000 - tn: 5239.0000 - fn: 12.0000 - accuracy: 0.9973 - precision: 0.9966 - recall: 0.9954 - auc: 0.9988 - prc: 0.9975\n",
            "Epoch 39/100\n",
            "80/82 [============================>.] - ETA: 0s - loss: 0.0509 - tp: 2548.0000 - fp: 9.0000 - tn: 5111.0000 - fn: 12.0000 - accuracy: 0.9973 - precision: 0.9965 - recall: 0.9953 - auc: 0.9988 - prc: 0.9975"
          ]
        },
        {
          "output_type": "stream",
          "name": "stderr",
          "text": [
            "WARNING:tensorflow:Early stopping conditioned on metric `val_prc` which is not available. Available metrics are: loss,tp,fp,tn,fn,accuracy,precision,recall,auc,prc\n"
          ]
        },
        {
          "output_type": "stream",
          "name": "stdout",
          "text": [
            "\b\b\b\b\b\b\b\b\b\b\b\b\b\b\b\b\b\b\b\b\b\b\b\b\b\b\b\b\b\b\b\b\b\b\b\b\b\b\b\b\b\b\b\b\b\b\b\b\b\b\b\b\b\b\b\b\b\b\b\b\b\b\b\b\b\b\b\b\b\b\b\b\b\b\b\b\b\b\b\b\b\b\b\b\b\b\b\b\b\b\b\b\b\b\b\b\b\b\b\b\b\b\b\b\b\b\b\b\b\b\b\b\b\b\b\b\b\b\b\b\b\b\b\b\b\b\b\b\b\b\b\b\b\b\b\b\b\b\b\b\b\b\b\b\b\b\b\b\b\b\b\b\b\b\b\b\b\b\b\b\b\b\b\b\b\b\b\b\b\b\b\b\b\b\b\b\b\b\b\b\b\b\b\b\b\b\b\b\b\b\b\b\b\b\b\b\b\b\b\b\b\b\b\b\b\b\r82/82 [==============================] - 0s 5ms/step - loss: 0.0505 - tp: 2612.0000 - fp: 9.0000 - tn: 5239.0000 - fn: 12.0000 - accuracy: 0.9973 - precision: 0.9966 - recall: 0.9954 - auc: 0.9988 - prc: 0.9975\n",
            "Epoch 40/100\n",
            "78/82 [===========================>..] - ETA: 0s - loss: 0.0501 - tp: 2483.0000 - fp: 8.0000 - tn: 4984.0000 - fn: 13.0000 - accuracy: 0.9972 - precision: 0.9968 - recall: 0.9948 - auc: 0.9988 - prc: 0.9975"
          ]
        },
        {
          "output_type": "stream",
          "name": "stderr",
          "text": [
            "WARNING:tensorflow:Early stopping conditioned on metric `val_prc` which is not available. Available metrics are: loss,tp,fp,tn,fn,accuracy,precision,recall,auc,prc\n"
          ]
        },
        {
          "output_type": "stream",
          "name": "stdout",
          "text": [
            "\b\b\b\b\b\b\b\b\b\b\b\b\b\b\b\b\b\b\b\b\b\b\b\b\b\b\b\b\b\b\b\b\b\b\b\b\b\b\b\b\b\b\b\b\b\b\b\b\b\b\b\b\b\b\b\b\b\b\b\b\b\b\b\b\b\b\b\b\b\b\b\b\b\b\b\b\b\b\b\b\b\b\b\b\b\b\b\b\b\b\b\b\b\b\b\b\b\b\b\b\b\b\b\b\b\b\b\b\b\b\b\b\b\b\b\b\b\b\b\b\b\b\b\b\b\b\b\b\b\b\b\b\b\b\b\b\b\b\b\b\b\b\b\b\b\b\b\b\b\b\b\b\b\b\b\b\b\b\b\b\b\b\b\b\b\b\b\b\b\b\b\b\b\b\b\b\b\b\b\b\b\b\b\b\b\b\b\b\b\b\b\b\b\b\b\b\b\b\b\b\b\b\b\b\b\b\r82/82 [==============================] - 0s 6ms/step - loss: 0.0490 - tp: 2610.0000 - fp: 8.0000 - tn: 5240.0000 - fn: 14.0000 - accuracy: 0.9972 - precision: 0.9969 - recall: 0.9947 - auc: 0.9989 - prc: 0.9976\n",
            "Epoch 41/100\n",
            "74/82 [==========================>...] - ETA: 0s - loss: 0.0490 - tp: 2361.0000 - fp: 5.0000 - tn: 4731.0000 - fn: 7.0000 - accuracy: 0.9983 - precision: 0.9979 - recall: 0.9970 - auc: 0.9987 - prc: 0.9973"
          ]
        },
        {
          "output_type": "stream",
          "name": "stderr",
          "text": [
            "WARNING:tensorflow:Early stopping conditioned on metric `val_prc` which is not available. Available metrics are: loss,tp,fp,tn,fn,accuracy,precision,recall,auc,prc\n"
          ]
        },
        {
          "output_type": "stream",
          "name": "stdout",
          "text": [
            "\b\b\b\b\b\b\b\b\b\b\b\b\b\b\b\b\b\b\b\b\b\b\b\b\b\b\b\b\b\b\b\b\b\b\b\b\b\b\b\b\b\b\b\b\b\b\b\b\b\b\b\b\b\b\b\b\b\b\b\b\b\b\b\b\b\b\b\b\b\b\b\b\b\b\b\b\b\b\b\b\b\b\b\b\b\b\b\b\b\b\b\b\b\b\b\b\b\b\b\b\b\b\b\b\b\b\b\b\b\b\b\b\b\b\b\b\b\b\b\b\b\b\b\b\b\b\b\b\b\b\b\b\b\b\b\b\b\b\b\b\b\b\b\b\b\b\b\b\b\b\b\b\b\b\b\b\b\b\b\b\b\b\b\b\b\b\b\b\b\b\b\b\b\b\b\b\b\b\b\b\b\b\b\b\b\b\b\b\b\b\b\b\b\b\b\b\b\b\b\b\b\b\b\b\b\r82/82 [==============================] - 0s 5ms/step - loss: 0.0470 - tp: 2617.0000 - fp: 5.0000 - tn: 5243.0000 - fn: 7.0000 - accuracy: 0.9985 - precision: 0.9981 - recall: 0.9973 - auc: 0.9988 - prc: 0.9976\n",
            "Epoch 42/100\n",
            "74/82 [==========================>...] - ETA: 0s - loss: 0.0477 - tp: 2359.0000 - fp: 8.0000 - tn: 4728.0000 - fn: 9.0000 - accuracy: 0.9976 - precision: 0.9966 - recall: 0.9962 - auc: 0.9987 - prc: 0.9974"
          ]
        },
        {
          "output_type": "stream",
          "name": "stderr",
          "text": [
            "WARNING:tensorflow:Early stopping conditioned on metric `val_prc` which is not available. Available metrics are: loss,tp,fp,tn,fn,accuracy,precision,recall,auc,prc\n"
          ]
        },
        {
          "output_type": "stream",
          "name": "stdout",
          "text": [
            "\b\b\b\b\b\b\b\b\b\b\b\b\b\b\b\b\b\b\b\b\b\b\b\b\b\b\b\b\b\b\b\b\b\b\b\b\b\b\b\b\b\b\b\b\b\b\b\b\b\b\b\b\b\b\b\b\b\b\b\b\b\b\b\b\b\b\b\b\b\b\b\b\b\b\b\b\b\b\b\b\b\b\b\b\b\b\b\b\b\b\b\b\b\b\b\b\b\b\b\b\b\b\b\b\b\b\b\b\b\b\b\b\b\b\b\b\b\b\b\b\b\b\b\b\b\b\b\b\b\b\b\b\b\b\b\b\b\b\b\b\b\b\b\b\b\b\b\b\b\b\b\b\b\b\b\b\b\b\b\b\b\b\b\b\b\b\b\b\b\b\b\b\b\b\b\b\b\b\b\b\b\b\b\b\b\b\b\b\b\b\b\b\b\b\b\b\b\b\b\b\b\b\b\b\b\r82/82 [==============================] - 0s 6ms/step - loss: 0.0459 - tp: 2615.0000 - fp: 8.0000 - tn: 5240.0000 - fn: 9.0000 - accuracy: 0.9978 - precision: 0.9970 - recall: 0.9966 - auc: 0.9989 - prc: 0.9976\n",
            "Epoch 43/100\n",
            "74/82 [==========================>...] - ETA: 0s - loss: 0.0468 - tp: 2358.0000 - fp: 8.0000 - tn: 4728.0000 - fn: 10.0000 - accuracy: 0.9975 - precision: 0.9966 - recall: 0.9958 - auc: 0.9988 - prc: 0.9974"
          ]
        },
        {
          "output_type": "stream",
          "name": "stderr",
          "text": [
            "WARNING:tensorflow:Early stopping conditioned on metric `val_prc` which is not available. Available metrics are: loss,tp,fp,tn,fn,accuracy,precision,recall,auc,prc\n"
          ]
        },
        {
          "output_type": "stream",
          "name": "stdout",
          "text": [
            "\b\b\b\b\b\b\b\b\b\b\b\b\b\b\b\b\b\b\b\b\b\b\b\b\b\b\b\b\b\b\b\b\b\b\b\b\b\b\b\b\b\b\b\b\b\b\b\b\b\b\b\b\b\b\b\b\b\b\b\b\b\b\b\b\b\b\b\b\b\b\b\b\b\b\b\b\b\b\b\b\b\b\b\b\b\b\b\b\b\b\b\b\b\b\b\b\b\b\b\b\b\b\b\b\b\b\b\b\b\b\b\b\b\b\b\b\b\b\b\b\b\b\b\b\b\b\b\b\b\b\b\b\b\b\b\b\b\b\b\b\b\b\b\b\b\b\b\b\b\b\b\b\b\b\b\b\b\b\b\b\b\b\b\b\b\b\b\b\b\b\b\b\b\b\b\b\b\b\b\b\b\b\b\b\b\b\b\b\b\b\b\b\b\b\b\b\b\b\b\b\b\b\b\b\b\b\r82/82 [==============================] - 0s 5ms/step - loss: 0.0450 - tp: 2613.0000 - fp: 9.0000 - tn: 5239.0000 - fn: 11.0000 - accuracy: 0.9975 - precision: 0.9966 - recall: 0.9958 - auc: 0.9989 - prc: 0.9976\n",
            "Epoch 44/100\n",
            "74/82 [==========================>...] - ETA: 0s - loss: 0.0439 - tp: 2361.0000 - fp: 6.0000 - tn: 4730.0000 - fn: 7.0000 - accuracy: 0.9982 - precision: 0.9975 - recall: 0.9970 - auc: 0.9988 - prc: 0.9974"
          ]
        },
        {
          "output_type": "stream",
          "name": "stderr",
          "text": [
            "WARNING:tensorflow:Early stopping conditioned on metric `val_prc` which is not available. Available metrics are: loss,tp,fp,tn,fn,accuracy,precision,recall,auc,prc\n"
          ]
        },
        {
          "output_type": "stream",
          "name": "stdout",
          "text": [
            "\b\b\b\b\b\b\b\b\b\b\b\b\b\b\b\b\b\b\b\b\b\b\b\b\b\b\b\b\b\b\b\b\b\b\b\b\b\b\b\b\b\b\b\b\b\b\b\b\b\b\b\b\b\b\b\b\b\b\b\b\b\b\b\b\b\b\b\b\b\b\b\b\b\b\b\b\b\b\b\b\b\b\b\b\b\b\b\b\b\b\b\b\b\b\b\b\b\b\b\b\b\b\b\b\b\b\b\b\b\b\b\b\b\b\b\b\b\b\b\b\b\b\b\b\b\b\b\b\b\b\b\b\b\b\b\b\b\b\b\b\b\b\b\b\b\b\b\b\b\b\b\b\b\b\b\b\b\b\b\b\b\b\b\b\b\b\b\b\b\b\b\b\b\b\b\b\b\b\b\b\b\b\b\b\b\b\b\b\b\b\b\b\b\b\b\b\b\b\b\b\b\b\b\b\b\r82/82 [==============================] - 0s 5ms/step - loss: 0.0425 - tp: 2617.0000 - fp: 6.0000 - tn: 5242.0000 - fn: 7.0000 - accuracy: 0.9983 - precision: 0.9977 - recall: 0.9973 - auc: 0.9989 - prc: 0.9977\n",
            "Epoch 45/100\n",
            "82/82 [==============================] - ETA: 0s - loss: 0.0419 - tp: 2616.0000 - fp: 6.0000 - tn: 5242.0000 - fn: 8.0000 - accuracy: 0.9982 - precision: 0.9977 - recall: 0.9970 - auc: 0.9989 - prc: 0.9977"
          ]
        },
        {
          "output_type": "stream",
          "name": "stderr",
          "text": [
            "WARNING:tensorflow:Early stopping conditioned on metric `val_prc` which is not available. Available metrics are: loss,tp,fp,tn,fn,accuracy,precision,recall,auc,prc\n"
          ]
        },
        {
          "output_type": "stream",
          "name": "stdout",
          "text": [
            "\b\b\b\b\b\b\b\b\b\b\b\b\b\b\b\b\b\b\b\b\b\b\b\b\b\b\b\b\b\b\b\b\b\b\b\b\b\b\b\b\b\b\b\b\b\b\b\b\b\b\b\b\b\b\b\b\b\b\b\b\b\b\b\b\b\b\b\b\b\b\b\b\b\b\b\b\b\b\b\b\b\b\b\b\b\b\b\b\b\b\b\b\b\b\b\b\b\b\b\b\b\b\b\b\b\b\b\b\b\b\b\b\b\b\b\b\b\b\b\b\b\b\b\b\b\b\b\b\b\b\b\b\b\b\b\b\b\b\b\b\b\b\b\b\b\b\b\b\b\b\b\b\b\b\b\b\b\b\b\b\b\b\b\b\b\b\b\b\b\b\b\b\b\b\b\b\b\b\b\b\b\b\b\b\b\b\b\b\b\b\b\b\b\b\b\b\b\b\b\b\b\b\b\b\b\r82/82 [==============================] - 0s 5ms/step - loss: 0.0419 - tp: 2616.0000 - fp: 6.0000 - tn: 5242.0000 - fn: 8.0000 - accuracy: 0.9982 - precision: 0.9977 - recall: 0.9970 - auc: 0.9989 - prc: 0.9977\n",
            "Epoch 46/100\n",
            "78/82 [===========================>..] - ETA: 0s - loss: 0.0423 - tp: 2489.0000 - fp: 6.0000 - tn: 4986.0000 - fn: 7.0000 - accuracy: 0.9983 - precision: 0.9976 - recall: 0.9972 - auc: 0.9988 - prc: 0.9976"
          ]
        },
        {
          "output_type": "stream",
          "name": "stderr",
          "text": [
            "WARNING:tensorflow:Early stopping conditioned on metric `val_prc` which is not available. Available metrics are: loss,tp,fp,tn,fn,accuracy,precision,recall,auc,prc\n"
          ]
        },
        {
          "output_type": "stream",
          "name": "stdout",
          "text": [
            "\b\b\b\b\b\b\b\b\b\b\b\b\b\b\b\b\b\b\b\b\b\b\b\b\b\b\b\b\b\b\b\b\b\b\b\b\b\b\b\b\b\b\b\b\b\b\b\b\b\b\b\b\b\b\b\b\b\b\b\b\b\b\b\b\b\b\b\b\b\b\b\b\b\b\b\b\b\b\b\b\b\b\b\b\b\b\b\b\b\b\b\b\b\b\b\b\b\b\b\b\b\b\b\b\b\b\b\b\b\b\b\b\b\b\b\b\b\b\b\b\b\b\b\b\b\b\b\b\b\b\b\b\b\b\b\b\b\b\b\b\b\b\b\b\b\b\b\b\b\b\b\b\b\b\b\b\b\b\b\b\b\b\b\b\b\b\b\b\b\b\b\b\b\b\b\b\b\b\b\b\b\b\b\b\b\b\b\b\b\b\b\b\b\b\b\b\b\b\b\b\b\b\b\b\b\r82/82 [==============================] - 0s 5ms/step - loss: 0.0414 - tp: 2617.0000 - fp: 6.0000 - tn: 5242.0000 - fn: 7.0000 - accuracy: 0.9983 - precision: 0.9977 - recall: 0.9973 - auc: 0.9989 - prc: 0.9977\n",
            "Epoch 47/100\n",
            "77/82 [===========================>..] - ETA: 0s - loss: 0.0415 - tp: 2456.0000 - fp: 7.0000 - tn: 4921.0000 - fn: 8.0000 - accuracy: 0.9980 - precision: 0.9972 - recall: 0.9968 - auc: 0.9988 - prc: 0.9975"
          ]
        },
        {
          "output_type": "stream",
          "name": "stderr",
          "text": [
            "WARNING:tensorflow:Early stopping conditioned on metric `val_prc` which is not available. Available metrics are: loss,tp,fp,tn,fn,accuracy,precision,recall,auc,prc\n"
          ]
        },
        {
          "output_type": "stream",
          "name": "stdout",
          "text": [
            "\b\b\b\b\b\b\b\b\b\b\b\b\b\b\b\b\b\b\b\b\b\b\b\b\b\b\b\b\b\b\b\b\b\b\b\b\b\b\b\b\b\b\b\b\b\b\b\b\b\b\b\b\b\b\b\b\b\b\b\b\b\b\b\b\b\b\b\b\b\b\b\b\b\b\b\b\b\b\b\b\b\b\b\b\b\b\b\b\b\b\b\b\b\b\b\b\b\b\b\b\b\b\b\b\b\b\b\b\b\b\b\b\b\b\b\b\b\b\b\b\b\b\b\b\b\b\b\b\b\b\b\b\b\b\b\b\b\b\b\b\b\b\b\b\b\b\b\b\b\b\b\b\b\b\b\b\b\b\b\b\b\b\b\b\b\b\b\b\b\b\b\b\b\b\b\b\b\b\b\b\b\b\b\b\b\b\b\b\b\b\b\b\b\b\b\b\b\b\b\b\b\b\b\b\b\r82/82 [==============================] - 0s 6ms/step - loss: 0.0408 - tp: 2615.0000 - fp: 7.0000 - tn: 5241.0000 - fn: 9.0000 - accuracy: 0.9980 - precision: 0.9973 - recall: 0.9966 - auc: 0.9989 - prc: 0.9977\n",
            "Epoch 48/100\n",
            "80/82 [============================>.] - ETA: 0s - loss: 0.0402 - tp: 2555.0000 - fp: 5.0000 - tn: 5115.0000 - fn: 5.0000 - accuracy: 0.9987 - precision: 0.9980 - recall: 0.9980 - auc: 0.9989 - prc: 0.9976"
          ]
        },
        {
          "output_type": "stream",
          "name": "stderr",
          "text": [
            "WARNING:tensorflow:Early stopping conditioned on metric `val_prc` which is not available. Available metrics are: loss,tp,fp,tn,fn,accuracy,precision,recall,auc,prc\n"
          ]
        },
        {
          "output_type": "stream",
          "name": "stdout",
          "text": [
            "\b\b\b\b\b\b\b\b\b\b\b\b\b\b\b\b\b\b\b\b\b\b\b\b\b\b\b\b\b\b\b\b\b\b\b\b\b\b\b\b\b\b\b\b\b\b\b\b\b\b\b\b\b\b\b\b\b\b\b\b\b\b\b\b\b\b\b\b\b\b\b\b\b\b\b\b\b\b\b\b\b\b\b\b\b\b\b\b\b\b\b\b\b\b\b\b\b\b\b\b\b\b\b\b\b\b\b\b\b\b\b\b\b\b\b\b\b\b\b\b\b\b\b\b\b\b\b\b\b\b\b\b\b\b\b\b\b\b\b\b\b\b\b\b\b\b\b\b\b\b\b\b\b\b\b\b\b\b\b\b\b\b\b\b\b\b\b\b\b\b\b\b\b\b\b\b\b\b\b\b\b\b\b\b\b\b\b\b\b\b\b\b\b\b\b\b\b\b\b\b\b\b\b\b\b\r82/82 [==============================] - 0s 5ms/step - loss: 0.0395 - tp: 2619.0000 - fp: 5.0000 - tn: 5243.0000 - fn: 5.0000 - accuracy: 0.9987 - precision: 0.9981 - recall: 0.9981 - auc: 0.9989 - prc: 0.9977\n",
            "Epoch 49/100\n",
            "79/82 [===========================>..] - ETA: 0s - loss: 0.0384 - tp: 2522.0000 - fp: 5.0000 - tn: 5051.0000 - fn: 6.0000 - accuracy: 0.9985 - precision: 0.9980 - recall: 0.9976 - auc: 0.9989 - prc: 0.9977"
          ]
        },
        {
          "output_type": "stream",
          "name": "stderr",
          "text": [
            "WARNING:tensorflow:Early stopping conditioned on metric `val_prc` which is not available. Available metrics are: loss,tp,fp,tn,fn,accuracy,precision,recall,auc,prc\n"
          ]
        },
        {
          "output_type": "stream",
          "name": "stdout",
          "text": [
            "\b\b\b\b\b\b\b\b\b\b\b\b\b\b\b\b\b\b\b\b\b\b\b\b\b\b\b\b\b\b\b\b\b\b\b\b\b\b\b\b\b\b\b\b\b\b\b\b\b\b\b\b\b\b\b\b\b\b\b\b\b\b\b\b\b\b\b\b\b\b\b\b\b\b\b\b\b\b\b\b\b\b\b\b\b\b\b\b\b\b\b\b\b\b\b\b\b\b\b\b\b\b\b\b\b\b\b\b\b\b\b\b\b\b\b\b\b\b\b\b\b\b\b\b\b\b\b\b\b\b\b\b\b\b\b\b\b\b\b\b\b\b\b\b\b\b\b\b\b\b\b\b\b\b\b\b\b\b\b\b\b\b\b\b\b\b\b\b\b\b\b\b\b\b\b\b\b\b\b\b\b\b\b\b\b\b\b\b\b\b\b\b\b\b\b\b\b\b\b\b\b\b\b\b\b\r82/82 [==============================] - 0s 6ms/step - loss: 0.0374 - tp: 2618.0000 - fp: 5.0000 - tn: 5243.0000 - fn: 6.0000 - accuracy: 0.9986 - precision: 0.9981 - recall: 0.9977 - auc: 0.9989 - prc: 0.9977\n",
            "Epoch 50/100\n",
            "75/82 [==========================>...] - ETA: 0s - loss: 0.0387 - tp: 2395.0000 - fp: 5.0000 - tn: 4795.0000 - fn: 5.0000 - accuracy: 0.9986 - precision: 0.9979 - recall: 0.9979 - auc: 0.9988 - prc: 0.9975"
          ]
        },
        {
          "output_type": "stream",
          "name": "stderr",
          "text": [
            "WARNING:tensorflow:Early stopping conditioned on metric `val_prc` which is not available. Available metrics are: loss,tp,fp,tn,fn,accuracy,precision,recall,auc,prc\n"
          ]
        },
        {
          "output_type": "stream",
          "name": "stdout",
          "text": [
            "\b\b\b\b\b\b\b\b\b\b\b\b\b\b\b\b\b\b\b\b\b\b\b\b\b\b\b\b\b\b\b\b\b\b\b\b\b\b\b\b\b\b\b\b\b\b\b\b\b\b\b\b\b\b\b\b\b\b\b\b\b\b\b\b\b\b\b\b\b\b\b\b\b\b\b\b\b\b\b\b\b\b\b\b\b\b\b\b\b\b\b\b\b\b\b\b\b\b\b\b\b\b\b\b\b\b\b\b\b\b\b\b\b\b\b\b\b\b\b\b\b\b\b\b\b\b\b\b\b\b\b\b\b\b\b\b\b\b\b\b\b\b\b\b\b\b\b\b\b\b\b\b\b\b\b\b\b\b\b\b\b\b\b\b\b\b\b\b\b\b\b\b\b\b\b\b\b\b\b\b\b\b\b\b\b\b\b\b\b\b\b\b\b\b\b\b\b\b\b\b\b\b\b\b\b\r82/82 [==============================] - 0s 6ms/step - loss: 0.0370 - tp: 2619.0000 - fp: 5.0000 - tn: 5243.0000 - fn: 5.0000 - accuracy: 0.9987 - precision: 0.9981 - recall: 0.9981 - auc: 0.9989 - prc: 0.9977\n",
            "Epoch 51/100\n",
            "76/82 [==========================>...] - ETA: 0s - loss: 0.0378 - tp: 2426.0000 - fp: 5.0000 - tn: 4859.0000 - fn: 6.0000 - accuracy: 0.9985 - precision: 0.9979 - recall: 0.9975 - auc: 0.9988 - prc: 0.9976"
          ]
        },
        {
          "output_type": "stream",
          "name": "stderr",
          "text": [
            "WARNING:tensorflow:Early stopping conditioned on metric `val_prc` which is not available. Available metrics are: loss,tp,fp,tn,fn,accuracy,precision,recall,auc,prc\n"
          ]
        },
        {
          "output_type": "stream",
          "name": "stdout",
          "text": [
            "\b\b\b\b\b\b\b\b\b\b\b\b\b\b\b\b\b\b\b\b\b\b\b\b\b\b\b\b\b\b\b\b\b\b\b\b\b\b\b\b\b\b\b\b\b\b\b\b\b\b\b\b\b\b\b\b\b\b\b\b\b\b\b\b\b\b\b\b\b\b\b\b\b\b\b\b\b\b\b\b\b\b\b\b\b\b\b\b\b\b\b\b\b\b\b\b\b\b\b\b\b\b\b\b\b\b\b\b\b\b\b\b\b\b\b\b\b\b\b\b\b\b\b\b\b\b\b\b\b\b\b\b\b\b\b\b\b\b\b\b\b\b\b\b\b\b\b\b\b\b\b\b\b\b\b\b\b\b\b\b\b\b\b\b\b\b\b\b\b\b\b\b\b\b\b\b\b\b\b\b\b\b\b\b\b\b\b\b\b\b\b\b\b\b\b\b\b\b\b\b\b\b\b\b\b\r82/82 [==============================] - 0s 6ms/step - loss: 0.0361 - tp: 2618.0000 - fp: 5.0000 - tn: 5243.0000 - fn: 6.0000 - accuracy: 0.9986 - precision: 0.9981 - recall: 0.9977 - auc: 0.9989 - prc: 0.9978\n",
            "Epoch 52/100\n",
            "79/82 [===========================>..] - ETA: 0s - loss: 0.0361 - tp: 2522.0000 - fp: 5.0000 - tn: 5051.0000 - fn: 6.0000 - accuracy: 0.9985 - precision: 0.9980 - recall: 0.9976 - auc: 0.9989 - prc: 0.9977"
          ]
        },
        {
          "output_type": "stream",
          "name": "stderr",
          "text": [
            "WARNING:tensorflow:Early stopping conditioned on metric `val_prc` which is not available. Available metrics are: loss,tp,fp,tn,fn,accuracy,precision,recall,auc,prc\n"
          ]
        },
        {
          "output_type": "stream",
          "name": "stdout",
          "text": [
            "\b\b\b\b\b\b\b\b\b\b\b\b\b\b\b\b\b\b\b\b\b\b\b\b\b\b\b\b\b\b\b\b\b\b\b\b\b\b\b\b\b\b\b\b\b\b\b\b\b\b\b\b\b\b\b\b\b\b\b\b\b\b\b\b\b\b\b\b\b\b\b\b\b\b\b\b\b\b\b\b\b\b\b\b\b\b\b\b\b\b\b\b\b\b\b\b\b\b\b\b\b\b\b\b\b\b\b\b\b\b\b\b\b\b\b\b\b\b\b\b\b\b\b\b\b\b\b\b\b\b\b\b\b\b\b\b\b\b\b\b\b\b\b\b\b\b\b\b\b\b\b\b\b\b\b\b\b\b\b\b\b\b\b\b\b\b\b\b\b\b\b\b\b\b\b\b\b\b\b\b\b\b\b\b\b\b\b\b\b\b\b\b\b\b\b\b\b\b\b\b\b\b\b\b\b\r82/82 [==============================] - 0s 6ms/step - loss: 0.0355 - tp: 2618.0000 - fp: 5.0000 - tn: 5243.0000 - fn: 6.0000 - accuracy: 0.9986 - precision: 0.9981 - recall: 0.9977 - auc: 0.9989 - prc: 0.9978\n",
            "Epoch 53/100\n",
            "75/82 [==========================>...] - ETA: 0s - loss: 0.0296 - tp: 2396.0000 - fp: 4.0000 - tn: 4796.0000 - fn: 4.0000 - accuracy: 0.9989 - precision: 0.9983 - recall: 0.9983 - auc: 0.9992 - prc: 0.9984"
          ]
        },
        {
          "output_type": "stream",
          "name": "stderr",
          "text": [
            "WARNING:tensorflow:Early stopping conditioned on metric `val_prc` which is not available. Available metrics are: loss,tp,fp,tn,fn,accuracy,precision,recall,auc,prc\n"
          ]
        },
        {
          "output_type": "stream",
          "name": "stdout",
          "text": [
            "\b\b\b\b\b\b\b\b\b\b\b\b\b\b\b\b\b\b\b\b\b\b\b\b\b\b\b\b\b\b\b\b\b\b\b\b\b\b\b\b\b\b\b\b\b\b\b\b\b\b\b\b\b\b\b\b\b\b\b\b\b\b\b\b\b\b\b\b\b\b\b\b\b\b\b\b\b\b\b\b\b\b\b\b\b\b\b\b\b\b\b\b\b\b\b\b\b\b\b\b\b\b\b\b\b\b\b\b\b\b\b\b\b\b\b\b\b\b\b\b\b\b\b\b\b\b\b\b\b\b\b\b\b\b\b\b\b\b\b\b\b\b\b\b\b\b\b\b\b\b\b\b\b\b\b\b\b\b\b\b\b\b\b\b\b\b\b\b\b\b\b\b\b\b\b\b\b\b\b\b\b\b\b\b\b\b\b\b\b\b\b\b\b\b\b\b\b\b\b\b\b\b\b\b\b\r82/82 [==============================] - 0s 6ms/step - loss: 0.0345 - tp: 2619.0000 - fp: 5.0000 - tn: 5243.0000 - fn: 5.0000 - accuracy: 0.9987 - precision: 0.9981 - recall: 0.9981 - auc: 0.9989 - prc: 0.9978\n",
            "Epoch 54/100\n",
            "76/82 [==========================>...] - ETA: 0s - loss: 0.0296 - tp: 2426.0000 - fp: 6.0000 - tn: 4858.0000 - fn: 6.0000 - accuracy: 0.9984 - precision: 0.9975 - recall: 0.9975 - auc: 0.9992 - prc: 0.9984"
          ]
        },
        {
          "output_type": "stream",
          "name": "stderr",
          "text": [
            "WARNING:tensorflow:Early stopping conditioned on metric `val_prc` which is not available. Available metrics are: loss,tp,fp,tn,fn,accuracy,precision,recall,auc,prc\n"
          ]
        },
        {
          "output_type": "stream",
          "name": "stdout",
          "text": [
            "\b\b\b\b\b\b\b\b\b\b\b\b\b\b\b\b\b\b\b\b\b\b\b\b\b\b\b\b\b\b\b\b\b\b\b\b\b\b\b\b\b\b\b\b\b\b\b\b\b\b\b\b\b\b\b\b\b\b\b\b\b\b\b\b\b\b\b\b\b\b\b\b\b\b\b\b\b\b\b\b\b\b\b\b\b\b\b\b\b\b\b\b\b\b\b\b\b\b\b\b\b\b\b\b\b\b\b\b\b\b\b\b\b\b\b\b\b\b\b\b\b\b\b\b\b\b\b\b\b\b\b\b\b\b\b\b\b\b\b\b\b\b\b\b\b\b\b\b\b\b\b\b\b\b\b\b\b\b\b\b\b\b\b\b\b\b\b\b\b\b\b\b\b\b\b\b\b\b\b\b\b\b\b\b\b\b\b\b\b\b\b\b\b\b\b\b\b\b\b\b\b\b\b\b\b\r82/82 [==============================] - 0s 6ms/step - loss: 0.0347 - tp: 2617.0000 - fp: 7.0000 - tn: 5241.0000 - fn: 7.0000 - accuracy: 0.9982 - precision: 0.9973 - recall: 0.9973 - auc: 0.9989 - prc: 0.9978\n",
            "Epoch 55/100\n",
            "74/82 [==========================>...] - ETA: 0s - loss: 0.0289 - tp: 2362.0000 - fp: 5.0000 - tn: 4731.0000 - fn: 6.0000 - accuracy: 0.9985 - precision: 0.9979 - recall: 0.9975 - auc: 0.9992 - prc: 0.9984"
          ]
        },
        {
          "output_type": "stream",
          "name": "stderr",
          "text": [
            "WARNING:tensorflow:Early stopping conditioned on metric `val_prc` which is not available. Available metrics are: loss,tp,fp,tn,fn,accuracy,precision,recall,auc,prc\n"
          ]
        },
        {
          "output_type": "stream",
          "name": "stdout",
          "text": [
            "\b\b\b\b\b\b\b\b\b\b\b\b\b\b\b\b\b\b\b\b\b\b\b\b\b\b\b\b\b\b\b\b\b\b\b\b\b\b\b\b\b\b\b\b\b\b\b\b\b\b\b\b\b\b\b\b\b\b\b\b\b\b\b\b\b\b\b\b\b\b\b\b\b\b\b\b\b\b\b\b\b\b\b\b\b\b\b\b\b\b\b\b\b\b\b\b\b\b\b\b\b\b\b\b\b\b\b\b\b\b\b\b\b\b\b\b\b\b\b\b\b\b\b\b\b\b\b\b\b\b\b\b\b\b\b\b\b\b\b\b\b\b\b\b\b\b\b\b\b\b\b\b\b\b\b\b\b\b\b\b\b\b\b\b\b\b\b\b\b\b\b\b\b\b\b\b\b\b\b\b\b\b\b\b\b\b\b\b\b\b\b\b\b\b\b\b\b\b\b\b\b\b\b\b\b\r82/82 [==============================] - 0s 6ms/step - loss: 0.0341 - tp: 2617.0000 - fp: 6.0000 - tn: 5242.0000 - fn: 7.0000 - accuracy: 0.9983 - precision: 0.9977 - recall: 0.9973 - auc: 0.9989 - prc: 0.9978\n",
            "Epoch 56/100\n",
            "72/82 [=========================>....] - ETA: 0s - loss: 0.0358 - tp: 2298.0000 - fp: 5.0000 - tn: 4603.0000 - fn: 6.0000 - accuracy: 0.9984 - precision: 0.9978 - recall: 0.9974 - auc: 0.9988 - prc: 0.9975"
          ]
        },
        {
          "output_type": "stream",
          "name": "stderr",
          "text": [
            "WARNING:tensorflow:Early stopping conditioned on metric `val_prc` which is not available. Available metrics are: loss,tp,fp,tn,fn,accuracy,precision,recall,auc,prc\n"
          ]
        },
        {
          "output_type": "stream",
          "name": "stdout",
          "text": [
            "\b\b\b\b\b\b\b\b\b\b\b\b\b\b\b\b\b\b\b\b\b\b\b\b\b\b\b\b\b\b\b\b\b\b\b\b\b\b\b\b\b\b\b\b\b\b\b\b\b\b\b\b\b\b\b\b\b\b\b\b\b\b\b\b\b\b\b\b\b\b\b\b\b\b\b\b\b\b\b\b\b\b\b\b\b\b\b\b\b\b\b\b\b\b\b\b\b\b\b\b\b\b\b\b\b\b\b\b\b\b\b\b\b\b\b\b\b\b\b\b\b\b\b\b\b\b\b\b\b\b\b\b\b\b\b\b\b\b\b\b\b\b\b\b\b\b\b\b\b\b\b\b\b\b\b\b\b\b\b\b\b\b\b\b\b\b\b\b\b\b\b\b\b\b\b\b\b\b\b\b\b\b\b\b\b\b\b\b\b\b\b\b\b\b\b\b\b\b\b\b\b\b\b\b\b\r82/82 [==============================] - 0s 5ms/step - loss: 0.0335 - tp: 2618.0000 - fp: 5.0000 - tn: 5243.0000 - fn: 6.0000 - accuracy: 0.9986 - precision: 0.9981 - recall: 0.9977 - auc: 0.9989 - prc: 0.9978\n",
            "Epoch 57/100\n",
            "80/82 [============================>.] - ETA: 0s - loss: 0.0267 - tp: 2555.0000 - fp: 4.0000 - tn: 5116.0000 - fn: 5.0000 - accuracy: 0.9988 - precision: 0.9984 - recall: 0.9980 - auc: 0.9993 - prc: 0.9985"
          ]
        },
        {
          "output_type": "stream",
          "name": "stderr",
          "text": [
            "WARNING:tensorflow:Early stopping conditioned on metric `val_prc` which is not available. Available metrics are: loss,tp,fp,tn,fn,accuracy,precision,recall,auc,prc\n"
          ]
        },
        {
          "output_type": "stream",
          "name": "stdout",
          "text": [
            "\b\b\b\b\b\b\b\b\b\b\b\b\b\b\b\b\b\b\b\b\b\b\b\b\b\b\b\b\b\b\b\b\b\b\b\b\b\b\b\b\b\b\b\b\b\b\b\b\b\b\b\b\b\b\b\b\b\b\b\b\b\b\b\b\b\b\b\b\b\b\b\b\b\b\b\b\b\b\b\b\b\b\b\b\b\b\b\b\b\b\b\b\b\b\b\b\b\b\b\b\b\b\b\b\b\b\b\b\b\b\b\b\b\b\b\b\b\b\b\b\b\b\b\b\b\b\b\b\b\b\b\b\b\b\b\b\b\b\b\b\b\b\b\b\b\b\b\b\b\b\b\b\b\b\b\b\b\b\b\b\b\b\b\b\b\b\b\b\b\b\b\b\b\b\b\b\b\b\b\b\b\b\b\b\b\b\b\b\b\b\b\b\b\b\b\b\b\b\b\b\b\b\b\b\b\r82/82 [==============================] - 0s 5ms/step - loss: 0.0326 - tp: 2618.0000 - fp: 5.0000 - tn: 5243.0000 - fn: 6.0000 - accuracy: 0.9986 - precision: 0.9981 - recall: 0.9977 - auc: 0.9989 - prc: 0.9978\n",
            "Epoch 58/100\n",
            "78/82 [===========================>..] - ETA: 0s - loss: 0.0331 - tp: 2490.0000 - fp: 6.0000 - tn: 4986.0000 - fn: 6.0000 - accuracy: 0.9984 - precision: 0.9976 - recall: 0.9976 - auc: 0.9989 - prc: 0.9977"
          ]
        },
        {
          "output_type": "stream",
          "name": "stderr",
          "text": [
            "WARNING:tensorflow:Early stopping conditioned on metric `val_prc` which is not available. Available metrics are: loss,tp,fp,tn,fn,accuracy,precision,recall,auc,prc\n"
          ]
        },
        {
          "output_type": "stream",
          "name": "stdout",
          "text": [
            "\b\b\b\b\b\b\b\b\b\b\b\b\b\b\b\b\b\b\b\b\b\b\b\b\b\b\b\b\b\b\b\b\b\b\b\b\b\b\b\b\b\b\b\b\b\b\b\b\b\b\b\b\b\b\b\b\b\b\b\b\b\b\b\b\b\b\b\b\b\b\b\b\b\b\b\b\b\b\b\b\b\b\b\b\b\b\b\b\b\b\b\b\b\b\b\b\b\b\b\b\b\b\b\b\b\b\b\b\b\b\b\b\b\b\b\b\b\b\b\b\b\b\b\b\b\b\b\b\b\b\b\b\b\b\b\b\b\b\b\b\b\b\b\b\b\b\b\b\b\b\b\b\b\b\b\b\b\b\b\b\b\b\b\b\b\b\b\b\b\b\b\b\b\b\b\b\b\b\b\b\b\b\b\b\b\b\b\b\b\b\b\b\b\b\b\b\b\b\b\b\b\b\b\b\b\r82/82 [==============================] - 0s 5ms/step - loss: 0.0323 - tp: 2618.0000 - fp: 6.0000 - tn: 5242.0000 - fn: 6.0000 - accuracy: 0.9985 - precision: 0.9977 - recall: 0.9977 - auc: 0.9989 - prc: 0.9978\n",
            "Epoch 59/100\n",
            "75/82 [==========================>...] - ETA: 0s - loss: 0.0336 - tp: 2395.0000 - fp: 5.0000 - tn: 4795.0000 - fn: 5.0000 - accuracy: 0.9986 - precision: 0.9979 - recall: 0.9979 - auc: 0.9989 - prc: 0.9976"
          ]
        },
        {
          "output_type": "stream",
          "name": "stderr",
          "text": [
            "WARNING:tensorflow:Early stopping conditioned on metric `val_prc` which is not available. Available metrics are: loss,tp,fp,tn,fn,accuracy,precision,recall,auc,prc\n"
          ]
        },
        {
          "output_type": "stream",
          "name": "stdout",
          "text": [
            "\b\b\b\b\b\b\b\b\b\b\b\b\b\b\b\b\b\b\b\b\b\b\b\b\b\b\b\b\b\b\b\b\b\b\b\b\b\b\b\b\b\b\b\b\b\b\b\b\b\b\b\b\b\b\b\b\b\b\b\b\b\b\b\b\b\b\b\b\b\b\b\b\b\b\b\b\b\b\b\b\b\b\b\b\b\b\b\b\b\b\b\b\b\b\b\b\b\b\b\b\b\b\b\b\b\b\b\b\b\b\b\b\b\b\b\b\b\b\b\b\b\b\b\b\b\b\b\b\b\b\b\b\b\b\b\b\b\b\b\b\b\b\b\b\b\b\b\b\b\b\b\b\b\b\b\b\b\b\b\b\b\b\b\b\b\b\b\b\b\b\b\b\b\b\b\b\b\b\b\b\b\b\b\b\b\b\b\b\b\b\b\b\b\b\b\b\b\b\b\b\b\b\b\b\b\r82/82 [==============================] - 0s 6ms/step - loss: 0.0319 - tp: 2619.0000 - fp: 5.0000 - tn: 5243.0000 - fn: 5.0000 - accuracy: 0.9987 - precision: 0.9981 - recall: 0.9981 - auc: 0.9989 - prc: 0.9978\n",
            "Epoch 60/100\n",
            "82/82 [==============================] - ETA: 0s - loss: 0.0312 - tp: 2618.0000 - fp: 5.0000 - tn: 5243.0000 - fn: 6.0000 - accuracy: 0.9986 - precision: 0.9981 - recall: 0.9977 - auc: 0.9990 - prc: 0.9979"
          ]
        },
        {
          "output_type": "stream",
          "name": "stderr",
          "text": [
            "WARNING:tensorflow:Early stopping conditioned on metric `val_prc` which is not available. Available metrics are: loss,tp,fp,tn,fn,accuracy,precision,recall,auc,prc\n"
          ]
        },
        {
          "output_type": "stream",
          "name": "stdout",
          "text": [
            "\b\b\b\b\b\b\b\b\b\b\b\b\b\b\b\b\b\b\b\b\b\b\b\b\b\b\b\b\b\b\b\b\b\b\b\b\b\b\b\b\b\b\b\b\b\b\b\b\b\b\b\b\b\b\b\b\b\b\b\b\b\b\b\b\b\b\b\b\b\b\b\b\b\b\b\b\b\b\b\b\b\b\b\b\b\b\b\b\b\b\b\b\b\b\b\b\b\b\b\b\b\b\b\b\b\b\b\b\b\b\b\b\b\b\b\b\b\b\b\b\b\b\b\b\b\b\b\b\b\b\b\b\b\b\b\b\b\b\b\b\b\b\b\b\b\b\b\b\b\b\b\b\b\b\b\b\b\b\b\b\b\b\b\b\b\b\b\b\b\b\b\b\b\b\b\b\b\b\b\b\b\b\b\b\b\b\b\b\b\b\b\b\b\b\b\b\b\b\b\b\b\b\b\b\b\r82/82 [==============================] - 0s 6ms/step - loss: 0.0312 - tp: 2618.0000 - fp: 5.0000 - tn: 5243.0000 - fn: 6.0000 - accuracy: 0.9986 - precision: 0.9981 - recall: 0.9977 - auc: 0.9990 - prc: 0.9979\n",
            "Epoch 61/100\n",
            "76/82 [==========================>...] - ETA: 0s - loss: 0.0323 - tp: 2426.0000 - fp: 6.0000 - tn: 4858.0000 - fn: 6.0000 - accuracy: 0.9984 - precision: 0.9975 - recall: 0.9975 - auc: 0.9989 - prc: 0.9977"
          ]
        },
        {
          "output_type": "stream",
          "name": "stderr",
          "text": [
            "WARNING:tensorflow:Early stopping conditioned on metric `val_prc` which is not available. Available metrics are: loss,tp,fp,tn,fn,accuracy,precision,recall,auc,prc\n"
          ]
        },
        {
          "output_type": "stream",
          "name": "stdout",
          "text": [
            "\b\b\b\b\b\b\b\b\b\b\b\b\b\b\b\b\b\b\b\b\b\b\b\b\b\b\b\b\b\b\b\b\b\b\b\b\b\b\b\b\b\b\b\b\b\b\b\b\b\b\b\b\b\b\b\b\b\b\b\b\b\b\b\b\b\b\b\b\b\b\b\b\b\b\b\b\b\b\b\b\b\b\b\b\b\b\b\b\b\b\b\b\b\b\b\b\b\b\b\b\b\b\b\b\b\b\b\b\b\b\b\b\b\b\b\b\b\b\b\b\b\b\b\b\b\b\b\b\b\b\b\b\b\b\b\b\b\b\b\b\b\b\b\b\b\b\b\b\b\b\b\b\b\b\b\b\b\b\b\b\b\b\b\b\b\b\b\b\b\b\b\b\b\b\b\b\b\b\b\b\b\b\b\b\b\b\b\b\b\b\b\b\b\b\b\b\b\b\b\b\b\b\b\b\b\r82/82 [==============================] - 0s 6ms/step - loss: 0.0309 - tp: 2618.0000 - fp: 6.0000 - tn: 5242.0000 - fn: 6.0000 - accuracy: 0.9985 - precision: 0.9977 - recall: 0.9977 - auc: 0.9990 - prc: 0.9979\n",
            "Epoch 62/100\n",
            "76/82 [==========================>...] - ETA: 0s - loss: 0.0319 - tp: 2425.0000 - fp: 6.0000 - tn: 4858.0000 - fn: 7.0000 - accuracy: 0.9982 - precision: 0.9975 - recall: 0.9971 - auc: 0.9989 - prc: 0.9977"
          ]
        },
        {
          "output_type": "stream",
          "name": "stderr",
          "text": [
            "WARNING:tensorflow:Early stopping conditioned on metric `val_prc` which is not available. Available metrics are: loss,tp,fp,tn,fn,accuracy,precision,recall,auc,prc\n"
          ]
        },
        {
          "output_type": "stream",
          "name": "stdout",
          "text": [
            "\b\b\b\b\b\b\b\b\b\b\b\b\b\b\b\b\b\b\b\b\b\b\b\b\b\b\b\b\b\b\b\b\b\b\b\b\b\b\b\b\b\b\b\b\b\b\b\b\b\b\b\b\b\b\b\b\b\b\b\b\b\b\b\b\b\b\b\b\b\b\b\b\b\b\b\b\b\b\b\b\b\b\b\b\b\b\b\b\b\b\b\b\b\b\b\b\b\b\b\b\b\b\b\b\b\b\b\b\b\b\b\b\b\b\b\b\b\b\b\b\b\b\b\b\b\b\b\b\b\b\b\b\b\b\b\b\b\b\b\b\b\b\b\b\b\b\b\b\b\b\b\b\b\b\b\b\b\b\b\b\b\b\b\b\b\b\b\b\b\b\b\b\b\b\b\b\b\b\b\b\b\b\b\b\b\b\b\b\b\b\b\b\b\b\b\b\b\b\b\b\b\b\b\b\b\r82/82 [==============================] - 0s 6ms/step - loss: 0.0305 - tp: 2617.0000 - fp: 6.0000 - tn: 5242.0000 - fn: 7.0000 - accuracy: 0.9983 - precision: 0.9977 - recall: 0.9973 - auc: 0.9990 - prc: 0.9979\n",
            "Epoch 63/100\n",
            "76/82 [==========================>...] - ETA: 0s - loss: 0.0320 - tp: 2425.0000 - fp: 6.0000 - tn: 4858.0000 - fn: 7.0000 - accuracy: 0.9982 - precision: 0.9975 - recall: 0.9971 - auc: 0.9989 - prc: 0.9977"
          ]
        },
        {
          "output_type": "stream",
          "name": "stderr",
          "text": [
            "WARNING:tensorflow:Early stopping conditioned on metric `val_prc` which is not available. Available metrics are: loss,tp,fp,tn,fn,accuracy,precision,recall,auc,prc\n"
          ]
        },
        {
          "output_type": "stream",
          "name": "stdout",
          "text": [
            "\b\b\b\b\b\b\b\b\b\b\b\b\b\b\b\b\b\b\b\b\b\b\b\b\b\b\b\b\b\b\b\b\b\b\b\b\b\b\b\b\b\b\b\b\b\b\b\b\b\b\b\b\b\b\b\b\b\b\b\b\b\b\b\b\b\b\b\b\b\b\b\b\b\b\b\b\b\b\b\b\b\b\b\b\b\b\b\b\b\b\b\b\b\b\b\b\b\b\b\b\b\b\b\b\b\b\b\b\b\b\b\b\b\b\b\b\b\b\b\b\b\b\b\b\b\b\b\b\b\b\b\b\b\b\b\b\b\b\b\b\b\b\b\b\b\b\b\b\b\b\b\b\b\b\b\b\b\b\b\b\b\b\b\b\b\b\b\b\b\b\b\b\b\b\b\b\b\b\b\b\b\b\b\b\b\b\b\b\b\b\b\b\b\b\b\b\b\b\b\b\b\b\b\b\b\r82/82 [==============================] - 1s 6ms/step - loss: 0.0304 - tp: 2617.0000 - fp: 6.0000 - tn: 5242.0000 - fn: 7.0000 - accuracy: 0.9983 - precision: 0.9977 - recall: 0.9973 - auc: 0.9990 - prc: 0.9979\n",
            "Epoch 64/100\n",
            "78/82 [===========================>..] - ETA: 0s - loss: 0.0238 - tp: 2492.0000 - fp: 4.0000 - tn: 4988.0000 - fn: 4.0000 - accuracy: 0.9989 - precision: 0.9984 - recall: 0.9984 - auc: 0.9993 - prc: 0.9985"
          ]
        },
        {
          "output_type": "stream",
          "name": "stderr",
          "text": [
            "WARNING:tensorflow:Early stopping conditioned on metric `val_prc` which is not available. Available metrics are: loss,tp,fp,tn,fn,accuracy,precision,recall,auc,prc\n"
          ]
        },
        {
          "output_type": "stream",
          "name": "stdout",
          "text": [
            "\b\b\b\b\b\b\b\b\b\b\b\b\b\b\b\b\b\b\b\b\b\b\b\b\b\b\b\b\b\b\b\b\b\b\b\b\b\b\b\b\b\b\b\b\b\b\b\b\b\b\b\b\b\b\b\b\b\b\b\b\b\b\b\b\b\b\b\b\b\b\b\b\b\b\b\b\b\b\b\b\b\b\b\b\b\b\b\b\b\b\b\b\b\b\b\b\b\b\b\b\b\b\b\b\b\b\b\b\b\b\b\b\b\b\b\b\b\b\b\b\b\b\b\b\b\b\b\b\b\b\b\b\b\b\b\b\b\b\b\b\b\b\b\b\b\b\b\b\b\b\b\b\b\b\b\b\b\b\b\b\b\b\b\b\b\b\b\b\b\b\b\b\b\b\b\b\b\b\b\b\b\b\b\b\b\b\b\b\b\b\b\b\b\b\b\b\b\b\b\b\b\b\b\b\b\r82/82 [==============================] - 1s 14ms/step - loss: 0.0295 - tp: 2619.0000 - fp: 5.0000 - tn: 5243.0000 - fn: 5.0000 - accuracy: 0.9987 - precision: 0.9981 - recall: 0.9981 - auc: 0.9990 - prc: 0.9979\n",
            "Epoch 65/100\n",
            "79/82 [===========================>..] - ETA: 0s - loss: 0.0301 - tp: 2522.0000 - fp: 6.0000 - tn: 5050.0000 - fn: 6.0000 - accuracy: 0.9984 - precision: 0.9976 - recall: 0.9976 - auc: 0.9989 - prc: 0.9978"
          ]
        },
        {
          "output_type": "stream",
          "name": "stderr",
          "text": [
            "WARNING:tensorflow:Early stopping conditioned on metric `val_prc` which is not available. Available metrics are: loss,tp,fp,tn,fn,accuracy,precision,recall,auc,prc\n"
          ]
        },
        {
          "output_type": "stream",
          "name": "stdout",
          "text": [
            "\b\b\b\b\b\b\b\b\b\b\b\b\b\b\b\b\b\b\b\b\b\b\b\b\b\b\b\b\b\b\b\b\b\b\b\b\b\b\b\b\b\b\b\b\b\b\b\b\b\b\b\b\b\b\b\b\b\b\b\b\b\b\b\b\b\b\b\b\b\b\b\b\b\b\b\b\b\b\b\b\b\b\b\b\b\b\b\b\b\b\b\b\b\b\b\b\b\b\b\b\b\b\b\b\b\b\b\b\b\b\b\b\b\b\b\b\b\b\b\b\b\b\b\b\b\b\b\b\b\b\b\b\b\b\b\b\b\b\b\b\b\b\b\b\b\b\b\b\b\b\b\b\b\b\b\b\b\b\b\b\b\b\b\b\b\b\b\b\b\b\b\b\b\b\b\b\b\b\b\b\b\b\b\b\b\b\b\b\b\b\b\b\b\b\b\b\b\b\b\b\b\b\b\b\b\r82/82 [==============================] - 1s 10ms/step - loss: 0.0294 - tp: 2618.0000 - fp: 6.0000 - tn: 5242.0000 - fn: 6.0000 - accuracy: 0.9985 - precision: 0.9977 - recall: 0.9977 - auc: 0.9990 - prc: 0.9979\n",
            "Epoch 66/100\n",
            "75/82 [==========================>...] - ETA: 0s - loss: 0.0301 - tp: 2396.0000 - fp: 4.0000 - tn: 4796.0000 - fn: 4.0000 - accuracy: 0.9989 - precision: 0.9983 - recall: 0.9983 - auc: 0.9989 - prc: 0.9977"
          ]
        },
        {
          "output_type": "stream",
          "name": "stderr",
          "text": [
            "WARNING:tensorflow:Early stopping conditioned on metric `val_prc` which is not available. Available metrics are: loss,tp,fp,tn,fn,accuracy,precision,recall,auc,prc\n"
          ]
        },
        {
          "output_type": "stream",
          "name": "stdout",
          "text": [
            "\b\b\b\b\b\b\b\b\b\b\b\b\b\b\b\b\b\b\b\b\b\b\b\b\b\b\b\b\b\b\b\b\b\b\b\b\b\b\b\b\b\b\b\b\b\b\b\b\b\b\b\b\b\b\b\b\b\b\b\b\b\b\b\b\b\b\b\b\b\b\b\b\b\b\b\b\b\b\b\b\b\b\b\b\b\b\b\b\b\b\b\b\b\b\b\b\b\b\b\b\b\b\b\b\b\b\b\b\b\b\b\b\b\b\b\b\b\b\b\b\b\b\b\b\b\b\b\b\b\b\b\b\b\b\b\b\b\b\b\b\b\b\b\b\b\b\b\b\b\b\b\b\b\b\b\b\b\b\b\b\b\b\b\b\b\b\b\b\b\b\b\b\b\b\b\b\b\b\b\b\b\b\b\b\b\b\b\b\b\b\b\b\b\b\b\b\b\b\b\b\b\b\b\b\b\r82/82 [==============================] - 0s 6ms/step - loss: 0.0290 - tp: 2619.0000 - fp: 5.0000 - tn: 5243.0000 - fn: 5.0000 - accuracy: 0.9987 - precision: 0.9981 - recall: 0.9981 - auc: 0.9990 - prc: 0.9979\n",
            "Epoch 67/100\n",
            "74/82 [==========================>...] - ETA: 0s - loss: 0.0315 - tp: 2362.0000 - fp: 6.0000 - tn: 4730.0000 - fn: 6.0000 - accuracy: 0.9983 - precision: 0.9975 - recall: 0.9975 - auc: 0.9989 - prc: 0.9977"
          ]
        },
        {
          "output_type": "stream",
          "name": "stderr",
          "text": [
            "WARNING:tensorflow:Early stopping conditioned on metric `val_prc` which is not available. Available metrics are: loss,tp,fp,tn,fn,accuracy,precision,recall,auc,prc\n"
          ]
        },
        {
          "output_type": "stream",
          "name": "stdout",
          "text": [
            "\b\b\b\b\b\b\b\b\b\b\b\b\b\b\b\b\b\b\b\b\b\b\b\b\b\b\b\b\b\b\b\b\b\b\b\b\b\b\b\b\b\b\b\b\b\b\b\b\b\b\b\b\b\b\b\b\b\b\b\b\b\b\b\b\b\b\b\b\b\b\b\b\b\b\b\b\b\b\b\b\b\b\b\b\b\b\b\b\b\b\b\b\b\b\b\b\b\b\b\b\b\b\b\b\b\b\b\b\b\b\b\b\b\b\b\b\b\b\b\b\b\b\b\b\b\b\b\b\b\b\b\b\b\b\b\b\b\b\b\b\b\b\b\b\b\b\b\b\b\b\b\b\b\b\b\b\b\b\b\b\b\b\b\b\b\b\b\b\b\b\b\b\b\b\b\b\b\b\b\b\b\b\b\b\b\b\b\b\b\b\b\b\b\b\b\b\b\b\b\b\b\b\b\b\b\r82/82 [==============================] - 0s 6ms/step - loss: 0.0294 - tp: 2618.0000 - fp: 6.0000 - tn: 5242.0000 - fn: 6.0000 - accuracy: 0.9985 - precision: 0.9977 - recall: 0.9977 - auc: 0.9990 - prc: 0.9979\n",
            "Epoch 68/100\n",
            "78/82 [===========================>..] - ETA: 0s - loss: 0.0291 - tp: 2490.0000 - fp: 6.0000 - tn: 4986.0000 - fn: 6.0000 - accuracy: 0.9984 - precision: 0.9976 - recall: 0.9976 - auc: 0.9989 - prc: 0.9978"
          ]
        },
        {
          "output_type": "stream",
          "name": "stderr",
          "text": [
            "WARNING:tensorflow:Early stopping conditioned on metric `val_prc` which is not available. Available metrics are: loss,tp,fp,tn,fn,accuracy,precision,recall,auc,prc\n"
          ]
        },
        {
          "output_type": "stream",
          "name": "stdout",
          "text": [
            "\b\b\b\b\b\b\b\b\b\b\b\b\b\b\b\b\b\b\b\b\b\b\b\b\b\b\b\b\b\b\b\b\b\b\b\b\b\b\b\b\b\b\b\b\b\b\b\b\b\b\b\b\b\b\b\b\b\b\b\b\b\b\b\b\b\b\b\b\b\b\b\b\b\b\b\b\b\b\b\b\b\b\b\b\b\b\b\b\b\b\b\b\b\b\b\b\b\b\b\b\b\b\b\b\b\b\b\b\b\b\b\b\b\b\b\b\b\b\b\b\b\b\b\b\b\b\b\b\b\b\b\b\b\b\b\b\b\b\b\b\b\b\b\b\b\b\b\b\b\b\b\b\b\b\b\b\b\b\b\b\b\b\b\b\b\b\b\b\b\b\b\b\b\b\b\b\b\b\b\b\b\b\b\b\b\b\b\b\b\b\b\b\b\b\b\b\b\b\b\b\b\b\b\b\b\r82/82 [==============================] - 0s 6ms/step - loss: 0.0283 - tp: 2618.0000 - fp: 6.0000 - tn: 5242.0000 - fn: 6.0000 - accuracy: 0.9985 - precision: 0.9977 - recall: 0.9977 - auc: 0.9990 - prc: 0.9979\n",
            "Epoch 69/100\n",
            "74/82 [==========================>...] - ETA: 0s - loss: 0.0237 - tp: 2363.0000 - fp: 4.0000 - tn: 4732.0000 - fn: 5.0000 - accuracy: 0.9987 - precision: 0.9983 - recall: 0.9979 - auc: 0.9992 - prc: 0.9985"
          ]
        },
        {
          "output_type": "stream",
          "name": "stderr",
          "text": [
            "WARNING:tensorflow:Early stopping conditioned on metric `val_prc` which is not available. Available metrics are: loss,tp,fp,tn,fn,accuracy,precision,recall,auc,prc\n"
          ]
        },
        {
          "output_type": "stream",
          "name": "stdout",
          "text": [
            "\b\b\b\b\b\b\b\b\b\b\b\b\b\b\b\b\b\b\b\b\b\b\b\b\b\b\b\b\b\b\b\b\b\b\b\b\b\b\b\b\b\b\b\b\b\b\b\b\b\b\b\b\b\b\b\b\b\b\b\b\b\b\b\b\b\b\b\b\b\b\b\b\b\b\b\b\b\b\b\b\b\b\b\b\b\b\b\b\b\b\b\b\b\b\b\b\b\b\b\b\b\b\b\b\b\b\b\b\b\b\b\b\b\b\b\b\b\b\b\b\b\b\b\b\b\b\b\b\b\b\b\b\b\b\b\b\b\b\b\b\b\b\b\b\b\b\b\b\b\b\b\b\b\b\b\b\b\b\b\b\b\b\b\b\b\b\b\b\b\b\b\b\b\b\b\b\b\b\b\b\b\b\b\b\b\b\b\b\b\b\b\b\b\b\b\b\b\b\b\b\b\b\b\b\b\r82/82 [==============================] - 0s 6ms/step - loss: 0.0285 - tp: 2618.0000 - fp: 5.0000 - tn: 5243.0000 - fn: 6.0000 - accuracy: 0.9986 - precision: 0.9981 - recall: 0.9977 - auc: 0.9990 - prc: 0.9979\n",
            "Epoch 70/100\n",
            "81/82 [============================>.] - ETA: 0s - loss: 0.0294 - tp: 2585.0000 - fp: 7.0000 - tn: 5177.0000 - fn: 7.0000 - accuracy: 0.9982 - precision: 0.9973 - recall: 0.9973 - auc: 0.9990 - prc: 0.9979"
          ]
        },
        {
          "output_type": "stream",
          "name": "stderr",
          "text": [
            "WARNING:tensorflow:Early stopping conditioned on metric `val_prc` which is not available. Available metrics are: loss,tp,fp,tn,fn,accuracy,precision,recall,auc,prc\n"
          ]
        },
        {
          "output_type": "stream",
          "name": "stdout",
          "text": [
            "\b\b\b\b\b\b\b\b\b\b\b\b\b\b\b\b\b\b\b\b\b\b\b\b\b\b\b\b\b\b\b\b\b\b\b\b\b\b\b\b\b\b\b\b\b\b\b\b\b\b\b\b\b\b\b\b\b\b\b\b\b\b\b\b\b\b\b\b\b\b\b\b\b\b\b\b\b\b\b\b\b\b\b\b\b\b\b\b\b\b\b\b\b\b\b\b\b\b\b\b\b\b\b\b\b\b\b\b\b\b\b\b\b\b\b\b\b\b\b\b\b\b\b\b\b\b\b\b\b\b\b\b\b\b\b\b\b\b\b\b\b\b\b\b\b\b\b\b\b\b\b\b\b\b\b\b\b\b\b\b\b\b\b\b\b\b\b\b\b\b\b\b\b\b\b\b\b\b\b\b\b\b\b\b\b\b\b\b\b\b\b\b\b\b\b\b\b\b\b\b\b\b\b\b\b\r82/82 [==============================] - 0s 5ms/step - loss: 0.0291 - tp: 2617.0000 - fp: 7.0000 - tn: 5241.0000 - fn: 7.0000 - accuracy: 0.9982 - precision: 0.9973 - recall: 0.9973 - auc: 0.9990 - prc: 0.9979\n",
            "Epoch 71/100\n",
            "73/82 [=========================>....] - ETA: 0s - loss: 0.0229 - tp: 2331.0000 - fp: 5.0000 - tn: 4667.0000 - fn: 5.0000 - accuracy: 0.9986 - precision: 0.9979 - recall: 0.9979 - auc: 0.9992 - prc: 0.9985"
          ]
        },
        {
          "output_type": "stream",
          "name": "stderr",
          "text": [
            "WARNING:tensorflow:Early stopping conditioned on metric `val_prc` which is not available. Available metrics are: loss,tp,fp,tn,fn,accuracy,precision,recall,auc,prc\n"
          ]
        },
        {
          "output_type": "stream",
          "name": "stdout",
          "text": [
            "\b\b\b\b\b\b\b\b\b\b\b\b\b\b\b\b\b\b\b\b\b\b\b\b\b\b\b\b\b\b\b\b\b\b\b\b\b\b\b\b\b\b\b\b\b\b\b\b\b\b\b\b\b\b\b\b\b\b\b\b\b\b\b\b\b\b\b\b\b\b\b\b\b\b\b\b\b\b\b\b\b\b\b\b\b\b\b\b\b\b\b\b\b\b\b\b\b\b\b\b\b\b\b\b\b\b\b\b\b\b\b\b\b\b\b\b\b\b\b\b\b\b\b\b\b\b\b\b\b\b\b\b\b\b\b\b\b\b\b\b\b\b\b\b\b\b\b\b\b\b\b\b\b\b\b\b\b\b\b\b\b\b\b\b\b\b\b\b\b\b\b\b\b\b\b\b\b\b\b\b\b\b\b\b\b\b\b\b\b\b\b\b\b\b\b\b\b\b\b\b\b\b\b\b\b\r82/82 [==============================] - 0s 6ms/step - loss: 0.0279 - tp: 2617.0000 - fp: 6.0000 - tn: 5242.0000 - fn: 7.0000 - accuracy: 0.9983 - precision: 0.9977 - recall: 0.9973 - auc: 0.9990 - prc: 0.9980\n",
            "Epoch 72/100\n",
            "79/82 [===========================>..] - ETA: 0s - loss: 0.0290 - tp: 2522.0000 - fp: 6.0000 - tn: 5050.0000 - fn: 6.0000 - accuracy: 0.9984 - precision: 0.9976 - recall: 0.9976 - auc: 0.9990 - prc: 0.9979"
          ]
        },
        {
          "output_type": "stream",
          "name": "stderr",
          "text": [
            "WARNING:tensorflow:Early stopping conditioned on metric `val_prc` which is not available. Available metrics are: loss,tp,fp,tn,fn,accuracy,precision,recall,auc,prc\n"
          ]
        },
        {
          "output_type": "stream",
          "name": "stdout",
          "text": [
            "\b\b\b\b\b\b\b\b\b\b\b\b\b\b\b\b\b\b\b\b\b\b\b\b\b\b\b\b\b\b\b\b\b\b\b\b\b\b\b\b\b\b\b\b\b\b\b\b\b\b\b\b\b\b\b\b\b\b\b\b\b\b\b\b\b\b\b\b\b\b\b\b\b\b\b\b\b\b\b\b\b\b\b\b\b\b\b\b\b\b\b\b\b\b\b\b\b\b\b\b\b\b\b\b\b\b\b\b\b\b\b\b\b\b\b\b\b\b\b\b\b\b\b\b\b\b\b\b\b\b\b\b\b\b\b\b\b\b\b\b\b\b\b\b\b\b\b\b\b\b\b\b\b\b\b\b\b\b\b\b\b\b\b\b\b\b\b\b\b\b\b\b\b\b\b\b\b\b\b\b\b\b\b\b\b\b\b\b\b\b\b\b\b\b\b\b\b\b\b\b\b\b\b\b\b\r82/82 [==============================] - 0s 5ms/step - loss: 0.0283 - tp: 2618.0000 - fp: 6.0000 - tn: 5242.0000 - fn: 6.0000 - accuracy: 0.9985 - precision: 0.9977 - recall: 0.9977 - auc: 0.9990 - prc: 0.9980\n",
            "Epoch 73/100\n",
            "76/82 [==========================>...] - ETA: 0s - loss: 0.0374 - tp: 2415.0000 - fp: 17.0000 - tn: 4847.0000 - fn: 17.0000 - accuracy: 0.9953 - precision: 0.9930 - recall: 0.9930 - auc: 0.9988 - prc: 0.9975"
          ]
        },
        {
          "output_type": "stream",
          "name": "stderr",
          "text": [
            "WARNING:tensorflow:Early stopping conditioned on metric `val_prc` which is not available. Available metrics are: loss,tp,fp,tn,fn,accuracy,precision,recall,auc,prc\n"
          ]
        },
        {
          "output_type": "stream",
          "name": "stdout",
          "text": [
            "\b\b\b\b\b\b\b\b\b\b\b\b\b\b\b\b\b\b\b\b\b\b\b\b\b\b\b\b\b\b\b\b\b\b\b\b\b\b\b\b\b\b\b\b\b\b\b\b\b\b\b\b\b\b\b\b\b\b\b\b\b\b\b\b\b\b\b\b\b\b\b\b\b\b\b\b\b\b\b\b\b\b\b\b\b\b\b\b\b\b\b\b\b\b\b\b\b\b\b\b\b\b\b\b\b\b\b\b\b\b\b\b\b\b\b\b\b\b\b\b\b\b\b\b\b\b\b\b\b\b\b\b\b\b\b\b\b\b\b\b\b\b\b\b\b\b\b\b\b\b\b\b\b\b\b\b\b\b\b\b\b\b\b\b\b\b\b\b\b\b\b\b\b\b\b\b\b\b\b\b\b\b\b\b\b\b\b\b\b\b\b\b\b\b\b\b\b\b\b\b\b\b\b\b\b\b\b\r82/82 [==============================] - 0s 6ms/step - loss: 0.1236 - tp: 2575.0000 - fp: 49.0000 - tn: 5199.0000 - fn: 49.0000 - accuracy: 0.9876 - precision: 0.9813 - recall: 0.9813 - auc: 0.9936 - prc: 0.9873\n",
            "Epoch 74/100\n",
            "82/82 [==============================] - ETA: 0s - loss: 2.4298 - tp: 1871.0000 - fp: 743.0000 - tn: 4505.0000 - fn: 753.0000 - accuracy: 0.8100 - precision: 0.7158 - recall: 0.7130 - auc: 0.8311 - prc: 0.7011"
          ]
        },
        {
          "output_type": "stream",
          "name": "stderr",
          "text": [
            "WARNING:tensorflow:Early stopping conditioned on metric `val_prc` which is not available. Available metrics are: loss,tp,fp,tn,fn,accuracy,precision,recall,auc,prc\n"
          ]
        },
        {
          "output_type": "stream",
          "name": "stdout",
          "text": [
            "\b\b\b\b\b\b\b\b\b\b\b\b\b\b\b\b\b\b\b\b\b\b\b\b\b\b\b\b\b\b\b\b\b\b\b\b\b\b\b\b\b\b\b\b\b\b\b\b\b\b\b\b\b\b\b\b\b\b\b\b\b\b\b\b\b\b\b\b\b\b\b\b\b\b\b\b\b\b\b\b\b\b\b\b\b\b\b\b\b\b\b\b\b\b\b\b\b\b\b\b\b\b\b\b\b\b\b\b\b\b\b\b\b\b\b\b\b\b\b\b\b\b\b\b\b\b\b\b\b\b\b\b\b\b\b\b\b\b\b\b\b\b\b\b\b\b\b\b\b\b\b\b\b\b\b\b\b\b\b\b\b\b\b\b\b\b\b\b\b\b\b\b\b\b\b\b\b\b\b\b\b\b\b\b\b\b\b\b\b\b\b\b\b\b\b\b\b\b\b\b\b\b\b\b\b\b\b\b\b\r82/82 [==============================] - 0s 5ms/step - loss: 2.4298 - tp: 1871.0000 - fp: 743.0000 - tn: 4505.0000 - fn: 753.0000 - accuracy: 0.8100 - precision: 0.7158 - recall: 0.7130 - auc: 0.8311 - prc: 0.7011\n",
            "Epoch 75/100\n",
            "81/82 [============================>.] - ETA: 0s - loss: 1.9912 - tp: 2002.0000 - fp: 586.0000 - tn: 4598.0000 - fn: 590.0000 - accuracy: 0.8488 - precision: 0.7736 - recall: 0.7724 - auc: 0.8726 - prc: 0.7690"
          ]
        },
        {
          "output_type": "stream",
          "name": "stderr",
          "text": [
            "WARNING:tensorflow:Early stopping conditioned on metric `val_prc` which is not available. Available metrics are: loss,tp,fp,tn,fn,accuracy,precision,recall,auc,prc\n"
          ]
        },
        {
          "output_type": "stream",
          "name": "stdout",
          "text": [
            "\b\b\b\b\b\b\b\b\b\b\b\b\b\b\b\b\b\b\b\b\b\b\b\b\b\b\b\b\b\b\b\b\b\b\b\b\b\b\b\b\b\b\b\b\b\b\b\b\b\b\b\b\b\b\b\b\b\b\b\b\b\b\b\b\b\b\b\b\b\b\b\b\b\b\b\b\b\b\b\b\b\b\b\b\b\b\b\b\b\b\b\b\b\b\b\b\b\b\b\b\b\b\b\b\b\b\b\b\b\b\b\b\b\b\b\b\b\b\b\b\b\b\b\b\b\b\b\b\b\b\b\b\b\b\b\b\b\b\b\b\b\b\b\b\b\b\b\b\b\b\b\b\b\b\b\b\b\b\b\b\b\b\b\b\b\b\b\b\b\b\b\b\b\b\b\b\b\b\b\b\b\b\b\b\b\b\b\b\b\b\b\b\b\b\b\b\b\b\b\b\b\b\b\b\b\b\b\b\b\r82/82 [==============================] - 0s 6ms/step - loss: 1.9868 - tp: 2029.0000 - fp: 591.0000 - tn: 4657.0000 - fn: 595.0000 - accuracy: 0.8493 - precision: 0.7744 - recall: 0.7732 - auc: 0.8730 - prc: 0.7695\n",
            "Epoch 76/100\n",
            "75/82 [==========================>...] - ETA: 0s - loss: 1.2802 - tp: 2031.0000 - fp: 363.0000 - tn: 4437.0000 - fn: 369.0000 - accuracy: 0.8983 - precision: 0.8484 - recall: 0.8462 - auc: 0.9222 - prc: 0.8537"
          ]
        },
        {
          "output_type": "stream",
          "name": "stderr",
          "text": [
            "WARNING:tensorflow:Early stopping conditioned on metric `val_prc` which is not available. Available metrics are: loss,tp,fp,tn,fn,accuracy,precision,recall,auc,prc\n"
          ]
        },
        {
          "output_type": "stream",
          "name": "stdout",
          "text": [
            "\b\b\b\b\b\b\b\b\b\b\b\b\b\b\b\b\b\b\b\b\b\b\b\b\b\b\b\b\b\b\b\b\b\b\b\b\b\b\b\b\b\b\b\b\b\b\b\b\b\b\b\b\b\b\b\b\b\b\b\b\b\b\b\b\b\b\b\b\b\b\b\b\b\b\b\b\b\b\b\b\b\b\b\b\b\b\b\b\b\b\b\b\b\b\b\b\b\b\b\b\b\b\b\b\b\b\b\b\b\b\b\b\b\b\b\b\b\b\b\b\b\b\b\b\b\b\b\b\b\b\b\b\b\b\b\b\b\b\b\b\b\b\b\b\b\b\b\b\b\b\b\b\b\b\b\b\b\b\b\b\b\b\b\b\b\b\b\b\b\b\b\b\b\b\b\b\b\b\b\b\b\b\b\b\b\b\b\b\b\b\b\b\b\b\b\b\b\b\b\b\b\b\b\b\b\b\b\b\b\r82/82 [==============================] - 0s 6ms/step - loss: 1.2658 - tp: 2220.0000 - fp: 398.0000 - tn: 4850.0000 - fn: 404.0000 - accuracy: 0.8981 - precision: 0.8480 - recall: 0.8460 - auc: 0.9226 - prc: 0.8547\n",
            "Epoch 77/100\n",
            "79/82 [===========================>..] - ETA: 0s - loss: 0.9938 - tp: 2243.0000 - fp: 275.0000 - tn: 4781.0000 - fn: 285.0000 - accuracy: 0.9262 - precision: 0.8908 - recall: 0.8873 - auc: 0.9432 - prc: 0.8920"
          ]
        },
        {
          "output_type": "stream",
          "name": "stderr",
          "text": [
            "WARNING:tensorflow:Early stopping conditioned on metric `val_prc` which is not available. Available metrics are: loss,tp,fp,tn,fn,accuracy,precision,recall,auc,prc\n"
          ]
        },
        {
          "output_type": "stream",
          "name": "stdout",
          "text": [
            "\b\b\b\b\b\b\b\b\b\b\b\b\b\b\b\b\b\b\b\b\b\b\b\b\b\b\b\b\b\b\b\b\b\b\b\b\b\b\b\b\b\b\b\b\b\b\b\b\b\b\b\b\b\b\b\b\b\b\b\b\b\b\b\b\b\b\b\b\b\b\b\b\b\b\b\b\b\b\b\b\b\b\b\b\b\b\b\b\b\b\b\b\b\b\b\b\b\b\b\b\b\b\b\b\b\b\b\b\b\b\b\b\b\b\b\b\b\b\b\b\b\b\b\b\b\b\b\b\b\b\b\b\b\b\b\b\b\b\b\b\b\b\b\b\b\b\b\b\b\b\b\b\b\b\b\b\b\b\b\b\b\b\b\b\b\b\b\b\b\b\b\b\b\b\b\b\b\b\b\b\b\b\b\b\b\b\b\b\b\b\b\b\b\b\b\b\b\b\b\b\b\b\b\b\b\b\b\b\b\r82/82 [==============================] - 0s 5ms/step - loss: 1.0031 - tp: 2331.0000 - fp: 283.0000 - tn: 4965.0000 - fn: 293.0000 - accuracy: 0.9268 - precision: 0.8917 - recall: 0.8883 - auc: 0.9430 - prc: 0.8915\n",
            "Epoch 78/100\n",
            "78/82 [===========================>..] - ETA: 0s - loss: 0.7918 - tp: 2269.0000 - fp: 222.0000 - tn: 4770.0000 - fn: 227.0000 - accuracy: 0.9400 - precision: 0.9109 - recall: 0.9091 - auc: 0.9554 - prc: 0.9143"
          ]
        },
        {
          "output_type": "stream",
          "name": "stderr",
          "text": [
            "WARNING:tensorflow:Early stopping conditioned on metric `val_prc` which is not available. Available metrics are: loss,tp,fp,tn,fn,accuracy,precision,recall,auc,prc\n"
          ]
        },
        {
          "output_type": "stream",
          "name": "stdout",
          "text": [
            "\b\b\b\b\b\b\b\b\b\b\b\b\b\b\b\b\b\b\b\b\b\b\b\b\b\b\b\b\b\b\b\b\b\b\b\b\b\b\b\b\b\b\b\b\b\b\b\b\b\b\b\b\b\b\b\b\b\b\b\b\b\b\b\b\b\b\b\b\b\b\b\b\b\b\b\b\b\b\b\b\b\b\b\b\b\b\b\b\b\b\b\b\b\b\b\b\b\b\b\b\b\b\b\b\b\b\b\b\b\b\b\b\b\b\b\b\b\b\b\b\b\b\b\b\b\b\b\b\b\b\b\b\b\b\b\b\b\b\b\b\b\b\b\b\b\b\b\b\b\b\b\b\b\b\b\b\b\b\b\b\b\b\b\b\b\b\b\b\b\b\b\b\b\b\b\b\b\b\b\b\b\b\b\b\b\b\b\b\b\b\b\b\b\b\b\b\b\b\b\b\b\b\b\b\b\b\b\b\b\r82/82 [==============================] - 0s 6ms/step - loss: 0.7920 - tp: 2384.0000 - fp: 235.0000 - tn: 5013.0000 - fn: 240.0000 - accuracy: 0.9397 - precision: 0.9103 - recall: 0.9085 - auc: 0.9552 - prc: 0.9138\n",
            "Epoch 79/100\n",
            "79/82 [===========================>..] - ETA: 0s - loss: 0.5783 - tp: 2361.0000 - fp: 161.0000 - tn: 4895.0000 - fn: 167.0000 - accuracy: 0.9568 - precision: 0.9362 - recall: 0.9339 - auc: 0.9697 - prc: 0.9409"
          ]
        },
        {
          "output_type": "stream",
          "name": "stderr",
          "text": [
            "WARNING:tensorflow:Early stopping conditioned on metric `val_prc` which is not available. Available metrics are: loss,tp,fp,tn,fn,accuracy,precision,recall,auc,prc\n"
          ]
        },
        {
          "output_type": "stream",
          "name": "stdout",
          "text": [
            "\b\b\b\b\b\b\b\b\b\b\b\b\b\b\b\b\b\b\b\b\b\b\b\b\b\b\b\b\b\b\b\b\b\b\b\b\b\b\b\b\b\b\b\b\b\b\b\b\b\b\b\b\b\b\b\b\b\b\b\b\b\b\b\b\b\b\b\b\b\b\b\b\b\b\b\b\b\b\b\b\b\b\b\b\b\b\b\b\b\b\b\b\b\b\b\b\b\b\b\b\b\b\b\b\b\b\b\b\b\b\b\b\b\b\b\b\b\b\b\b\b\b\b\b\b\b\b\b\b\b\b\b\b\b\b\b\b\b\b\b\b\b\b\b\b\b\b\b\b\b\b\b\b\b\b\b\b\b\b\b\b\b\b\b\b\b\b\b\b\b\b\b\b\b\b\b\b\b\b\b\b\b\b\b\b\b\b\b\b\b\b\b\b\b\b\b\b\b\b\b\b\b\b\b\b\b\b\b\b\r82/82 [==============================] - 0s 5ms/step - loss: 0.5793 - tp: 2450.0000 - fp: 168.0000 - tn: 5080.0000 - fn: 174.0000 - accuracy: 0.9566 - precision: 0.9358 - recall: 0.9337 - auc: 0.9696 - prc: 0.9408\n",
            "Epoch 80/100\n",
            "77/82 [===========================>..] - ETA: 0s - loss: 0.5361 - tp: 2331.0000 - fp: 128.0000 - tn: 4800.0000 - fn: 133.0000 - accuracy: 0.9647 - precision: 0.9479 - recall: 0.9460 - auc: 0.9719 - prc: 0.9450"
          ]
        },
        {
          "output_type": "stream",
          "name": "stderr",
          "text": [
            "WARNING:tensorflow:Early stopping conditioned on metric `val_prc` which is not available. Available metrics are: loss,tp,fp,tn,fn,accuracy,precision,recall,auc,prc\n"
          ]
        },
        {
          "output_type": "stream",
          "name": "stdout",
          "text": [
            "\b\b\b\b\b\b\b\b\b\b\b\b\b\b\b\b\b\b\b\b\b\b\b\b\b\b\b\b\b\b\b\b\b\b\b\b\b\b\b\b\b\b\b\b\b\b\b\b\b\b\b\b\b\b\b\b\b\b\b\b\b\b\b\b\b\b\b\b\b\b\b\b\b\b\b\b\b\b\b\b\b\b\b\b\b\b\b\b\b\b\b\b\b\b\b\b\b\b\b\b\b\b\b\b\b\b\b\b\b\b\b\b\b\b\b\b\b\b\b\b\b\b\b\b\b\b\b\b\b\b\b\b\b\b\b\b\b\b\b\b\b\b\b\b\b\b\b\b\b\b\b\b\b\b\b\b\b\b\b\b\b\b\b\b\b\b\b\b\b\b\b\b\b\b\b\b\b\b\b\b\b\b\b\b\b\b\b\b\b\b\b\b\b\b\b\b\b\b\b\b\b\b\b\b\b\b\b\b\b\r82/82 [==============================] - 0s 6ms/step - loss: 0.5191 - tp: 2486.0000 - fp: 133.0000 - tn: 5115.0000 - fn: 138.0000 - accuracy: 0.9656 - precision: 0.9492 - recall: 0.9474 - auc: 0.9729 - prc: 0.9469\n",
            "Epoch 81/100\n",
            "80/82 [============================>.] - ETA: 0s - loss: 0.4728 - tp: 2466.0000 - fp: 91.0000 - tn: 5029.0000 - fn: 94.0000 - accuracy: 0.9759 - precision: 0.9644 - recall: 0.9633 - auc: 0.9761 - prc: 0.9537"
          ]
        },
        {
          "output_type": "stream",
          "name": "stderr",
          "text": [
            "WARNING:tensorflow:Early stopping conditioned on metric `val_prc` which is not available. Available metrics are: loss,tp,fp,tn,fn,accuracy,precision,recall,auc,prc\n"
          ]
        },
        {
          "output_type": "stream",
          "name": "stdout",
          "text": [
            "\b\b\b\b\b\b\b\b\b\b\b\b\b\b\b\b\b\b\b\b\b\b\b\b\b\b\b\b\b\b\b\b\b\b\b\b\b\b\b\b\b\b\b\b\b\b\b\b\b\b\b\b\b\b\b\b\b\b\b\b\b\b\b\b\b\b\b\b\b\b\b\b\b\b\b\b\b\b\b\b\b\b\b\b\b\b\b\b\b\b\b\b\b\b\b\b\b\b\b\b\b\b\b\b\b\b\b\b\b\b\b\b\b\b\b\b\b\b\b\b\b\b\b\b\b\b\b\b\b\b\b\b\b\b\b\b\b\b\b\b\b\b\b\b\b\b\b\b\b\b\b\b\b\b\b\b\b\b\b\b\b\b\b\b\b\b\b\b\b\b\b\b\b\b\b\b\b\b\b\b\b\b\b\b\b\b\b\b\b\b\b\b\b\b\b\b\b\b\b\b\b\b\b\b\b\b\b\r82/82 [==============================] - 0s 5ms/step - loss: 0.4679 - tp: 2529.0000 - fp: 92.0000 - tn: 5156.0000 - fn: 95.0000 - accuracy: 0.9762 - precision: 0.9649 - recall: 0.9638 - auc: 0.9764 - prc: 0.9542\n",
            "Epoch 82/100\n",
            "74/82 [==========================>...] - ETA: 0s - loss: 0.4245 - tp: 2298.0000 - fp: 70.0000 - tn: 4666.0000 - fn: 70.0000 - accuracy: 0.9803 - precision: 0.9704 - recall: 0.9704 - auc: 0.9785 - prc: 0.9583"
          ]
        },
        {
          "output_type": "stream",
          "name": "stderr",
          "text": [
            "WARNING:tensorflow:Early stopping conditioned on metric `val_prc` which is not available. Available metrics are: loss,tp,fp,tn,fn,accuracy,precision,recall,auc,prc\n"
          ]
        },
        {
          "output_type": "stream",
          "name": "stdout",
          "text": [
            "\b\b\b\b\b\b\b\b\b\b\b\b\b\b\b\b\b\b\b\b\b\b\b\b\b\b\b\b\b\b\b\b\b\b\b\b\b\b\b\b\b\b\b\b\b\b\b\b\b\b\b\b\b\b\b\b\b\b\b\b\b\b\b\b\b\b\b\b\b\b\b\b\b\b\b\b\b\b\b\b\b\b\b\b\b\b\b\b\b\b\b\b\b\b\b\b\b\b\b\b\b\b\b\b\b\b\b\b\b\b\b\b\b\b\b\b\b\b\b\b\b\b\b\b\b\b\b\b\b\b\b\b\b\b\b\b\b\b\b\b\b\b\b\b\b\b\b\b\b\b\b\b\b\b\b\b\b\b\b\b\b\b\b\b\b\b\b\b\b\b\b\b\b\b\b\b\b\b\b\b\b\b\b\b\b\b\b\b\b\b\b\b\b\b\b\b\b\b\b\b\b\b\b\b\b\b\b\r82/82 [==============================] - 0s 6ms/step - loss: 0.4318 - tp: 2543.0000 - fp: 81.0000 - tn: 5167.0000 - fn: 81.0000 - accuracy: 0.9794 - precision: 0.9691 - recall: 0.9691 - auc: 0.9780 - prc: 0.9571\n",
            "Epoch 83/100\n",
            "74/82 [==========================>...] - ETA: 0s - loss: 0.4425 - tp: 2291.0000 - fp: 77.0000 - tn: 4659.0000 - fn: 77.0000 - accuracy: 0.9783 - precision: 0.9675 - recall: 0.9675 - auc: 0.9771 - prc: 0.9548"
          ]
        },
        {
          "output_type": "stream",
          "name": "stderr",
          "text": [
            "WARNING:tensorflow:Early stopping conditioned on metric `val_prc` which is not available. Available metrics are: loss,tp,fp,tn,fn,accuracy,precision,recall,auc,prc\n"
          ]
        },
        {
          "output_type": "stream",
          "name": "stdout",
          "text": [
            "\b\b\b\b\b\b\b\b\b\b\b\b\b\b\b\b\b\b\b\b\b\b\b\b\b\b\b\b\b\b\b\b\b\b\b\b\b\b\b\b\b\b\b\b\b\b\b\b\b\b\b\b\b\b\b\b\b\b\b\b\b\b\b\b\b\b\b\b\b\b\b\b\b\b\b\b\b\b\b\b\b\b\b\b\b\b\b\b\b\b\b\b\b\b\b\b\b\b\b\b\b\b\b\b\b\b\b\b\b\b\b\b\b\b\b\b\b\b\b\b\b\b\b\b\b\b\b\b\b\b\b\b\b\b\b\b\b\b\b\b\b\b\b\b\b\b\b\b\b\b\b\b\b\b\b\b\b\b\b\b\b\b\b\b\b\b\b\b\b\b\b\b\b\b\b\b\b\b\b\b\b\b\b\b\b\b\b\b\b\b\b\b\b\b\b\b\b\b\b\b\b\b\b\b\b\b\b\r82/82 [==============================] - 0s 6ms/step - loss: 0.4576 - tp: 2536.0000 - fp: 88.0000 - tn: 5160.0000 - fn: 88.0000 - accuracy: 0.9776 - precision: 0.9665 - recall: 0.9665 - auc: 0.9764 - prc: 0.9536\n",
            "Epoch 84/100\n",
            "81/82 [============================>.] - ETA: 0s - loss: 0.4056 - tp: 2518.0000 - fp: 72.0000 - tn: 5112.0000 - fn: 74.0000 - accuracy: 0.9812 - precision: 0.9722 - recall: 0.9715 - auc: 0.9793 - prc: 0.9599"
          ]
        },
        {
          "output_type": "stream",
          "name": "stderr",
          "text": [
            "WARNING:tensorflow:Early stopping conditioned on metric `val_prc` which is not available. Available metrics are: loss,tp,fp,tn,fn,accuracy,precision,recall,auc,prc\n"
          ]
        },
        {
          "output_type": "stream",
          "name": "stdout",
          "text": [
            "\b\b\b\b\b\b\b\b\b\b\b\b\b\b\b\b\b\b\b\b\b\b\b\b\b\b\b\b\b\b\b\b\b\b\b\b\b\b\b\b\b\b\b\b\b\b\b\b\b\b\b\b\b\b\b\b\b\b\b\b\b\b\b\b\b\b\b\b\b\b\b\b\b\b\b\b\b\b\b\b\b\b\b\b\b\b\b\b\b\b\b\b\b\b\b\b\b\b\b\b\b\b\b\b\b\b\b\b\b\b\b\b\b\b\b\b\b\b\b\b\b\b\b\b\b\b\b\b\b\b\b\b\b\b\b\b\b\b\b\b\b\b\b\b\b\b\b\b\b\b\b\b\b\b\b\b\b\b\b\b\b\b\b\b\b\b\b\b\b\b\b\b\b\b\b\b\b\b\b\b\b\b\b\b\b\b\b\b\b\b\b\b\b\b\b\b\b\b\b\b\b\b\b\b\b\b\b\r82/82 [==============================] - 0s 6ms/step - loss: 0.4069 - tp: 2549.0000 - fp: 73.0000 - tn: 5175.0000 - fn: 75.0000 - accuracy: 0.9812 - precision: 0.9722 - recall: 0.9714 - auc: 0.9792 - prc: 0.9598\n",
            "Epoch 85/100\n",
            "75/82 [==========================>...] - ETA: 0s - loss: 0.3625 - tp: 2340.0000 - fp: 60.0000 - tn: 4740.0000 - fn: 60.0000 - accuracy: 0.9833 - precision: 0.9750 - recall: 0.9750 - auc: 0.9811 - prc: 0.9630"
          ]
        },
        {
          "output_type": "stream",
          "name": "stderr",
          "text": [
            "WARNING:tensorflow:Early stopping conditioned on metric `val_prc` which is not available. Available metrics are: loss,tp,fp,tn,fn,accuracy,precision,recall,auc,prc\n"
          ]
        },
        {
          "output_type": "stream",
          "name": "stdout",
          "text": [
            "\b\b\b\b\b\b\b\b\b\b\b\b\b\b\b\b\b\b\b\b\b\b\b\b\b\b\b\b\b\b\b\b\b\b\b\b\b\b\b\b\b\b\b\b\b\b\b\b\b\b\b\b\b\b\b\b\b\b\b\b\b\b\b\b\b\b\b\b\b\b\b\b\b\b\b\b\b\b\b\b\b\b\b\b\b\b\b\b\b\b\b\b\b\b\b\b\b\b\b\b\b\b\b\b\b\b\b\b\b\b\b\b\b\b\b\b\b\b\b\b\b\b\b\b\b\b\b\b\b\b\b\b\b\b\b\b\b\b\b\b\b\b\b\b\b\b\b\b\b\b\b\b\b\b\b\b\b\b\b\b\b\b\b\b\b\b\b\b\b\b\b\b\b\b\b\b\b\b\b\b\b\b\b\b\b\b\b\b\b\b\b\b\b\b\b\b\b\b\b\b\b\b\b\b\b\b\b\r82/82 [==============================] - 1s 6ms/step - loss: 0.3822 - tp: 2556.0000 - fp: 68.0000 - tn: 5180.0000 - fn: 68.0000 - accuracy: 0.9827 - precision: 0.9741 - recall: 0.9741 - auc: 0.9802 - prc: 0.9613\n",
            "Epoch 86/100\n",
            "80/82 [============================>.] - ETA: 0s - loss: 0.3700 - tp: 2501.0000 - fp: 59.0000 - tn: 5061.0000 - fn: 59.0000 - accuracy: 0.9846 - precision: 0.9770 - recall: 0.9770 - auc: 0.9812 - prc: 0.9634"
          ]
        },
        {
          "output_type": "stream",
          "name": "stderr",
          "text": [
            "WARNING:tensorflow:Early stopping conditioned on metric `val_prc` which is not available. Available metrics are: loss,tp,fp,tn,fn,accuracy,precision,recall,auc,prc\n"
          ]
        },
        {
          "output_type": "stream",
          "name": "stdout",
          "text": [
            "\b\b\b\b\b\b\b\b\b\b\b\b\b\b\b\b\b\b\b\b\b\b\b\b\b\b\b\b\b\b\b\b\b\b\b\b\b\b\b\b\b\b\b\b\b\b\b\b\b\b\b\b\b\b\b\b\b\b\b\b\b\b\b\b\b\b\b\b\b\b\b\b\b\b\b\b\b\b\b\b\b\b\b\b\b\b\b\b\b\b\b\b\b\b\b\b\b\b\b\b\b\b\b\b\b\b\b\b\b\b\b\b\b\b\b\b\b\b\b\b\b\b\b\b\b\b\b\b\b\b\b\b\b\b\b\b\b\b\b\b\b\b\b\b\b\b\b\b\b\b\b\b\b\b\b\b\b\b\b\b\b\b\b\b\b\b\b\b\b\b\b\b\b\b\b\b\b\b\b\b\b\b\b\b\b\b\b\b\b\b\b\b\b\b\b\b\b\b\b\b\b\b\b\b\b\b\b\r82/82 [==============================] - 0s 6ms/step - loss: 0.3673 - tp: 2564.0000 - fp: 60.0000 - tn: 5188.0000 - fn: 60.0000 - accuracy: 0.9848 - precision: 0.9771 - recall: 0.9771 - auc: 0.9813 - prc: 0.9637\n",
            "Epoch 87/100\n",
            "79/82 [===========================>..] - ETA: 0s - loss: 0.3730 - tp: 2469.0000 - fp: 59.0000 - tn: 4997.0000 - fn: 59.0000 - accuracy: 0.9844 - precision: 0.9767 - recall: 0.9767 - auc: 0.9810 - prc: 0.9631"
          ]
        },
        {
          "output_type": "stream",
          "name": "stderr",
          "text": [
            "WARNING:tensorflow:Early stopping conditioned on metric `val_prc` which is not available. Available metrics are: loss,tp,fp,tn,fn,accuracy,precision,recall,auc,prc\n"
          ]
        },
        {
          "output_type": "stream",
          "name": "stdout",
          "text": [
            "\b\b\b\b\b\b\b\b\b\b\b\b\b\b\b\b\b\b\b\b\b\b\b\b\b\b\b\b\b\b\b\b\b\b\b\b\b\b\b\b\b\b\b\b\b\b\b\b\b\b\b\b\b\b\b\b\b\b\b\b\b\b\b\b\b\b\b\b\b\b\b\b\b\b\b\b\b\b\b\b\b\b\b\b\b\b\b\b\b\b\b\b\b\b\b\b\b\b\b\b\b\b\b\b\b\b\b\b\b\b\b\b\b\b\b\b\b\b\b\b\b\b\b\b\b\b\b\b\b\b\b\b\b\b\b\b\b\b\b\b\b\b\b\b\b\b\b\b\b\b\b\b\b\b\b\b\b\b\b\b\b\b\b\b\b\b\b\b\b\b\b\b\b\b\b\b\b\b\b\b\b\b\b\b\b\b\b\b\b\b\b\b\b\b\b\b\b\b\b\b\b\b\b\b\b\b\b\r82/82 [==============================] - 0s 6ms/step - loss: 0.3658 - tp: 2564.0000 - fp: 60.0000 - tn: 5188.0000 - fn: 60.0000 - accuracy: 0.9848 - precision: 0.9771 - recall: 0.9771 - auc: 0.9814 - prc: 0.9638\n",
            "Epoch 88/100\n",
            "77/82 [===========================>..] - ETA: 0s - loss: 0.3752 - tp: 2406.0000 - fp: 58.0000 - tn: 4870.0000 - fn: 58.0000 - accuracy: 0.9843 - precision: 0.9765 - recall: 0.9765 - auc: 0.9809 - prc: 0.9633"
          ]
        },
        {
          "output_type": "stream",
          "name": "stderr",
          "text": [
            "WARNING:tensorflow:Early stopping conditioned on metric `val_prc` which is not available. Available metrics are: loss,tp,fp,tn,fn,accuracy,precision,recall,auc,prc\n"
          ]
        },
        {
          "output_type": "stream",
          "name": "stdout",
          "text": [
            "\b\b\b\b\b\b\b\b\b\b\b\b\b\b\b\b\b\b\b\b\b\b\b\b\b\b\b\b\b\b\b\b\b\b\b\b\b\b\b\b\b\b\b\b\b\b\b\b\b\b\b\b\b\b\b\b\b\b\b\b\b\b\b\b\b\b\b\b\b\b\b\b\b\b\b\b\b\b\b\b\b\b\b\b\b\b\b\b\b\b\b\b\b\b\b\b\b\b\b\b\b\b\b\b\b\b\b\b\b\b\b\b\b\b\b\b\b\b\b\b\b\b\b\b\b\b\b\b\b\b\b\b\b\b\b\b\b\b\b\b\b\b\b\b\b\b\b\b\b\b\b\b\b\b\b\b\b\b\b\b\b\b\b\b\b\b\b\b\b\b\b\b\b\b\b\b\b\b\b\b\b\b\b\b\b\b\b\b\b\b\b\b\b\b\b\b\b\b\b\b\b\b\b\b\b\b\b\r82/82 [==============================] - 0s 6ms/step - loss: 0.3651 - tp: 2564.0000 - fp: 60.0000 - tn: 5188.0000 - fn: 60.0000 - accuracy: 0.9848 - precision: 0.9771 - recall: 0.9771 - auc: 0.9815 - prc: 0.9642\n",
            "Epoch 89/100\n",
            "73/82 [=========================>....] - ETA: 0s - loss: 0.3326 - tp: 2287.0000 - fp: 49.0000 - tn: 4623.0000 - fn: 49.0000 - accuracy: 0.9860 - precision: 0.9790 - recall: 0.9790 - auc: 0.9831 - prc: 0.9670"
          ]
        },
        {
          "output_type": "stream",
          "name": "stderr",
          "text": [
            "WARNING:tensorflow:Early stopping conditioned on metric `val_prc` which is not available. Available metrics are: loss,tp,fp,tn,fn,accuracy,precision,recall,auc,prc\n"
          ]
        },
        {
          "output_type": "stream",
          "name": "stdout",
          "text": [
            "\b\b\b\b\b\b\b\b\b\b\b\b\b\b\b\b\b\b\b\b\b\b\b\b\b\b\b\b\b\b\b\b\b\b\b\b\b\b\b\b\b\b\b\b\b\b\b\b\b\b\b\b\b\b\b\b\b\b\b\b\b\b\b\b\b\b\b\b\b\b\b\b\b\b\b\b\b\b\b\b\b\b\b\b\b\b\b\b\b\b\b\b\b\b\b\b\b\b\b\b\b\b\b\b\b\b\b\b\b\b\b\b\b\b\b\b\b\b\b\b\b\b\b\b\b\b\b\b\b\b\b\b\b\b\b\b\b\b\b\b\b\b\b\b\b\b\b\b\b\b\b\b\b\b\b\b\b\b\b\b\b\b\b\b\b\b\b\b\b\b\b\b\b\b\b\b\b\b\b\b\b\b\b\b\b\b\b\b\b\b\b\b\b\b\b\b\b\b\b\b\b\b\b\b\b\b\b\r82/82 [==============================] - 0s 6ms/step - loss: 0.3647 - tp: 2563.0000 - fp: 60.0000 - tn: 5188.0000 - fn: 61.0000 - accuracy: 0.9846 - precision: 0.9771 - recall: 0.9768 - auc: 0.9815 - prc: 0.9643\n",
            "Epoch 90/100\n",
            "75/82 [==========================>...] - ETA: 0s - loss: 0.3704 - tp: 2344.0000 - fp: 56.0000 - tn: 4744.0000 - fn: 56.0000 - accuracy: 0.9844 - precision: 0.9767 - recall: 0.9767 - auc: 0.9812 - prc: 0.9638"
          ]
        },
        {
          "output_type": "stream",
          "name": "stderr",
          "text": [
            "WARNING:tensorflow:Early stopping conditioned on metric `val_prc` which is not available. Available metrics are: loss,tp,fp,tn,fn,accuracy,precision,recall,auc,prc\n"
          ]
        },
        {
          "output_type": "stream",
          "name": "stdout",
          "text": [
            "\b\b\b\b\b\b\b\b\b\b\b\b\b\b\b\b\b\b\b\b\b\b\b\b\b\b\b\b\b\b\b\b\b\b\b\b\b\b\b\b\b\b\b\b\b\b\b\b\b\b\b\b\b\b\b\b\b\b\b\b\b\b\b\b\b\b\b\b\b\b\b\b\b\b\b\b\b\b\b\b\b\b\b\b\b\b\b\b\b\b\b\b\b\b\b\b\b\b\b\b\b\b\b\b\b\b\b\b\b\b\b\b\b\b\b\b\b\b\b\b\b\b\b\b\b\b\b\b\b\b\b\b\b\b\b\b\b\b\b\b\b\b\b\b\b\b\b\b\b\b\b\b\b\b\b\b\b\b\b\b\b\b\b\b\b\b\b\b\b\b\b\b\b\b\b\b\b\b\b\b\b\b\b\b\b\b\b\b\b\b\b\b\b\b\b\b\b\b\b\b\b\b\b\b\b\b\b\r82/82 [==============================] - 0s 6ms/step - loss: 0.3642 - tp: 2564.0000 - fp: 60.0000 - tn: 5188.0000 - fn: 60.0000 - accuracy: 0.9848 - precision: 0.9771 - recall: 0.9771 - auc: 0.9815 - prc: 0.9643\n",
            "Epoch 91/100\n",
            "76/82 [==========================>...] - ETA: 0s - loss: 0.3318 - tp: 2382.0000 - fp: 50.0000 - tn: 4814.0000 - fn: 50.0000 - accuracy: 0.9863 - precision: 0.9794 - recall: 0.9794 - auc: 0.9831 - prc: 0.9673"
          ]
        },
        {
          "output_type": "stream",
          "name": "stderr",
          "text": [
            "WARNING:tensorflow:Early stopping conditioned on metric `val_prc` which is not available. Available metrics are: loss,tp,fp,tn,fn,accuracy,precision,recall,auc,prc\n"
          ]
        },
        {
          "output_type": "stream",
          "name": "stdout",
          "text": [
            "\b\b\b\b\b\b\b\b\b\b\b\b\b\b\b\b\b\b\b\b\b\b\b\b\b\b\b\b\b\b\b\b\b\b\b\b\b\b\b\b\b\b\b\b\b\b\b\b\b\b\b\b\b\b\b\b\b\b\b\b\b\b\b\b\b\b\b\b\b\b\b\b\b\b\b\b\b\b\b\b\b\b\b\b\b\b\b\b\b\b\b\b\b\b\b\b\b\b\b\b\b\b\b\b\b\b\b\b\b\b\b\b\b\b\b\b\b\b\b\b\b\b\b\b\b\b\b\b\b\b\b\b\b\b\b\b\b\b\b\b\b\b\b\b\b\b\b\b\b\b\b\b\b\b\b\b\b\b\b\b\b\b\b\b\b\b\b\b\b\b\b\b\b\b\b\b\b\b\b\b\b\b\b\b\b\b\b\b\b\b\b\b\b\b\b\b\b\b\b\b\b\b\b\b\b\b\b\r82/82 [==============================] - 0s 6ms/step - loss: 0.3638 - tp: 2564.0000 - fp: 60.0000 - tn: 5188.0000 - fn: 60.0000 - accuracy: 0.9848 - precision: 0.9771 - recall: 0.9771 - auc: 0.9815 - prc: 0.9644\n",
            "Epoch 92/100\n",
            "74/82 [==========================>...] - ETA: 0s - loss: 0.3476 - tp: 2315.0000 - fp: 52.0000 - tn: 4684.0000 - fn: 53.0000 - accuracy: 0.9852 - precision: 0.9780 - recall: 0.9776 - auc: 0.9822 - prc: 0.9653"
          ]
        },
        {
          "output_type": "stream",
          "name": "stderr",
          "text": [
            "WARNING:tensorflow:Early stopping conditioned on metric `val_prc` which is not available. Available metrics are: loss,tp,fp,tn,fn,accuracy,precision,recall,auc,prc\n"
          ]
        },
        {
          "output_type": "stream",
          "name": "stdout",
          "text": [
            "\b\b\b\b\b\b\b\b\b\b\b\b\b\b\b\b\b\b\b\b\b\b\b\b\b\b\b\b\b\b\b\b\b\b\b\b\b\b\b\b\b\b\b\b\b\b\b\b\b\b\b\b\b\b\b\b\b\b\b\b\b\b\b\b\b\b\b\b\b\b\b\b\b\b\b\b\b\b\b\b\b\b\b\b\b\b\b\b\b\b\b\b\b\b\b\b\b\b\b\b\b\b\b\b\b\b\b\b\b\b\b\b\b\b\b\b\b\b\b\b\b\b\b\b\b\b\b\b\b\b\b\b\b\b\b\b\b\b\b\b\b\b\b\b\b\b\b\b\b\b\b\b\b\b\b\b\b\b\b\b\b\b\b\b\b\b\b\b\b\b\b\b\b\b\b\b\b\b\b\b\b\b\b\b\b\b\b\b\b\b\b\b\b\b\b\b\b\b\b\b\b\b\b\b\b\b\b\r82/82 [==============================] - 0s 6ms/step - loss: 0.3637 - tp: 2562.0000 - fp: 60.0000 - tn: 5188.0000 - fn: 62.0000 - accuracy: 0.9845 - precision: 0.9771 - recall: 0.9764 - auc: 0.9815 - prc: 0.9644\n",
            "Epoch 93/100\n",
            "80/82 [============================>.] - ETA: 0s - loss: 0.3661 - tp: 2500.0000 - fp: 59.0000 - tn: 5061.0000 - fn: 60.0000 - accuracy: 0.9845 - precision: 0.9769 - recall: 0.9766 - auc: 0.9815 - prc: 0.9643"
          ]
        },
        {
          "output_type": "stream",
          "name": "stderr",
          "text": [
            "WARNING:tensorflow:Early stopping conditioned on metric `val_prc` which is not available. Available metrics are: loss,tp,fp,tn,fn,accuracy,precision,recall,auc,prc\n"
          ]
        },
        {
          "output_type": "stream",
          "name": "stdout",
          "text": [
            "\b\b\b\b\b\b\b\b\b\b\b\b\b\b\b\b\b\b\b\b\b\b\b\b\b\b\b\b\b\b\b\b\b\b\b\b\b\b\b\b\b\b\b\b\b\b\b\b\b\b\b\b\b\b\b\b\b\b\b\b\b\b\b\b\b\b\b\b\b\b\b\b\b\b\b\b\b\b\b\b\b\b\b\b\b\b\b\b\b\b\b\b\b\b\b\b\b\b\b\b\b\b\b\b\b\b\b\b\b\b\b\b\b\b\b\b\b\b\b\b\b\b\b\b\b\b\b\b\b\b\b\b\b\b\b\b\b\b\b\b\b\b\b\b\b\b\b\b\b\b\b\b\b\b\b\b\b\b\b\b\b\b\b\b\b\b\b\b\b\b\b\b\b\b\b\b\b\b\b\b\b\b\b\b\b\b\b\b\b\b\b\b\b\b\b\b\b\b\b\b\b\b\b\b\b\b\b\r82/82 [==============================] - 1s 6ms/step - loss: 0.3635 - tp: 2563.0000 - fp: 60.0000 - tn: 5188.0000 - fn: 61.0000 - accuracy: 0.9846 - precision: 0.9771 - recall: 0.9768 - auc: 0.9816 - prc: 0.9644\n",
            "Epoch 94/100\n",
            "72/82 [=========================>....] - ETA: 0s - loss: 0.3361 - tp: 2254.0000 - fp: 50.0000 - tn: 4558.0000 - fn: 50.0000 - accuracy: 0.9855 - precision: 0.9783 - recall: 0.9783 - auc: 0.9829 - prc: 0.9667"
          ]
        },
        {
          "output_type": "stream",
          "name": "stderr",
          "text": [
            "WARNING:tensorflow:Early stopping conditioned on metric `val_prc` which is not available. Available metrics are: loss,tp,fp,tn,fn,accuracy,precision,recall,auc,prc\n"
          ]
        },
        {
          "output_type": "stream",
          "name": "stdout",
          "text": [
            "\b\b\b\b\b\b\b\b\b\b\b\b\b\b\b\b\b\b\b\b\b\b\b\b\b\b\b\b\b\b\b\b\b\b\b\b\b\b\b\b\b\b\b\b\b\b\b\b\b\b\b\b\b\b\b\b\b\b\b\b\b\b\b\b\b\b\b\b\b\b\b\b\b\b\b\b\b\b\b\b\b\b\b\b\b\b\b\b\b\b\b\b\b\b\b\b\b\b\b\b\b\b\b\b\b\b\b\b\b\b\b\b\b\b\b\b\b\b\b\b\b\b\b\b\b\b\b\b\b\b\b\b\b\b\b\b\b\b\b\b\b\b\b\b\b\b\b\b\b\b\b\b\b\b\b\b\b\b\b\b\b\b\b\b\b\b\b\b\b\b\b\b\b\b\b\b\b\b\b\b\b\b\b\b\b\b\b\b\b\b\b\b\b\b\b\b\b\b\b\b\b\b\b\b\b\b\b\r82/82 [==============================] - 0s 6ms/step - loss: 0.3633 - tp: 2563.0000 - fp: 61.0000 - tn: 5187.0000 - fn: 61.0000 - accuracy: 0.9845 - precision: 0.9768 - recall: 0.9768 - auc: 0.9816 - prc: 0.9645\n",
            "Epoch 95/100\n",
            "82/82 [==============================] - ETA: 0s - loss: 0.3631 - tp: 2564.0000 - fp: 60.0000 - tn: 5188.0000 - fn: 60.0000 - accuracy: 0.9848 - precision: 0.9771 - recall: 0.9771 - auc: 0.9816 - prc: 0.9645"
          ]
        },
        {
          "output_type": "stream",
          "name": "stderr",
          "text": [
            "WARNING:tensorflow:Early stopping conditioned on metric `val_prc` which is not available. Available metrics are: loss,tp,fp,tn,fn,accuracy,precision,recall,auc,prc\n"
          ]
        },
        {
          "output_type": "stream",
          "name": "stdout",
          "text": [
            "\b\b\b\b\b\b\b\b\b\b\b\b\b\b\b\b\b\b\b\b\b\b\b\b\b\b\b\b\b\b\b\b\b\b\b\b\b\b\b\b\b\b\b\b\b\b\b\b\b\b\b\b\b\b\b\b\b\b\b\b\b\b\b\b\b\b\b\b\b\b\b\b\b\b\b\b\b\b\b\b\b\b\b\b\b\b\b\b\b\b\b\b\b\b\b\b\b\b\b\b\b\b\b\b\b\b\b\b\b\b\b\b\b\b\b\b\b\b\b\b\b\b\b\b\b\b\b\b\b\b\b\b\b\b\b\b\b\b\b\b\b\b\b\b\b\b\b\b\b\b\b\b\b\b\b\b\b\b\b\b\b\b\b\b\b\b\b\b\b\b\b\b\b\b\b\b\b\b\b\b\b\b\b\b\b\b\b\b\b\b\b\b\b\b\b\b\b\b\b\b\b\b\b\b\b\b\b\r82/82 [==============================] - 0s 6ms/step - loss: 0.3631 - tp: 2564.0000 - fp: 60.0000 - tn: 5188.0000 - fn: 60.0000 - accuracy: 0.9848 - precision: 0.9771 - recall: 0.9771 - auc: 0.9816 - prc: 0.9645\n",
            "Epoch 96/100\n",
            "78/82 [===========================>..] - ETA: 0s - loss: 0.3618 - tp: 2438.0000 - fp: 57.0000 - tn: 4935.0000 - fn: 58.0000 - accuracy: 0.9846 - precision: 0.9772 - recall: 0.9768 - auc: 0.9816 - prc: 0.9643"
          ]
        },
        {
          "output_type": "stream",
          "name": "stderr",
          "text": [
            "WARNING:tensorflow:Early stopping conditioned on metric `val_prc` which is not available. Available metrics are: loss,tp,fp,tn,fn,accuracy,precision,recall,auc,prc\n"
          ]
        },
        {
          "output_type": "stream",
          "name": "stdout",
          "text": [
            "\b\b\b\b\b\b\b\b\b\b\b\b\b\b\b\b\b\b\b\b\b\b\b\b\b\b\b\b\b\b\b\b\b\b\b\b\b\b\b\b\b\b\b\b\b\b\b\b\b\b\b\b\b\b\b\b\b\b\b\b\b\b\b\b\b\b\b\b\b\b\b\b\b\b\b\b\b\b\b\b\b\b\b\b\b\b\b\b\b\b\b\b\b\b\b\b\b\b\b\b\b\b\b\b\b\b\b\b\b\b\b\b\b\b\b\b\b\b\b\b\b\b\b\b\b\b\b\b\b\b\b\b\b\b\b\b\b\b\b\b\b\b\b\b\b\b\b\b\b\b\b\b\b\b\b\b\b\b\b\b\b\b\b\b\b\b\b\b\b\b\b\b\b\b\b\b\b\b\b\b\b\b\b\b\b\b\b\b\b\b\b\b\b\b\b\b\b\b\b\b\b\b\b\b\b\b\b\r82/82 [==============================] - 1s 6ms/step - loss: 0.3629 - tp: 2563.0000 - fp: 60.0000 - tn: 5188.0000 - fn: 61.0000 - accuracy: 0.9846 - precision: 0.9771 - recall: 0.9768 - auc: 0.9816 - prc: 0.9645\n",
            "Epoch 97/100\n",
            "81/82 [============================>.] - ETA: 0s - loss: 0.3610 - tp: 2532.0000 - fp: 60.0000 - tn: 5124.0000 - fn: 60.0000 - accuracy: 0.9846 - precision: 0.9769 - recall: 0.9769 - auc: 0.9817 - prc: 0.9647"
          ]
        },
        {
          "output_type": "stream",
          "name": "stderr",
          "text": [
            "WARNING:tensorflow:Early stopping conditioned on metric `val_prc` which is not available. Available metrics are: loss,tp,fp,tn,fn,accuracy,precision,recall,auc,prc\n"
          ]
        },
        {
          "output_type": "stream",
          "name": "stdout",
          "text": [
            "\b\b\b\b\b\b\b\b\b\b\b\b\b\b\b\b\b\b\b\b\b\b\b\b\b\b\b\b\b\b\b\b\b\b\b\b\b\b\b\b\b\b\b\b\b\b\b\b\b\b\b\b\b\b\b\b\b\b\b\b\b\b\b\b\b\b\b\b\b\b\b\b\b\b\b\b\b\b\b\b\b\b\b\b\b\b\b\b\b\b\b\b\b\b\b\b\b\b\b\b\b\b\b\b\b\b\b\b\b\b\b\b\b\b\b\b\b\b\b\b\b\b\b\b\b\b\b\b\b\b\b\b\b\b\b\b\b\b\b\b\b\b\b\b\b\b\b\b\b\b\b\b\b\b\b\b\b\b\b\b\b\b\b\b\b\b\b\b\b\b\b\b\b\b\b\b\b\b\b\b\b\b\b\b\b\b\b\b\b\b\b\b\b\b\b\b\b\b\b\b\b\b\b\b\b\b\b\r82/82 [==============================] - 1s 6ms/step - loss: 0.3628 - tp: 2563.0000 - fp: 61.0000 - tn: 5187.0000 - fn: 61.0000 - accuracy: 0.9845 - precision: 0.9768 - recall: 0.9768 - auc: 0.9816 - prc: 0.9645\n",
            "Epoch 98/100\n",
            "79/82 [===========================>..] - ETA: 0s - loss: 0.3694 - tp: 2469.0000 - fp: 59.0000 - tn: 4997.0000 - fn: 59.0000 - accuracy: 0.9844 - precision: 0.9767 - recall: 0.9767 - auc: 0.9813 - prc: 0.9639"
          ]
        },
        {
          "output_type": "stream",
          "name": "stderr",
          "text": [
            "WARNING:tensorflow:Early stopping conditioned on metric `val_prc` which is not available. Available metrics are: loss,tp,fp,tn,fn,accuracy,precision,recall,auc,prc\n"
          ]
        },
        {
          "output_type": "stream",
          "name": "stdout",
          "text": [
            "\b\b\b\b\b\b\b\b\b\b\b\b\b\b\b\b\b\b\b\b\b\b\b\b\b\b\b\b\b\b\b\b\b\b\b\b\b\b\b\b\b\b\b\b\b\b\b\b\b\b\b\b\b\b\b\b\b\b\b\b\b\b\b\b\b\b\b\b\b\b\b\b\b\b\b\b\b\b\b\b\b\b\b\b\b\b\b\b\b\b\b\b\b\b\b\b\b\b\b\b\b\b\b\b\b\b\b\b\b\b\b\b\b\b\b\b\b\b\b\b\b\b\b\b\b\b\b\b\b\b\b\b\b\b\b\b\b\b\b\b\b\b\b\b\b\b\b\b\b\b\b\b\b\b\b\b\b\b\b\b\b\b\b\b\b\b\b\b\b\b\b\b\b\b\b\b\b\b\b\b\b\b\b\b\b\b\b\b\b\b\b\b\b\b\b\b\b\b\b\b\b\b\b\b\b\b\b\r82/82 [==============================] - 1s 6ms/step - loss: 0.3627 - tp: 2563.0000 - fp: 61.0000 - tn: 5187.0000 - fn: 61.0000 - accuracy: 0.9845 - precision: 0.9768 - recall: 0.9768 - auc: 0.9816 - prc: 0.9645\n",
            "Epoch 99/100\n",
            "78/82 [===========================>..] - ETA: 0s - loss: 0.3485 - tp: 2440.0000 - fp: 56.0000 - tn: 4936.0000 - fn: 56.0000 - accuracy: 0.9850 - precision: 0.9776 - recall: 0.9776 - auc: 0.9825 - prc: 0.9663"
          ]
        },
        {
          "output_type": "stream",
          "name": "stderr",
          "text": [
            "WARNING:tensorflow:Early stopping conditioned on metric `val_prc` which is not available. Available metrics are: loss,tp,fp,tn,fn,accuracy,precision,recall,auc,prc\n"
          ]
        },
        {
          "output_type": "stream",
          "name": "stdout",
          "text": [
            "\b\b\b\b\b\b\b\b\b\b\b\b\b\b\b\b\b\b\b\b\b\b\b\b\b\b\b\b\b\b\b\b\b\b\b\b\b\b\b\b\b\b\b\b\b\b\b\b\b\b\b\b\b\b\b\b\b\b\b\b\b\b\b\b\b\b\b\b\b\b\b\b\b\b\b\b\b\b\b\b\b\b\b\b\b\b\b\b\b\b\b\b\b\b\b\b\b\b\b\b\b\b\b\b\b\b\b\b\b\b\b\b\b\b\b\b\b\b\b\b\b\b\b\b\b\b\b\b\b\b\b\b\b\b\b\b\b\b\b\b\b\b\b\b\b\b\b\b\b\b\b\b\b\b\b\b\b\b\b\b\b\b\b\b\b\b\b\b\b\b\b\b\b\b\b\b\b\b\b\b\b\b\b\b\b\b\b\b\b\b\b\b\b\b\b\b\b\b\b\b\b\b\b\b\b\b\b\r82/82 [==============================] - 0s 5ms/step - loss: 0.3625 - tp: 2563.0000 - fp: 61.0000 - tn: 5187.0000 - fn: 61.0000 - accuracy: 0.9845 - precision: 0.9768 - recall: 0.9768 - auc: 0.9817 - prc: 0.9648\n",
            "Epoch 100/100\n",
            "81/82 [============================>.] - ETA: 0s - loss: 0.3669 - tp: 2530.0000 - fp: 62.0000 - tn: 5122.0000 - fn: 62.0000 - accuracy: 0.9841 - precision: 0.9761 - recall: 0.9761 - auc: 0.9814 - prc: 0.9642"
          ]
        },
        {
          "output_type": "stream",
          "name": "stderr",
          "text": [
            "WARNING:tensorflow:Early stopping conditioned on metric `val_prc` which is not available. Available metrics are: loss,tp,fp,tn,fn,accuracy,precision,recall,auc,prc\n"
          ]
        },
        {
          "output_type": "stream",
          "name": "stdout",
          "text": [
            "\b\b\b\b\b\b\b\b\b\b\b\b\b\b\b\b\b\b\b\b\b\b\b\b\b\b\b\b\b\b\b\b\b\b\b\b\b\b\b\b\b\b\b\b\b\b\b\b\b\b\b\b\b\b\b\b\b\b\b\b\b\b\b\b\b\b\b\b\b\b\b\b\b\b\b\b\b\b\b\b\b\b\b\b\b\b\b\b\b\b\b\b\b\b\b\b\b\b\b\b\b\b\b\b\b\b\b\b\b\b\b\b\b\b\b\b\b\b\b\b\b\b\b\b\b\b\b\b\b\b\b\b\b\b\b\b\b\b\b\b\b\b\b\b\b\b\b\b\b\b\b\b\b\b\b\b\b\b\b\b\b\b\b\b\b\b\b\b\b\b\b\b\b\b\b\b\b\b\b\b\b\b\b\b\b\b\b\b\b\b\b\b\b\b\b\b\b\b\b\b\b\b\b\b\b\b\b\r82/82 [==============================] - 0s 6ms/step - loss: 0.3624 - tp: 2562.0000 - fp: 62.0000 - tn: 5186.0000 - fn: 62.0000 - accuracy: 0.9842 - precision: 0.9764 - recall: 0.9764 - auc: 0.9817 - prc: 0.9647\n"
          ]
        },
        {
          "output_type": "execute_result",
          "data": {
            "text/plain": [
              "<keras.callbacks.History at 0x7fe2538f9190>"
            ]
          },
          "metadata": {},
          "execution_count": 75
        }
      ]
    },
    {
      "cell_type": "code",
      "source": [
        "#annalyzing the performance on test data\n",
        "model.evaluate(padded_test, to_categorical(data_test_node2.toxicity_bins), verbose=0)"
      ],
      "metadata": {
        "colab": {
          "base_uri": "https://localhost:8080/"
        },
        "id": "EWtuRwnXckOl",
        "outputId": "fafeb345-8c04-4c13-8f1a-5e4ed7443914"
      },
      "execution_count": null,
      "outputs": [
        {
          "output_type": "execute_result",
          "data": {
            "text/plain": [
              "[5.959087371826172,\n",
              " 141.0,\n",
              " 166.0,\n",
              " 448.0,\n",
              " 166.0,\n",
              " 0.6395222544670105,\n",
              " 0.45928338170051575,\n",
              " 0.45928338170051575,\n",
              " 0.6243037581443787,\n",
              " 0.4417893588542938]"
            ]
          },
          "metadata": {},
          "execution_count": 76
        }
      ]
    },
    {
      "cell_type": "code",
      "source": [
        "#annalyzing the performance on test data\n",
        "y_pred_node2 = model.predict(padded_test, verbose=1)\n",
        "y_pred_class_node2 = np.argmax(y_pred_node2, axis=1)"
      ],
      "metadata": {
        "colab": {
          "base_uri": "https://localhost:8080/"
        },
        "id": "02r_s0WBckLM",
        "outputId": "002710df-a584-443d-8b15-c4c589f4f42c"
      },
      "execution_count": null,
      "outputs": [
        {
          "output_type": "stream",
          "name": "stdout",
          "text": [
            "10/10 [==============================] - 0s 3ms/step\n"
          ]
        }
      ]
    },
    {
      "cell_type": "code",
      "source": [
        "#annalyzing the confusion matrix based on test data predictions\n",
        "conf_matrix = confusion_matrix(np.argmax(to_categorical(data_test_node2.toxicity_bins), axis=1), y_pred_class_node2)\n",
        "fig, ax = plt.subplots(figsize=(10,10))\n",
        "sns.heatmap(conf_matrix, annot=True, fmt='d', xticklabels = np.unique(data_test_node2.toxicity_bins), yticklabels = np.unique(y_pred_class_node2))\n",
        "plt.ylabel('Actual')\n",
        "plt.xlabel('Predicted')\n",
        "plt.show()"
      ],
      "metadata": {
        "colab": {
          "base_uri": "https://localhost:8080/",
          "height": 606
        },
        "id": "x4jeOJUXckIF",
        "outputId": "014f6b81-5248-4ab8-e967-ef2107b432bc"
      },
      "execution_count": null,
      "outputs": [
        {
          "output_type": "display_data",
          "data": {
            "text/plain": [
              "<Figure size 720x720 with 2 Axes>"
            ],
            "image/png": "[encoded data removed]"
          },
          "metadata": {
            "needs_background": "light"
          }
        }
      ]
    },
    {
      "cell_type": "markdown",
      "source": [
        "Option 2: TFIDF"
      ],
      "metadata": {
        "id": "2YJ4ZKlYnA9k"
      }
    },
    {
      "cell_type": "code",
      "source": [
        "#creating a tfidf vecotrizer\n",
        "tfidf2 = TfidfVectorizer(ngram_range = (1,3), max_features=10000)\n",
        "\n",
        "X_train_node2 = tfidf2.fit_transform(data_train_node2.lemmatized_comment)\n",
        "X_test_node2 = tfidf2.transform(data_test_node2.lemmatized_comment)\n",
        "\n",
        "feature_names = tfidf2.get_feature_names()"
      ],
      "metadata": {
        "colab": {
          "base_uri": "https://localhost:8080/"
        },
        "id": "QQyZUWFdI9-u",
        "outputId": "060d1370-7907-4002-b7bd-13f6f4e87878"
      },
      "execution_count": null,
      "outputs": [
        {
          "output_type": "stream",
          "name": "stderr",
          "text": [
            "/usr/local/lib/python3.8/dist-packages/sklearn/utils/deprecation.py:87: FutureWarning: Function get_feature_names is deprecated; get_feature_names is deprecated in 1.0 and will be removed in 1.2. Please use get_feature_names_out instead.\n",
            "  warnings.warn(msg, category=FutureWarning)\n"
          ]
        }
      ]
    },
    {
      "cell_type": "code",
      "source": [
        "y_train_node2 = data_train_node2.toxicity_bins\n",
        "y_test_node2 = data_test_node2.toxicity_bins"
      ],
      "metadata": {
        "id": "LLHkJDzgJcr-"
      },
      "execution_count": null,
      "outputs": []
    },
    {
      "cell_type": "code",
      "source": [
        "#creating multiple models to compare performance on training data\n",
        "models = [RandomForestClassifier(n_estimators=200, max_depth=3, random_state=0), LinearSVC(), MultinomialNB(), LogisticRegression(random_state=0)]\n",
        "CV = 5\n",
        "cv_df = pd.DataFrame(index=range(CV * len(models)))\n",
        "entries = []\n",
        "\n",
        "for model in models:\n",
        "    model_name = model.__class__.__name__\n",
        "    accuracies = cross_val_score(model, X_train_node2, y_train_node2, scoring='balanced_accuracy', cv=CV)\n",
        "    for fold_idx, accuracy in enumerate(accuracies):\n",
        "        entries.append((model_name, fold_idx, accuracy))\n",
        "    cv_df = pd.DataFrame(entries, columns=['model_name', 'fold_idx', 'accuracy'])\n",
        "\n",
        "\n",
        "sns.boxplot(x='model_name', y='accuracy', data=cv_df)\n",
        "sns.stripplot(x='model_name', y='accuracy', data=cv_df, \n",
        "              size=8, jitter=True, edgecolor=\"gray\", linewidth=2)\n",
        "plt.show()\n"
      ],
      "metadata": {
        "colab": {
          "base_uri": "https://localhost:8080/",
          "height": 280
        },
        "id": "nKULOvarJk4B",
        "outputId": "29b0f1b4-1e67-43ea-e31b-25649b8f26ee"
      },
      "execution_count": null,
      "outputs": [
        {
          "output_type": "display_data",
          "data": {
            "text/plain": [
              "<Figure size 432x288 with 1 Axes>"
            ],
            "image/png": "[encoded data removed]"
          },
          "metadata": {
            "needs_background": "light"
          }
        }
      ]
    },
    {
      "cell_type": "code",
      "source": [
        "#once again, SVC is the winner\n",
        "cv_df.groupby('model_name').accuracy.mean()"
      ],
      "metadata": {
        "colab": {
          "base_uri": "https://localhost:8080/"
        },
        "id": "bPBwjBhsJq-E",
        "outputId": "a7cc300e-3d16-4022-c440-febea4457a71"
      },
      "execution_count": null,
      "outputs": [
        {
          "output_type": "execute_result",
          "data": {
            "text/plain": [
              "model_name\n",
              "LinearSVC                 0.434215\n",
              "LogisticRegression        0.401889\n",
              "MultinomialNB             0.359914\n",
              "RandomForestClassifier    0.333333\n",
              "Name: accuracy, dtype: float64"
            ]
          },
          "metadata": {},
          "execution_count": 144
        }
      ]
    },
    {
      "cell_type": "code",
      "source": [
        "#fitting the SVC model on the test dataset\n",
        "svm = LinearSVC()\n",
        "model = CalibratedClassifierCV(svm) \n",
        "\n",
        "model.fit(X_train_node2, y_train_node2)\n",
        "y_pred = model.predict(X_train_node2)\n",
        "y_pred_prob = model.predict_proba(X_train_node2)\n",
        "\n",
        "conf_matrix = confusion_matrix(y_train_node2, y_pred)\n",
        "fig, ax = plt.subplots(figsize=(10,10))\n",
        "sns.heatmap(conf_matrix, annot=True, fmt='d', xticklabels = np.unique(y_train_node2), yticklabels = np.unique(y_pred))\n",
        "plt.ylabel('Actual')\n",
        "plt.xlabel('Predicted')\n",
        "plt.show()"
      ],
      "metadata": {
        "colab": {
          "base_uri": "https://localhost:8080/",
          "height": 606
        },
        "id": "JHycgb5hJuzk",
        "outputId": "cf9d5042-669a-4e1a-e270-fb117ec8c784"
      },
      "execution_count": null,
      "outputs": [
        {
          "output_type": "display_data",
          "data": {
            "text/plain": [
              "<Figure size 720x720 with 2 Axes>"
            ],
            "image/png": "[encoded data removed]"
          },
          "metadata": {
            "needs_background": "light"
          }
        }
      ]
    },
    {
      "cell_type": "code",
      "source": [
        "#final solution on toxicity level classification\n",
        "y_pred = model.predict(X_test_node2)\n",
        "y_pred_prob = model.predict_proba(X_test_node2)\n",
        "\n",
        "conf_matrix = confusion_matrix(y_test_node2, y_pred)\n",
        "fig, ax = plt.subplots(figsize=(10,10))\n",
        "sns.heatmap(conf_matrix, annot=True, fmt='d', xticklabels = np.unique(y_test_node2), yticklabels = np.unique(y_pred))\n",
        "plt.ylabel('Actual')\n",
        "plt.xlabel('Predicted')\n",
        "plt.show()"
      ],
      "metadata": {
        "colab": {
          "base_uri": "https://localhost:8080/",
          "height": 606
        },
        "id": "YBmsKhOyJ8NZ",
        "outputId": "84bf550a-4481-4973-b976-eb2793e4444e"
      },
      "execution_count": null,
      "outputs": [
        {
          "output_type": "display_data",
          "data": {
            "text/plain": [
              "<Figure size 720x720 with 2 Axes>"
            ],
            "image/png": "[encoded data removed]"
          },
          "metadata": {
            "needs_background": "light"
          }
        }
      ]
    },
    {
      "cell_type": "code",
      "source": [],
      "metadata": {
        "id": "ypeeVmanaemS"
      },
      "execution_count": null,
      "outputs": []
    }
  ],
  "metadata": {
    "colab": {
      "provenance": []
    },
    "kernelspec": {
      "display_name": "Python 3",
      "name": "python3"
    },
    "language_info": {
      "name": "python"
    }
  },
  "nbformat": 4,
  "nbformat_minor": 0
}
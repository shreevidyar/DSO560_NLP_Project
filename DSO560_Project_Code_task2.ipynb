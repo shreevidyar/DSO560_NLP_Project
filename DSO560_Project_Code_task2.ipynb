{
  "nbformat": 4,
  "nbformat_minor": 0,
  "metadata": {
    "colab": {
      "provenance": []
    },
    "kernelspec": {
      "name": "python3",
      "display_name": "Python 3"
    },
    "language_info": {
      "name": "python"
    }
  },
  "cells": [
    {
      "cell_type": "markdown",
      "source": [
        "GOAL:\n",
        "\n",
        "1. TOPIC MODELLING\n",
        "\n",
        "Process:\n",
        "1. Reading in the data [Sampled data in this case]\n",
        "2. Processing + Regex cleaning\n",
        "3. Using TFIDF vector to vecotrize\n",
        "5. selecting # of topics using NMF\n",
        "6. Assigning docs to topics\n",
        "7. Adding topic labels"
      ],
      "metadata": {
        "id": "intV7lYOnP57"
      }
    },
    {
      "cell_type": "code",
      "execution_count": 1,
      "metadata": {
        "colab": {
          "base_uri": "https://localhost:8080/"
        },
        "id": "VWv6FqzXEgBz",
        "outputId": "375e534c-7a62-42c1-a673-2ef516e4c57d"
      },
      "outputs": [
        {
          "output_type": "stream",
          "name": "stdout",
          "text": [
            "Drive already mounted at /content/drive; to attempt to forcibly remount, call drive.mount(\"/content/drive\", force_remount=True).\n"
          ]
        }
      ],
      "source": [
        "from google.colab import drive\n",
        "drive.mount('/content/drive')"
      ]
    },
    {
      "cell_type": "code",
      "source": [
        "import pandas as pd\n",
        "import numpy as np\n",
        "import math\n",
        "import io\n",
        "from tqdm import tqdm\n",
        "tqdm.pandas()"
      ],
      "metadata": {
        "id": "RCeQUy2hFH4-"
      },
      "execution_count": 2,
      "outputs": []
    },
    {
      "cell_type": "code",
      "source": [
        "data_train = pd.read_pickle('/content/drive/My Drive/NLP Project/pickled_dataframes/data_train.pickle')\n",
        "data_test = pd.read_pickle('/content/drive/My Drive/NLP Project/pickled_dataframes/data_test.pickle')"
      ],
      "metadata": {
        "id": "KIxPamSqFIBz"
      },
      "execution_count": 3,
      "outputs": []
    },
    {
      "cell_type": "code",
      "source": [
        "data_train.tail()"
      ],
      "metadata": {
        "colab": {
          "base_uri": "https://localhost:8080/",
          "height": 206
        },
        "id": "x-EeDsVPFIHA",
        "outputId": "062a8c9b-8320-4b29-8994-13b953ade391"
      },
      "execution_count": 4,
      "outputs": [
        {
          "output_type": "execute_result",
          "data": {
            "text/plain": [
              "            id                                       comment_text  toxicity  \\\n",
              "18044  5319739  Where did you get the idea that anyone would b...  0.000000   \n",
              "18045   852189             The MSM said that about Trump as well.  0.000000   \n",
              "18046   936562  Hi, gtm.  Wise words.  Nope...no rust.  Not si...  0.166667   \n",
              "18047  5239147  Perfect illustration of what's wrong with poli...  0.000000   \n",
              "18048   262545  You mean...no, it can't be...that the organic ...  0.000000   \n",
              "\n",
              "       toxicity_label  toxicity_bins  \\\n",
              "18044               0             -1   \n",
              "18045               0             -1   \n",
              "18046               0             -1   \n",
              "18047               0             -1   \n",
              "18048               0             -1   \n",
              "\n",
              "                                       processed_comment  \\\n",
              "18044  Where did you get the idea that anyone would b...   \n",
              "18045             The MSM said that about Trump as well    \n",
              "18046  Hi  gtm   Wise words   Nope   no rust   Not si...   \n",
              "18047  Perfect illustration of what s wrong with poli...   \n",
              "18048  You mean   no  it can not be   that the organi...   \n",
              "\n",
              "                                      lemmatized_comment  \n",
              "18044   idea force carry training   s entirely voluntary  \n",
              "18045                                  MSM say _PERSON_   \n",
              "18046  hi   gtm    wise word    Nope    rust    sit i...  \n",
              "18047  perfect illustration s wrong politic politicia...  \n",
              "18048  mean         organic ice cream small batch   s...  "
            ],
            "text/html": [
              "\n",
              "  <div id=\"df-7d82c210-49a2-4017-ba66-5bfb96a36901\">\n",
              "    <div class=\"colab-df-container\">\n",
              "      <div>\n",
              "<style scoped>\n",
              "    .dataframe tbody tr th:only-of-type {\n",
              "        vertical-align: middle;\n",
              "    }\n",
              "\n",
              "    .dataframe tbody tr th {\n",
              "        vertical-align: top;\n",
              "    }\n",
              "\n",
              "    .dataframe thead th {\n",
              "        text-align: right;\n",
              "    }\n",
              "</style>\n",
              "<table border=\"1\" class=\"dataframe\">\n",
              "  <thead>\n",
              "    <tr style=\"text-align: right;\">\n",
              "      <th></th>\n",
              "      <th>id</th>\n",
              "      <th>comment_text</th>\n",
              "      <th>toxicity</th>\n",
              "      <th>toxicity_label</th>\n",
              "      <th>toxicity_bins</th>\n",
              "      <th>processed_comment</th>\n",
              "      <th>lemmatized_comment</th>\n",
              "    </tr>\n",
              "  </thead>\n",
              "  <tbody>\n",
              "    <tr>\n",
              "      <th>18044</th>\n",
              "      <td>5319739</td>\n",
              "      <td>Where did you get the idea that anyone would b...</td>\n",
              "      <td>0.000000</td>\n",
              "      <td>0</td>\n",
              "      <td>-1</td>\n",
              "      <td>Where did you get the idea that anyone would b...</td>\n",
              "      <td>idea force carry training   s entirely voluntary</td>\n",
              "    </tr>\n",
              "    <tr>\n",
              "      <th>18045</th>\n",
              "      <td>852189</td>\n",
              "      <td>The MSM said that about Trump as well.</td>\n",
              "      <td>0.000000</td>\n",
              "      <td>0</td>\n",
              "      <td>-1</td>\n",
              "      <td>The MSM said that about Trump as well</td>\n",
              "      <td>MSM say _PERSON_</td>\n",
              "    </tr>\n",
              "    <tr>\n",
              "      <th>18046</th>\n",
              "      <td>936562</td>\n",
              "      <td>Hi, gtm.  Wise words.  Nope...no rust.  Not si...</td>\n",
              "      <td>0.166667</td>\n",
              "      <td>0</td>\n",
              "      <td>-1</td>\n",
              "      <td>Hi  gtm   Wise words   Nope   no rust   Not si...</td>\n",
              "      <td>hi   gtm    wise word    Nope    rust    sit i...</td>\n",
              "    </tr>\n",
              "    <tr>\n",
              "      <th>18047</th>\n",
              "      <td>5239147</td>\n",
              "      <td>Perfect illustration of what's wrong with poli...</td>\n",
              "      <td>0.000000</td>\n",
              "      <td>0</td>\n",
              "      <td>-1</td>\n",
              "      <td>Perfect illustration of what s wrong with poli...</td>\n",
              "      <td>perfect illustration s wrong politic politicia...</td>\n",
              "    </tr>\n",
              "    <tr>\n",
              "      <th>18048</th>\n",
              "      <td>262545</td>\n",
              "      <td>You mean...no, it can't be...that the organic ...</td>\n",
              "      <td>0.000000</td>\n",
              "      <td>0</td>\n",
              "      <td>-1</td>\n",
              "      <td>You mean   no  it can not be   that the organi...</td>\n",
              "      <td>mean         organic ice cream small batch   s...</td>\n",
              "    </tr>\n",
              "  </tbody>\n",
              "</table>\n",
              "</div>\n",
              "      <button class=\"colab-df-convert\" onclick=\"convertToInteractive('df-7d82c210-49a2-4017-ba66-5bfb96a36901')\"\n",
              "              title=\"Convert this dataframe to an interactive table.\"\n",
              "              style=\"display:none;\">\n",
              "        \n",
              "  <svg xmlns=\"http://www.w3.org/2000/svg\" height=\"24px\"viewBox=\"0 0 24 24\"\n",
              "       width=\"24px\">\n",
              "    <path d=\"M0 0h24v24H0V0z\" fill=\"none\"/>\n",
              "    <path d=\"M18.56 5.44l.94 2.06.94-2.06 2.06-.94-2.06-.94-.94-2.06-.94 2.06-2.06.94zm-11 1L8.5 8.5l.94-2.06 2.06-.94-2.06-.94L8.5 2.5l-.94 2.06-2.06.94zm10 10l.94 2.06.94-2.06 2.06-.94-2.06-.94-.94-2.06-.94 2.06-2.06.94z\"/><path d=\"M17.41 7.96l-1.37-1.37c-.4-.4-.92-.59-1.43-.59-.52 0-1.04.2-1.43.59L10.3 9.45l-7.72 7.72c-.78.78-.78 2.05 0 2.83L4 21.41c.39.39.9.59 1.41.59.51 0 1.02-.2 1.41-.59l7.78-7.78 2.81-2.81c.8-.78.8-2.07 0-2.86zM5.41 20L4 18.59l7.72-7.72 1.47 1.35L5.41 20z\"/>\n",
              "  </svg>\n",
              "      </button>\n",
              "      \n",
              "  <style>\n",
              "    .colab-df-container {\n",
              "      display:flex;\n",
              "      flex-wrap:wrap;\n",
              "      gap: 12px;\n",
              "    }\n",
              "\n",
              "    .colab-df-convert {\n",
              "      background-color: #E8F0FE;\n",
              "      border: none;\n",
              "      border-radius: 50%;\n",
              "      cursor: pointer;\n",
              "      display: none;\n",
              "      fill: #1967D2;\n",
              "      height: 32px;\n",
              "      padding: 0 0 0 0;\n",
              "      width: 32px;\n",
              "    }\n",
              "\n",
              "    .colab-df-convert:hover {\n",
              "      background-color: #E2EBFA;\n",
              "      box-shadow: 0px 1px 2px rgba(60, 64, 67, 0.3), 0px 1px 3px 1px rgba(60, 64, 67, 0.15);\n",
              "      fill: #174EA6;\n",
              "    }\n",
              "\n",
              "    [theme=dark] .colab-df-convert {\n",
              "      background-color: #3B4455;\n",
              "      fill: #D2E3FC;\n",
              "    }\n",
              "\n",
              "    [theme=dark] .colab-df-convert:hover {\n",
              "      background-color: #434B5C;\n",
              "      box-shadow: 0px 1px 3px 1px rgba(0, 0, 0, 0.15);\n",
              "      filter: drop-shadow(0px 1px 2px rgba(0, 0, 0, 0.3));\n",
              "      fill: #FFFFFF;\n",
              "    }\n",
              "  </style>\n",
              "\n",
              "      <script>\n",
              "        const buttonEl =\n",
              "          document.querySelector('#df-7d82c210-49a2-4017-ba66-5bfb96a36901 button.colab-df-convert');\n",
              "        buttonEl.style.display =\n",
              "          google.colab.kernel.accessAllowed ? 'block' : 'none';\n",
              "\n",
              "        async function convertToInteractive(key) {\n",
              "          const element = document.querySelector('#df-7d82c210-49a2-4017-ba66-5bfb96a36901');\n",
              "          const dataTable =\n",
              "            await google.colab.kernel.invokeFunction('convertToInteractive',\n",
              "                                                     [key], {});\n",
              "          if (!dataTable) return;\n",
              "\n",
              "          const docLinkHtml = 'Like what you see? Visit the ' +\n",
              "            '<a target=\"_blank\" href=https://colab.research.google.com/notebooks/data_table.ipynb>data table notebook</a>'\n",
              "            + ' to learn more about interactive tables.';\n",
              "          element.innerHTML = '';\n",
              "          dataTable['output_type'] = 'display_data';\n",
              "          await google.colab.output.renderOutput(dataTable, element);\n",
              "          const docLink = document.createElement('div');\n",
              "          docLink.innerHTML = docLinkHtml;\n",
              "          element.appendChild(docLink);\n",
              "        }\n",
              "      </script>\n",
              "    </div>\n",
              "  </div>\n",
              "  "
            ]
          },
          "metadata": {},
          "execution_count": 4
        }
      ]
    },
    {
      "cell_type": "code",
      "source": [
        "data_test.tail()"
      ],
      "metadata": {
        "colab": {
          "base_uri": "https://localhost:8080/",
          "height": 206
        },
        "id": "G4cj6z_UFt6z",
        "outputId": "e16577b1-cf53-4bfc-d298-0b17702df04a"
      },
      "execution_count": 5,
      "outputs": [
        {
          "output_type": "execute_result",
          "data": {
            "text/plain": [
              "           id                                       comment_text  toxicity  \\\n",
              "1941  7048780  Government is clueless folks and downright dum...  0.500000   \n",
              "1942  7187867  Differentiating between Canada and the US on w...  0.000000   \n",
              "1943  7056283  \"Substance?\" Name a single instance.  just one...  0.000000   \n",
              "1944  7085860                                         Fire them.  0.166667   \n",
              "1945  7010117  Lynn, thanks for your devotion to hope and hel...  0.000000   \n",
              "\n",
              "      toxicity_label  toxicity_bins  \\\n",
              "1941               1              1   \n",
              "1942               0             -1   \n",
              "1943               0             -1   \n",
              "1944               0             -1   \n",
              "1945               0             -1   \n",
              "\n",
              "                                      processed_comment  \\\n",
              "1941  Government is clueless folks and downright dum...   \n",
              "1942  Differentiating between Canada and the US on w...   \n",
              "1943   Substance   Name a single instance   just one...   \n",
              "1944                                         Fire them    \n",
              "1945  Lynn  thanks for your devotion to hope and hel...   \n",
              "\n",
              "                                     lemmatized_comment  \n",
              "1941  government clueless folk downright dumb   Exam...  \n",
              "1942  differentiate _GPE_  health care right citizen...  \n",
              "1943          substance    single instance         wait  \n",
              "1944                                               fire  \n",
              "1945  _PERSON_    thank devotion hope help   notice ...  "
            ],
            "text/html": [
              "\n",
              "  <div id=\"df-6dd05dcf-b0ca-47ae-a815-38d2c986cd4b\">\n",
              "    <div class=\"colab-df-container\">\n",
              "      <div>\n",
              "<style scoped>\n",
              "    .dataframe tbody tr th:only-of-type {\n",
              "        vertical-align: middle;\n",
              "    }\n",
              "\n",
              "    .dataframe tbody tr th {\n",
              "        vertical-align: top;\n",
              "    }\n",
              "\n",
              "    .dataframe thead th {\n",
              "        text-align: right;\n",
              "    }\n",
              "</style>\n",
              "<table border=\"1\" class=\"dataframe\">\n",
              "  <thead>\n",
              "    <tr style=\"text-align: right;\">\n",
              "      <th></th>\n",
              "      <th>id</th>\n",
              "      <th>comment_text</th>\n",
              "      <th>toxicity</th>\n",
              "      <th>toxicity_label</th>\n",
              "      <th>toxicity_bins</th>\n",
              "      <th>processed_comment</th>\n",
              "      <th>lemmatized_comment</th>\n",
              "    </tr>\n",
              "  </thead>\n",
              "  <tbody>\n",
              "    <tr>\n",
              "      <th>1941</th>\n",
              "      <td>7048780</td>\n",
              "      <td>Government is clueless folks and downright dum...</td>\n",
              "      <td>0.500000</td>\n",
              "      <td>1</td>\n",
              "      <td>1</td>\n",
              "      <td>Government is clueless folks and downright dum...</td>\n",
              "      <td>government clueless folk downright dumb   Exam...</td>\n",
              "    </tr>\n",
              "    <tr>\n",
              "      <th>1942</th>\n",
              "      <td>7187867</td>\n",
              "      <td>Differentiating between Canada and the US on w...</td>\n",
              "      <td>0.000000</td>\n",
              "      <td>0</td>\n",
              "      <td>-1</td>\n",
              "      <td>Differentiating between Canada and the US on w...</td>\n",
              "      <td>differentiate _GPE_  health care right citizen...</td>\n",
              "    </tr>\n",
              "    <tr>\n",
              "      <th>1943</th>\n",
              "      <td>7056283</td>\n",
              "      <td>\"Substance?\" Name a single instance.  just one...</td>\n",
              "      <td>0.000000</td>\n",
              "      <td>0</td>\n",
              "      <td>-1</td>\n",
              "      <td>Substance   Name a single instance   just one...</td>\n",
              "      <td>substance    single instance         wait</td>\n",
              "    </tr>\n",
              "    <tr>\n",
              "      <th>1944</th>\n",
              "      <td>7085860</td>\n",
              "      <td>Fire them.</td>\n",
              "      <td>0.166667</td>\n",
              "      <td>0</td>\n",
              "      <td>-1</td>\n",
              "      <td>Fire them</td>\n",
              "      <td>fire</td>\n",
              "    </tr>\n",
              "    <tr>\n",
              "      <th>1945</th>\n",
              "      <td>7010117</td>\n",
              "      <td>Lynn, thanks for your devotion to hope and hel...</td>\n",
              "      <td>0.000000</td>\n",
              "      <td>0</td>\n",
              "      <td>-1</td>\n",
              "      <td>Lynn  thanks for your devotion to hope and hel...</td>\n",
              "      <td>_PERSON_    thank devotion hope help   notice ...</td>\n",
              "    </tr>\n",
              "  </tbody>\n",
              "</table>\n",
              "</div>\n",
              "      <button class=\"colab-df-convert\" onclick=\"convertToInteractive('df-6dd05dcf-b0ca-47ae-a815-38d2c986cd4b')\"\n",
              "              title=\"Convert this dataframe to an interactive table.\"\n",
              "              style=\"display:none;\">\n",
              "        \n",
              "  <svg xmlns=\"http://www.w3.org/2000/svg\" height=\"24px\"viewBox=\"0 0 24 24\"\n",
              "       width=\"24px\">\n",
              "    <path d=\"M0 0h24v24H0V0z\" fill=\"none\"/>\n",
              "    <path d=\"M18.56 5.44l.94 2.06.94-2.06 2.06-.94-2.06-.94-.94-2.06-.94 2.06-2.06.94zm-11 1L8.5 8.5l.94-2.06 2.06-.94-2.06-.94L8.5 2.5l-.94 2.06-2.06.94zm10 10l.94 2.06.94-2.06 2.06-.94-2.06-.94-.94-2.06-.94 2.06-2.06.94z\"/><path d=\"M17.41 7.96l-1.37-1.37c-.4-.4-.92-.59-1.43-.59-.52 0-1.04.2-1.43.59L10.3 9.45l-7.72 7.72c-.78.78-.78 2.05 0 2.83L4 21.41c.39.39.9.59 1.41.59.51 0 1.02-.2 1.41-.59l7.78-7.78 2.81-2.81c.8-.78.8-2.07 0-2.86zM5.41 20L4 18.59l7.72-7.72 1.47 1.35L5.41 20z\"/>\n",
              "  </svg>\n",
              "      </button>\n",
              "      \n",
              "  <style>\n",
              "    .colab-df-container {\n",
              "      display:flex;\n",
              "      flex-wrap:wrap;\n",
              "      gap: 12px;\n",
              "    }\n",
              "\n",
              "    .colab-df-convert {\n",
              "      background-color: #E8F0FE;\n",
              "      border: none;\n",
              "      border-radius: 50%;\n",
              "      cursor: pointer;\n",
              "      display: none;\n",
              "      fill: #1967D2;\n",
              "      height: 32px;\n",
              "      padding: 0 0 0 0;\n",
              "      width: 32px;\n",
              "    }\n",
              "\n",
              "    .colab-df-convert:hover {\n",
              "      background-color: #E2EBFA;\n",
              "      box-shadow: 0px 1px 2px rgba(60, 64, 67, 0.3), 0px 1px 3px 1px rgba(60, 64, 67, 0.15);\n",
              "      fill: #174EA6;\n",
              "    }\n",
              "\n",
              "    [theme=dark] .colab-df-convert {\n",
              "      background-color: #3B4455;\n",
              "      fill: #D2E3FC;\n",
              "    }\n",
              "\n",
              "    [theme=dark] .colab-df-convert:hover {\n",
              "      background-color: #434B5C;\n",
              "      box-shadow: 0px 1px 3px 1px rgba(0, 0, 0, 0.15);\n",
              "      filter: drop-shadow(0px 1px 2px rgba(0, 0, 0, 0.3));\n",
              "      fill: #FFFFFF;\n",
              "    }\n",
              "  </style>\n",
              "\n",
              "      <script>\n",
              "        const buttonEl =\n",
              "          document.querySelector('#df-6dd05dcf-b0ca-47ae-a815-38d2c986cd4b button.colab-df-convert');\n",
              "        buttonEl.style.display =\n",
              "          google.colab.kernel.accessAllowed ? 'block' : 'none';\n",
              "\n",
              "        async function convertToInteractive(key) {\n",
              "          const element = document.querySelector('#df-6dd05dcf-b0ca-47ae-a815-38d2c986cd4b');\n",
              "          const dataTable =\n",
              "            await google.colab.kernel.invokeFunction('convertToInteractive',\n",
              "                                                     [key], {});\n",
              "          if (!dataTable) return;\n",
              "\n",
              "          const docLinkHtml = 'Like what you see? Visit the ' +\n",
              "            '<a target=\"_blank\" href=https://colab.research.google.com/notebooks/data_table.ipynb>data table notebook</a>'\n",
              "            + ' to learn more about interactive tables.';\n",
              "          element.innerHTML = '';\n",
              "          dataTable['output_type'] = 'display_data';\n",
              "          await google.colab.output.renderOutput(dataTable, element);\n",
              "          const docLink = document.createElement('div');\n",
              "          docLink.innerHTML = docLinkHtml;\n",
              "          element.appendChild(docLink);\n",
              "        }\n",
              "      </script>\n",
              "    </div>\n",
              "  </div>\n",
              "  "
            ]
          },
          "metadata": {},
          "execution_count": 5
        }
      ]
    },
    {
      "cell_type": "code",
      "source": [
        "# Combining train and test lemmatized_comments for toxic comments\n",
        "combined_data= pd.concat([data_train[data_train.toxicity_label == 1],data_test[data_test.toxicity_label == 1]])\n",
        "combined_data.reset_index(inplace= True, drop = True)\n"
      ],
      "metadata": {
        "id": "AVWPcIZeFt83"
      },
      "execution_count": 6,
      "outputs": []
    },
    {
      "cell_type": "markdown",
      "source": [
        "Regex cleaning"
      ],
      "metadata": {
        "id": "thNUOtWsJhyB"
      }
    },
    {
      "cell_type": "code",
      "source": [
        "# Regex cleaning to remove generic terms which may introduce bias\n",
        "import re\n",
        "def clean(phrase):\n",
        "    phrase = phrase.lower()\n",
        "    phrase = re.sub(r\"\\burl\\b\", \"_url_\", phrase)\n",
        "    phrase = re.sub(r\"\\bemail\\b\", \"_email_\", phrase)\n",
        "    phrase = re.sub(r\"\\bnumber\\b\", \"_number_\", phrase)\n",
        "    phrase = re.sub(r\"\\bpeople\\b\", \"_people_\", phrase)\n",
        "    return phrase"
      ],
      "metadata": {
        "id": "XAbyZWBMJlbD"
      },
      "execution_count": 7,
      "outputs": []
    },
    {
      "cell_type": "code",
      "source": [
        "combined_data.lemmatized_comment = combined_data.lemmatized_comment.apply(clean)  "
      ],
      "metadata": {
        "id": "UPKfesZvFogS"
      },
      "execution_count": 8,
      "outputs": []
    },
    {
      "cell_type": "markdown",
      "source": [
        "TOPIC MODELING"
      ],
      "metadata": {
        "id": "NyJ1zJzEHwDd"
      }
    },
    {
      "cell_type": "code",
      "source": [
        "# TFIDF Vecotrizer\n",
        "from sklearn.decomposition import NMF\n",
        "from sklearn.feature_extraction.text import TfidfVectorizer\n",
        "\n",
        "vectorizer = TfidfVectorizer(ngram_range=(2,4), min_df=2, stop_words=\"english\", token_pattern = r'\\b[A-Za-z]{5,}\\b')\n",
        "X_comments, tox_terms = vectorizer.fit_transform(combined_data.lemmatized_comment), vectorizer.get_feature_names_out()\n",
        "\n",
        "comments_tf_idf = pd.DataFrame(X_comments.toarray(), columns=tox_terms)\n",
        "print(f\"Comments TF-IDF: {comments_tf_idf.shape}\")"
      ],
      "metadata": {
        "colab": {
          "base_uri": "https://localhost:8080/"
        },
        "id": "vbu5P3xOHrTh",
        "outputId": "29141e72-e783-4806-a411-c326e05232a9"
      },
      "execution_count": 9,
      "outputs": [
        {
          "output_type": "stream",
          "name": "stdout",
          "text": [
            "Comments TF-IDF: (2931, 1272)\n"
          ]
        }
      ]
    },
    {
      "cell_type": "code",
      "source": [
        "# function  to get top tokens for each topic\n",
        "from typing import List\n",
        "import numpy as np\n",
        "\n",
        "def get_top_tf_idf_tokens_for_topic(H: np.array, feature_names: List[str], num_top_tokens: int = 5):\n",
        "  for topic, vector in enumerate(H):\n",
        "    print(f\"TOPIC {topic}\\n\")\n",
        "    total = vector.sum()\n",
        "    top_scores = vector.argsort()[::-1][:num_top_tokens]\n",
        "    \n",
        "    token_names = list(map(lambda idx: feature_names[idx], top_scores))\n",
        "    strengths = list(map(lambda idx: vector[idx] / total, top_scores))\n",
        "    \n",
        "    for strength, token_name in zip(strengths, token_names):\n",
        "      print(f\"\\b{token_name} ({round(strength * 100, 1)}%)\\n\")\n",
        "    print(f\"=\" * 50)\n"
      ],
      "metadata": {
        "id": "gaVtr202HrOU"
      },
      "execution_count": 10,
      "outputs": []
    },
    {
      "cell_type": "code",
      "source": [
        "# NMF model for 6 topics - we see unclear categorization and repeated topic\n",
        "nmf = NMF(n_components=6)\n",
        "W_comments = nmf.fit_transform(X_comments)\n",
        "H_comments = nmf.components_\n",
        "print(f\"Original shape of X comments is {X_comments.shape}\")\n",
        "print(f\"Decomposed W comments matrix is {W_comments.shape}\")\n",
        "print(f\"Decomposed H comments matrix is {H_comments.shape}\")\n",
        "\n",
        "get_top_tf_idf_tokens_for_topic(H_comments, comments_tf_idf.columns.tolist(), 5)"
      ],
      "metadata": {
        "colab": {
          "base_uri": "https://localhost:8080/"
        },
        "id": "JpjSbsZfXLTy",
        "outputId": "2440d239-14fd-4fec-9f7c-cf2e70b6bd2a"
      },
      "execution_count": 11,
      "outputs": [
        {
          "output_type": "stream",
          "name": "stderr",
          "text": [
            "/usr/local/lib/python3.8/dist-packages/sklearn/decomposition/_nmf.py:289: FutureWarning: The 'init' value, when 'init=None' and n_components is less than n_samples and n_features, will be changed from 'nndsvd' to 'nndsvda' in 1.1 (renaming of 0.26).\n",
            "  warnings.warn(\n"
          ]
        },
        {
          "output_type": "stream",
          "name": "stdout",
          "text": [
            "Original shape of X comments is (2931, 1272)\n",
            "Decomposed W comments matrix is (2931, 6)\n",
            "Decomposed H comments matrix is (6, 1272)\n",
            "TOPIC 0\n",
            "\n",
            "\bwhite supremacist (48.2%)\n",
            "\n",
            "\bracist white (3.4%)\n",
            "\n",
            "\bclaim thing (2.7%)\n",
            "\n",
            "\brefuse black (2.5%)\n",
            "\n",
            "\bsupremacist group (2.4%)\n",
            "\n",
            "==================================================\n",
            "TOPIC 1\n",
            "\n",
            "\bdrain swamp (76.5%)\n",
            "\n",
            "\bright snowflake (6.6%)\n",
            "\n",
            "\bdouble standard (5.3%)\n",
            "\n",
            "\bprivate sector (5.0%)\n",
            "\n",
            "\bprofessional wrestling (4.3%)\n",
            "\n",
            "==================================================\n",
            "TOPIC 2\n",
            "\n",
            "\bhuman right (43.9%)\n",
            "\n",
            "\bperson person (5.4%)\n",
            "\n",
            "\bcorruption greed (4.3%)\n",
            "\n",
            "\bright freedom (3.6%)\n",
            "\n",
            "\bteaching cultural (2.6%)\n",
            "\n",
            "==================================================\n",
            "TOPIC 3\n",
            "\n",
            "\bsexual assault (34.0%)\n",
            "\n",
            "\bcharge sexual (4.2%)\n",
            "\n",
            "\bassault woman (3.6%)\n",
            "\n",
            "\bposition power (3.2%)\n",
            "\n",
            "\badmit sexual (3.1%)\n",
            "\n",
            "==================================================\n",
            "TOPIC 4\n",
            "\n",
            "\bpolitically correct (39.4%)\n",
            "\n",
            "\bcivil right (8.8%)\n",
            "\n",
            "\bgovernment agency (4.6%)\n",
            "\n",
            "\blittle potato (4.3%)\n",
            "\n",
            "\bschool teacher (4.3%)\n",
            "\n",
            "==================================================\n",
            "TOPIC 5\n",
            "\n",
            "\bcommon sense (29.4%)\n",
            "\n",
            "\bpolice officer (3.5%)\n",
            "\n",
            "\bstupid stupid (3.3%)\n",
            "\n",
            "\billegal country (3.2%)\n",
            "\n",
            "\bstupid think (2.4%)\n",
            "\n",
            "==================================================\n"
          ]
        }
      ]
    },
    {
      "cell_type": "code",
      "source": [
        "# NMF model for 5 topics - we see repeated topic\n",
        "nmf = NMF(n_components=5)\n",
        "W_comments = nmf.fit_transform(X_comments)\n",
        "H_comments = nmf.components_\n",
        "print(f\"Original shape of X comments is {X_comments.shape}\")\n",
        "print(f\"Decomposed W comments matrix is {W_comments.shape}\")\n",
        "print(f\"Decomposed H comments matrix is {H_comments.shape}\")\n",
        "\n",
        "get_top_tf_idf_tokens_for_topic(H_comments, comments_tf_idf.columns.tolist(), 5)"
      ],
      "metadata": {
        "colab": {
          "base_uri": "https://localhost:8080/"
        },
        "id": "XbzX9YeBHrQ6",
        "outputId": "274e943f-dea6-422c-ab63-dff2ae95e5b7"
      },
      "execution_count": 12,
      "outputs": [
        {
          "output_type": "stream",
          "name": "stderr",
          "text": [
            "/usr/local/lib/python3.8/dist-packages/sklearn/decomposition/_nmf.py:289: FutureWarning: The 'init' value, when 'init=None' and n_components is less than n_samples and n_features, will be changed from 'nndsvd' to 'nndsvda' in 1.1 (renaming of 0.26).\n",
            "  warnings.warn(\n"
          ]
        },
        {
          "output_type": "stream",
          "name": "stdout",
          "text": [
            "Original shape of X comments is (2931, 1272)\n",
            "Decomposed W comments matrix is (2931, 5)\n",
            "Decomposed H comments matrix is (5, 1272)\n",
            "TOPIC 0\n",
            "\n",
            "\bwhite supremacist (48.2%)\n",
            "\n",
            "\bracist white (3.4%)\n",
            "\n",
            "\bclaim thing (2.7%)\n",
            "\n",
            "\brefuse black (2.5%)\n",
            "\n",
            "\bsupremacist group (2.4%)\n",
            "\n",
            "==================================================\n",
            "TOPIC 1\n",
            "\n",
            "\bdrain swamp (76.5%)\n",
            "\n",
            "\bright snowflake (6.6%)\n",
            "\n",
            "\bdouble standard (5.3%)\n",
            "\n",
            "\bprivate sector (5.0%)\n",
            "\n",
            "\bprofessional wrestling (4.3%)\n",
            "\n",
            "==================================================\n",
            "TOPIC 2\n",
            "\n",
            "\bhuman right (43.7%)\n",
            "\n",
            "\bperson person (5.3%)\n",
            "\n",
            "\bcorruption greed (4.3%)\n",
            "\n",
            "\bright freedom (3.6%)\n",
            "\n",
            "\bteaching cultural (2.6%)\n",
            "\n",
            "==================================================\n",
            "TOPIC 3\n",
            "\n",
            "\bsexual assault (32.4%)\n",
            "\n",
            "\bcharge sexual (4.1%)\n",
            "\n",
            "\bassault woman (3.5%)\n",
            "\n",
            "\bposition power (3.1%)\n",
            "\n",
            "\badmit sexual (2.9%)\n",
            "\n",
            "==================================================\n",
            "TOPIC 4\n",
            "\n",
            "\bpolitically correct (37.9%)\n",
            "\n",
            "\bcivil right (8.4%)\n",
            "\n",
            "\bgovernment agency (4.4%)\n",
            "\n",
            "\blittle potato (4.2%)\n",
            "\n",
            "\bschool teacher (4.1%)\n",
            "\n",
            "==================================================\n"
          ]
        }
      ]
    },
    {
      "cell_type": "code",
      "source": [
        "# NMF model for 4 topics - SELECTED\n",
        "nmf = NMF(n_components=4)\n",
        "W_comments = nmf.fit_transform(X_comments)\n",
        "H_comments = nmf.components_\n",
        "print(f\"Original shape of X comments is {X_comments.shape}\")\n",
        "print(f\"Decomposed W comments matrix is {W_comments.shape}\")\n",
        "print(f\"Decomposed H comments matrix is {H_comments.shape}\")\n",
        "\n",
        "get_top_tf_idf_tokens_for_topic(H_comments, comments_tf_idf.columns.tolist(), 5)"
      ],
      "metadata": {
        "colab": {
          "base_uri": "https://localhost:8080/"
        },
        "id": "QBiVkEnnHrI4",
        "outputId": "874b19b5-7f13-488c-d669-8b051af851f4"
      },
      "execution_count": 13,
      "outputs": [
        {
          "output_type": "stream",
          "name": "stderr",
          "text": [
            "/usr/local/lib/python3.8/dist-packages/sklearn/decomposition/_nmf.py:289: FutureWarning: The 'init' value, when 'init=None' and n_components is less than n_samples and n_features, will be changed from 'nndsvd' to 'nndsvda' in 1.1 (renaming of 0.26).\n",
            "  warnings.warn(\n"
          ]
        },
        {
          "output_type": "stream",
          "name": "stdout",
          "text": [
            "Original shape of X comments is (2931, 1272)\n",
            "Decomposed W comments matrix is (2931, 4)\n",
            "Decomposed H comments matrix is (4, 1272)\n",
            "TOPIC 0\n",
            "\n",
            "\bwhite supremacist (47.8%)\n",
            "\n",
            "\bracist white (3.4%)\n",
            "\n",
            "\bclaim thing (2.7%)\n",
            "\n",
            "\brefuse black (2.5%)\n",
            "\n",
            "\bwhite supremacist group (2.4%)\n",
            "\n",
            "==================================================\n",
            "TOPIC 1\n",
            "\n",
            "\bdrain swamp (74.7%)\n",
            "\n",
            "\bright snowflake (6.5%)\n",
            "\n",
            "\bdouble standard (5.2%)\n",
            "\n",
            "\bprivate sector (5.0%)\n",
            "\n",
            "\bprofessional wrestling (4.2%)\n",
            "\n",
            "==================================================\n",
            "TOPIC 2\n",
            "\n",
            "\bhuman right (43.7%)\n",
            "\n",
            "\bperson person (5.3%)\n",
            "\n",
            "\bcorruption greed (4.3%)\n",
            "\n",
            "\bright freedom (3.6%)\n",
            "\n",
            "\bteaching cultural (2.6%)\n",
            "\n",
            "==================================================\n",
            "TOPIC 3\n",
            "\n",
            "\bsexual assault (32.3%)\n",
            "\n",
            "\bcharge sexual (4.0%)\n",
            "\n",
            "\bassault woman (3.5%)\n",
            "\n",
            "\bposition power (3.1%)\n",
            "\n",
            "\badmit sexual (2.9%)\n",
            "\n",
            "==================================================\n"
          ]
        }
      ]
    },
    {
      "cell_type": "code",
      "source": [
        "# function to get top comments in each topic\n",
        "def get_top_documents_for_each_topic(W: np.array, documents: List[str], num_docs: int = 5):\n",
        "    sorted_docs = W.argsort(axis=0)[::-1]\n",
        "    top_docs = sorted_docs[:num_docs].T\n",
        "    per_document_totals = W.sum(axis=1)\n",
        "    for topic, top_documents_for_topic in enumerate(top_docs):\n",
        "        print(f\"Topic {topic}\")\n",
        "        for doc in top_documents_for_topic:\n",
        "            score = W[doc][topic]\n",
        "            percent_about_topic = round(score / per_document_totals[doc] * 100, 1)\n",
        "            print(f\"{percent_about_topic}%\", documents[doc])\n",
        "        print(\"=\" * 50)"
      ],
      "metadata": {
        "id": "RSwY3Oj-FuV2"
      },
      "execution_count": 15,
      "outputs": []
    },
    {
      "cell_type": "code",
      "source": [
        "get_top_documents_for_each_topic(W_comments, combined_data.comment_text.tolist(), 6)"
      ],
      "metadata": {
        "colab": {
          "base_uri": "https://localhost:8080/"
        },
        "id": "vPcZjDcrP8Ve",
        "outputId": "570813bc-4773-4b2d-9236-e7d9d34585fe"
      },
      "execution_count": 16,
      "outputs": [
        {
          "output_type": "stream",
          "name": "stdout",
          "text": [
            "Topic 0\n",
            "100.0% The fact is that the Trump regime is white supremacist Christian Republican extremists who hate everything our country stands for.\n",
            "100.0% Wow these Nazi White Supremacist guys don't mess around... carrying guns and don't hesitate to use them. Scary dudes...\n",
            "100.0% \"a land of freedom for all\" Dejain?\n",
            "\n",
            "Even for white supremacists?\n",
            "100.0% Yes, no more White supremacists should be allowed at UVa.  UVa should admit only BLM minority members.\n",
            "100.0% Meh. Replace white supremacists with Muslims and you'd be all for shutting them down. The Greatest Generation sacrificed too much to let Nazis rear their ugly heads again. Color me unsympathetic to their \"plight\".\n",
            "100.0% He did not give any kind of approval to white supremacists.   Now like I said, leftists give blatant approval to racists every day.\n",
            "==================================================\n",
            "Topic 1\n",
            "100.0% You'd have to drain the swamp to find the loathsome bottom-dwellers populating the Trump cabal.\n",
            "100.0% Kill `em all, but save 6 for pallbearers! The Trump \"administration\" is evil, cruel, and dark. Get these maniacs gone! Let's drain the swamp of the Trump predators!\n",
            "100.0% Fire the Special Prosecutor, drain the whole swamp. Stop the Russia wet dream and start prosecuting people like Hillary, Lynch, Holder and other Obama appointed criminals.\n",
            "100.0% Drain the swamp...............deport the PFD trash.  Keep crime breakers in prison.\n",
            "100.0% Draining the Swamp   = Pink slips for thousands of useless snivel servants.\n",
            "100.0% When you call a guy who spent years in a POW camp, a coward, don't be surprised when that same guy delivers a well timed shot to your head.\n",
            "Old time hockey Donald..\n",
            "Drain the swamp!\n",
            "==================================================\n",
            "Topic 2\n",
            "100.0% No, your logic is entirely upside down.  The unborn human's right to life obligates the mother to NOT do something; kill him or her.\n",
            "\n",
            "The mother obligated herself to give birth when she engaged in the sexual act and conceived.\n",
            "100.0% Trump and the entire Republican party are the inheritors and millennial Phoenixes of the 3rd Reich installed in a well-orchestrated, billionaire funded coup in the new 4th Reich.  Fascism is alive and well waiting to tear apart the governing system of the United States and unleash the Brown Shirts and Gestapo on the populace.  North Dakota is the first state to implement the violent overthrow of all human rights without any defense from the cowards currently in government and the entire Democratic Party.\n",
            "100.0% Why submit a new Equal Rights Amendment (ERA)? United 4 Equality proposed their bill to remove Congress's deadline for the last three states needed to ratify the ERA . It is foolish to assume women have the time, money and energy to wage a 50-state campaign for human rights that should have never been denied. Equality for 1/2 our population is just plain smart - economically, socially and politically.\n",
            "100.0% I concur with people needing to read these comments of yours which are so unbelievable as to be absolute garbage.  Every Monarchy and Emperor is a full-fledged Capitalist.  Capitalism is the ability of a privileged few to control all people and resources for the benefit of the few.  The only individualism is with the few potentates. The Corporate structure is just the modern version with CEOs and Boards of Directors controlling all the wealth for a few majority stock holders.  The rest are just along for the ride.  All drug companies within this nation are now foreign owned through the Wall Street deregulated system of acquisition by the few in the Corporate pyramids.  U.S. citizenship is no longer necessary to own all of the resources of the nation.  Pure Capitalism as currently operated in Russian and the U.S. places all wealth under the control of the few Billionaire Barons.  Europe is now the human rights beacon of democracy formerly claimed by the U.S.  No longer in this nation.\n",
            "94.3% \"The Europeans had only partly freed themselves from this fear of their differences when the migrant crisis struck in 2015. Of course, it is not a “migrant” crisis. That is what Europeans have called it, as if to deflect what was really happening. And in the process, the old idea of borders, rivers, mountains, bridges, walls and fences as places to fear the other has been revived. The person on the other side! The person who may cross over.\"\n",
            "\n",
            "If it is not a migrant invasion then what is it Mr. Saul? It is an orchestrated invasion...\n",
            "Centuries behind when peoples of Europe were struck by the Ottomans invasions...they were loosing their lives, children were stolen from homes, women were raped ...But at least everything was clear. \n",
            "Rulers called for the nations' armies and threw the Ottomans out...that was just an example of many more invasions and invaders.\n",
            "\n",
            "This is what happens now...but politic and not  the  human rights justice(it is not a b it!) who pushes the mongrelizing world.\n",
            "95.2% I hate to burst Canada's hubris bubble but it too is a terrible human rights abuser. Alberta and BC sentenced disabled people into experiments and killed many all in secret from 1933 to 1975.  BC has never divulged what it did and to who. It destroyed the records and targets those who know something to this day. It hides these acts because they are shameful.  Our secret hidden crimes against humanity. \n",
            "\n",
            "Ralph Klein said the actions of Alberta were not criminal. Yes they were Ralph its called assault, hate crimes, and crimes against humanity when you forced experiments on people you call animals, slaves and subhuman and treat them that way. Especially when they were not what you said they were in the first place. Simple.  \n",
            "\n",
            "Why do you think Canada won't sign the UN rights of the disabled? Because they might have to come clean on their horrible criminal past. \n",
            "\n",
            "Do we deserve our human rights reputation or is that propaganda?\n",
            "==================================================\n",
            "Topic 3\n",
            "100.0% Is the following an \"attempted sexual assault?\" many of these researchers would say, \"yes\":\n",
            "\n",
            "A man introduces himself to a woman, and asks if he can buy he a drink. She politely declines. The man leaves and there is no further interaction. \n",
            "\n",
            "Why is it an attempted Sexual Assault? Because the man was trying to lower her inhibitions and coerce into sex by plying her with alcohol, and those under the influence of alcohol cannot consent. Add another sex offender who just escaped justice.\n",
            "100.0% Why isnt he-who-must-not-be-named in jail for sexual assault? Oh and for openly assaulting the morals of America and for enabling rapists and racists to scream about their power and need to keep it?\n",
            "\n",
            "For those who are going to reply that Hillary is doing the exact same thing, please post credible references. It would be interesting to see her actually behaving and mobilizing hate groups like he-who-must-not-be-named, beyond conspiracy slander (Im about as interested in conspiracy spam as I am interested in being in the same room as he-who-must-not-be-named).\n",
            "\n",
            "If you are going to bring up Bill, please describe how his influence will impact Hillary's presidency and link to credible references!\n",
            "95.6% False, \"While not every penis rapes, every rapist has a penis\", an emotional statement and not true.\n",
            ".\n",
            "Rape is a type of sexual assault usually involving sexual intercourse or other forms of sexual penetration carried out against a person without that person's consent.\n",
            ".\n",
            "Statutory rape legal definition of statutory rape\n",
            "legal-dictionary.thefreedictionary.com/statutory+rape\n",
            "Sexual intercourse by an adult with a person below a statutorily designated age. The criminal offense of statutory rape is committed when an adult sexually penetrates a person who, under the law, is incapable of consenting to sex.\n",
            ".\n",
            "Rape is a sexual assault by any gender penis or no penis!\n",
            "98.9% Your post is pure sexist stink, period.  If you actually knew anything about numbers you would plainly see by the Globe's investigation that the inconsistency of the numbers from one police station or one region to another  and as a comparison of 'unfoundeds' between sexual assault and other crimes points to a problem in how police investigate sexual assaults.  It does not suggest the alternative in that in the former, women in places where the unfounded rates are higher are therefore bigger liars and in the latter, that women lie far more often than victims of  other crimes.\n",
            "\n",
            "Your underlying assumptions are based on your sexism and fundamentally wrong belief that women cannot be trusted to tell the truth about what happens to them.  You, mister, are not the arbiter of women's truth.\n",
            "100.0% Yes.  I recall one time when my wife came home drunk and performed a particular oral act on me while I was asleep.  I did not consent to this.  By this logic, she should be charged with sexual assault.\n",
            "100.0% The political Far Right makes \"House of Cards\" look like a childhood birthday party.  These psycho's are disgusting antisocials with the likes of Don Young who channels the human pig so well.  Beware America, women are being groped in conservative state houses nation wide, emboldened by the Trump example.  I mean, our president was on tape admitting to countless sexual assaults, and still got elected. The far right waits in the wings like a serpent. Funny how none of the allegations against the Clinton's have eve been proven...................not one, other than a consensual affair with Lewinski, where Blll lied about having sex with her.  But Trump can admit to countless sexual assaults, and the Corporate media can brainwash the Alcohol babies that vote Republican........\n",
            "It truly is a \"New World Order\", and even the top CIA \"spook\" family, the skulls and the Wolf' Heads, know that the Far Right is an evil event in human history.  \n",
            "\n",
            "Resist  !!!!!    Rebel !!!!!\n",
            "==================================================\n"
          ]
        }
      ]
    },
    {
      "cell_type": "code",
      "source": [
        "# creating belongingness of each document in topic\n",
        "combined_data['TOPIC1Belonging'] = np.nan\n",
        "combined_data['TOPIC2Belonging'] = np.nan\n",
        "combined_data['TOPIC3Belonging'] = np.nan\n",
        "combined_data['TOPIC4Belonging'] = np.nan\n",
        "\n",
        "combined_data['TOPIC1LABEL'] = 0\n",
        "combined_data['TOPIC2LABEL'] = 0\n",
        "combined_data['TOPIC3LABEL'] = 0\n",
        "combined_data['TOPIC4LABEL'] = 0\n",
        "\n",
        "t = 0.3\n"
      ],
      "metadata": {
        "id": "65KtI9z4Suew"
      },
      "execution_count": 17,
      "outputs": []
    },
    {
      "cell_type": "code",
      "source": [
        "# adding label to each document above threshold\n",
        "for i in range(len(combined_data)):\n",
        "  combined_data['TOPIC1Belonging'].iloc[i] = W_comments[i][0]/(W_comments[i][0] + W_comments[i][1] + W_comments[i][2] + W_comments[i][3])\n",
        "  combined_data['TOPIC2Belonging'].iloc[i] = W_comments[i][1]/(W_comments[i][0] + W_comments[i][1] + W_comments[i][2] + W_comments[i][3])\n",
        "  combined_data['TOPIC3Belonging'].iloc[i] = W_comments[i][2]/(W_comments[i][0] + W_comments[i][1] + W_comments[i][2] + W_comments[i][3])\n",
        "  combined_data['TOPIC4Belonging'].iloc[i] = W_comments[i][3]/(W_comments[i][0] + W_comments[i][1] + W_comments[i][2] + W_comments[i][3])\n",
        "\n",
        "  \n",
        "  if combined_data['TOPIC1Belonging'].iloc[i] >= t:\n",
        "    combined_data['TOPIC1LABEL'].iloc[i] = 1\n",
        "  if combined_data['TOPIC2Belonging'].iloc[i] >= t:\n",
        "    combined_data['TOPIC2LABEL'].iloc[i] = 1\n",
        "  if combined_data['TOPIC3Belonging'].iloc[i] >= t:\n",
        "    combined_data['TOPIC3LABEL'].iloc[i] = 1\n",
        "  if combined_data['TOPIC4Belonging'].iloc[i] >= t:\n",
        "    combined_data['TOPIC4LABEL'].iloc[i] = 1\n",
        "\n"
      ],
      "metadata": {
        "colab": {
          "base_uri": "https://localhost:8080/"
        },
        "id": "RLaaWX8KOC4g",
        "outputId": "2fe1bcb2-5521-46ee-d5d1-e396839564dc"
      },
      "execution_count": 18,
      "outputs": [
        {
          "output_type": "stream",
          "name": "stderr",
          "text": [
            "/usr/local/lib/python3.8/dist-packages/pandas/core/indexing.py:1732: SettingWithCopyWarning: \n",
            "A value is trying to be set on a copy of a slice from a DataFrame\n",
            "\n",
            "See the caveats in the documentation: https://pandas.pydata.org/pandas-docs/stable/user_guide/indexing.html#returning-a-view-versus-a-copy\n",
            "  self._setitem_single_block(indexer, value, name)\n",
            "<ipython-input-18-dab778020a73>:2: RuntimeWarning: invalid value encountered in double_scalars\n",
            "  combined_data['TOPIC1Belonging'].iloc[i] = W_comments[i][0]/(W_comments[i][0] + W_comments[i][1] + W_comments[i][2] + W_comments[i][3])\n",
            "<ipython-input-18-dab778020a73>:3: RuntimeWarning: invalid value encountered in double_scalars\n",
            "  combined_data['TOPIC2Belonging'].iloc[i] = W_comments[i][1]/(W_comments[i][0] + W_comments[i][1] + W_comments[i][2] + W_comments[i][3])\n",
            "<ipython-input-18-dab778020a73>:4: RuntimeWarning: invalid value encountered in double_scalars\n",
            "  combined_data['TOPIC3Belonging'].iloc[i] = W_comments[i][2]/(W_comments[i][0] + W_comments[i][1] + W_comments[i][2] + W_comments[i][3])\n",
            "<ipython-input-18-dab778020a73>:5: RuntimeWarning: invalid value encountered in double_scalars\n",
            "  combined_data['TOPIC4Belonging'].iloc[i] = W_comments[i][3]/(W_comments[i][0] + W_comments[i][1] + W_comments[i][2] + W_comments[i][3])\n"
          ]
        }
      ]
    },
    {
      "cell_type": "code",
      "source": [
        "# random comment\n",
        "combined_data.loc[461]"
      ],
      "metadata": {
        "colab": {
          "base_uri": "https://localhost:8080/"
        },
        "id": "OFxXoH8WgDv7",
        "outputId": "78fa9603-8ad3-4b81-c417-2917a465b2bb"
      },
      "execution_count": 19,
      "outputs": [
        {
          "output_type": "execute_result",
          "data": {
            "text/plain": [
              "id                                                              5803028\n",
              "comment_text          Here I'll fix this Leftist sophomore literary ...\n",
              "toxicity                                                       0.723077\n",
              "toxicity_label                                                        1\n",
              "toxicity_bins                                                         1\n",
              "processed_comment     Here I will fix this Leftist sophomore literar...\n",
              "lemmatized_comment    fix leftist sophomore literary crap   _org_   ...\n",
              "TOPIC1Belonging                                                  0.5748\n",
              "TOPIC2Belonging                                                0.017416\n",
              "TOPIC3Belonging                                                0.329323\n",
              "TOPIC4Belonging                                                 0.07846\n",
              "TOPIC1LABEL                                                           1\n",
              "TOPIC2LABEL                                                           0\n",
              "TOPIC3LABEL                                                           1\n",
              "TOPIC4LABEL                                                           0\n",
              "Name: 461, dtype: object"
            ]
          },
          "metadata": {},
          "execution_count": 19
        }
      ]
    },
    {
      "cell_type": "code",
      "source": [
        "combined_data.loc[461,'comment_text']"
      ],
      "metadata": {
        "colab": {
          "base_uri": "https://localhost:8080/",
          "height": 53
        },
        "id": "2kpJBBf2gPRu",
        "outputId": "829b9488-06b9-4d2b-d1f5-6b488293319c"
      },
      "execution_count": 20,
      "outputs": [
        {
          "output_type": "execute_result",
          "data": {
            "text/plain": [
              "\"Here I'll fix this Leftist sophomore literary crap once and for all\\n#WHITELIVESMATTER\\nNow STFU communist marxist evil\\nIf you respond in any way that denies me my right to protect my whiteness\\nyou are f'in racist\""
            ],
            "application/vnd.google.colaboratory.intrinsic+json": {
              "type": "string"
            }
          },
          "metadata": {},
          "execution_count": 20
        }
      ]
    }
  ]
}